{
 "cells": [
  {
   "cell_type": "markdown",
   "metadata": {},
   "source": [
    "# SQL\n",
    "## 2020-07-18 175. 组合两个表 - SQL架构\n",
    "表1: Person\n",
    "```\n",
    "+-------------+---------+\n",
    "| 列名         | 类型     |\n",
    "+-------------+---------+\n",
    "| PersonId    | int     |\n",
    "| FirstName   | varchar |\n",
    "| LastName    | varchar |\n",
    "+-------------+---------+\n",
    "PersonId 是上表主键\n",
    "```\n",
    "表2: Address\n",
    "```\n",
    "+-------------+---------+\n",
    "| 列名         | 类型    |\n",
    "+-------------+---------+\n",
    "| AddressId   | int     |\n",
    "| PersonId    | int     |\n",
    "| City        | varchar |\n",
    "| State       | varchar |\n",
    "+-------------+---------+\n",
    "AddressId 是上表主键\n",
    "```\n",
    "\n",
    "编写一个 SQL 查询，满足条件：无论 person 是否有地址信息，都需要基于上述两表提供 person 的以下信息：\n",
    "\n",
    " ```\n",
    " FirstName, LastName, City, State\n",
    " ```"
   ]
  },
  {
   "cell_type": "code",
   "execution_count": null,
   "metadata": {},
   "outputs": [],
   "source": []
  }
 ],
 "metadata": {
  "kernelspec": {
   "display_name": "Python 3",
   "language": "python",
   "name": "python3"
  },
  "language_info": {
   "codemirror_mode": {
    "name": "ipython",
    "version": 3
   },
   "file_extension": ".py",
   "mimetype": "text/x-python",
   "name": "python",
   "nbconvert_exporter": "python",
   "pygments_lexer": "ipython3",
   "version": "3.7.6"
  },
  "toc": {
   "base_numbering": 1,
   "nav_menu": {},
   "number_sections": true,
   "sideBar": true,
   "skip_h1_title": false,
   "title_cell": "Table of Contents",
   "title_sidebar": "Contents",
   "toc_cell": false,
   "toc_position": {},
   "toc_section_display": true,
   "toc_window_display": true
  },
  "varInspector": {
   "cols": {
    "lenName": 16,
    "lenType": 16,
    "lenVar": 40
   },
   "kernels_config": {
    "python": {
     "delete_cmd_postfix": "",
     "delete_cmd_prefix": "del ",
     "library": "var_list.py",
     "varRefreshCmd": "print(var_dic_list())"
    },
    "r": {
     "delete_cmd_postfix": ") ",
     "delete_cmd_prefix": "rm(",
     "library": "var_list.r",
     "varRefreshCmd": "cat(var_dic_list()) "
    }
   },
   "types_to_exclude": [
    "module",
    "function",
    "builtin_function_or_method",
    "instance",
    "_Feature"
   ],
   "window_display": false
  }
 },
 "nbformat": 4,
 "nbformat_minor": 4
}
