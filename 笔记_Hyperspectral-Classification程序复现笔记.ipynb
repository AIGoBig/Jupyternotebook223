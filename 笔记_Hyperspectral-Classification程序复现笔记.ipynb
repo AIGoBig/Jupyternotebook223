{
 "cells": [
  {
   "cell_type": "markdown",
   "metadata": {},
   "source": [
    "## 字典查找网上资源"
   ]
  },
  {
   "cell_type": "code",
   "execution_count": 8,
   "metadata": {},
   "outputs": [],
   "source": [
    "DATASETS_CONFIG = {\n",
    "        'PaviaC': {\n",
    "            'urls': ['http://www.ehu.eus/ccwintco/uploads/e/e3/Pavia.mat', \n",
    "                     'http://www.ehu.eus/ccwintco/uploads/5/53/Pavia_gt.mat'],\n",
    "            'img': 'Pavia.mat',\n",
    "            'gt': 'Pavia_gt.mat'\n",
    "            }\n",
    "}\n",
    "\n",
    "dataset_names = [v['name'] if 'name' in v.keys() else k for k, v in DATASETS_CONFIG.items()]  # PaviaC\n",
    "\n",
    "# for k, v in DATASETS_CONFIG.items():\n",
    "#     if 'name' in v.keys:\n",
    "#         dataset_names = v['name']\n",
    "#     else:\n",
    "#         dataset_names = k\n",
    "      "
   ]
  },
  {
   "cell_type": "markdown",
   "metadata": {},
   "source": [
    "## .format 通过列表/字典设置参数"
   ]
  },
  {
   "cell_type": "code",
   "execution_count": 4,
   "metadata": {},
   "outputs": [
    {
     "name": "stdout",
     "output_type": "stream",
     "text": [
      "网站名：菜鸟教程, 地址 www.runoob.com\n",
      "网站名：菜鸟教程, 地址 www.runoob.com\n",
      "网站名：菜鸟教程, 地址 www.runoob.com\n"
     ]
    }
   ],
   "source": [
    "print(\"网站名：{name}, 地址 {url}\".format(name=\"菜鸟教程\", url=\"www.runoob.com\"))\n",
    "\n",
    "# 通过字典设置参数\n",
    "site = {\"name\": \"菜鸟教程\", \"url\": \"www.runoob.com\"}\n",
    "print(\"网站名：{name}, 地址 {url}\".format(**site))\n",
    " \n",
    "# 通过列表索引设置参数\n",
    "my_list = ['菜鸟教程', 'www.runoob.com']\n",
    "\n",
    "print(\"网站名：{0[0]}, 地址 {0[1]}\".format(my_list))  # \"0\" 是必须的"
   ]
  },
  {
   "cell_type": "markdown",
   "metadata": {},
   "source": [
    "## 打印时间"
   ]
  },
  {
   "cell_type": "code",
   "execution_count": 7,
   "metadata": {},
   "outputs": [
    {
     "name": "stdout",
     "output_type": "stream",
     "text": [
      "time is:  0.0\n"
     ]
    }
   ],
   "source": [
    "import time\n",
    "for i in range(1,10):\n",
    "    for j in range(1,100):\n",
    "        j*i\n",
    "start = time.time()\n",
    "end = time.time()\n",
    "print('time is: ', end - start)"
   ]
  },
  {
   "cell_type": "code",
   "execution_count": null,
   "metadata": {},
   "outputs": [],
   "source": []
  }
 ],
 "metadata": {
  "kernelspec": {
   "display_name": "Python 3",
   "language": "python",
   "name": "python3"
  },
  "language_info": {
   "codemirror_mode": {
    "name": "ipython",
    "version": 3
   },
   "file_extension": ".py",
   "mimetype": "text/x-python",
   "name": "python",
   "nbconvert_exporter": "python",
   "pygments_lexer": "ipython3",
   "version": "3.7.3"
  }
 },
 "nbformat": 4,
 "nbformat_minor": 2
}
