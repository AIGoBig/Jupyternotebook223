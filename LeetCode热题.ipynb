{
 "cells": [
  {
   "cell_type": "markdown",
   "metadata": {},
   "source": [
    "# 概要及参考书"
   ]
  },
  {
   "cell_type": "markdown",
   "metadata": {},
   "source": [
    "## 规范\n",
    "1. 每个题不超过30min思考做题，整个题不超过1h\n",
    "2. 知识点用四级目录\n",
    "3. 按类别刷题时，先看书再刷题"
   ]
  },
  {
   "cell_type": "markdown",
   "metadata": {},
   "source": [
    "## 常用记录"
   ]
  },
  {
   "cell_type": "code",
   "execution_count": 1,
   "metadata": {},
   "outputs": [
    {
     "ename": "NameError",
     "evalue": "name 'asdjflkja' is not defined",
     "output_type": "error",
     "traceback": [
      "\u001b[0;31m---------------------------------------------------------------------------\u001b[0m",
      "\u001b[0;31mNameError\u001b[0m                                 Traceback (most recent call last)",
      "\u001b[0;32m<ipython-input-1-e9352d07b564>\u001b[0m in \u001b[0;36m<module>\u001b[0;34m\u001b[0m\n\u001b[1;32m      1\u001b[0m \u001b[0;32mimport\u001b[0m \u001b[0mpandas\u001b[0m \u001b[0;32mas\u001b[0m \u001b[0mpd\u001b[0m\u001b[0;34m\u001b[0m\u001b[0;34m\u001b[0m\u001b[0m\n\u001b[0;32m----> 2\u001b[0;31m \u001b[0masdjflkja\u001b[0m\u001b[0;34m;\u001b[0m\u001b[0ml\u001b[0m\u001b[0;34m\u001b[0m\u001b[0;34m\u001b[0m\u001b[0m\n\u001b[0m",
      "\u001b[0;31mNameError\u001b[0m: name 'asdjflkja' is not defined"
     ]
    }
   ],
   "source": [
    "import pandas as pd \n",
    "asdjflkja;l"
   ]
  },
  {
   "cell_type": "markdown",
   "metadata": {},
   "source": [
    "#### 打印所有输出"
   ]
  },
  {
   "cell_type": "code",
   "execution_count": null,
   "metadata": {
    "run_control": {
     "marked": true
    }
   },
   "outputs": [],
   "source": [
    "import time\n",
    "# 多行输出\n",
    "from IPython.core.interactiveshell import InteractiveShell \n",
    "InteractiveShell.ast_node_interactivity = 'all'  #默认为'last'"
   ]
  },
  {
   "cell_type": "markdown",
   "metadata": {},
   "source": [
    "# Leetcode按类型"
   ]
  },
  {
   "cell_type": "markdown",
   "metadata": {},
   "source": [
    "## 数组\n",
    "* 有限个**类型相同**的元素的**有序序列**"
   ]
  },
  {
   "cell_type": "markdown",
   "metadata": {},
   "source": [
    "### √ 3.寻找最长无重复字符串(看答案写上) -- -2/10 0:41 上午\n",
    "给定一个字符串，请你找出其中不含有重复字符的 最长子串 的长度。 \n",
    "```\n",
    "shi'li：\n",
    "输入: \"abcabcbb\"\n",
    "输出: 3 \n",
    "解释: 因为无重复字符的最长子串是 \"abc\"，所以其长度为 3。\n",
    "\n",
    "```"
   ]
  },
  {
   "cell_type": "markdown",
   "metadata": {},
   "source": [
    "#### 集合移除左半部分方法\n",
    "```python\n",
    "while s[i] in lookup:\n",
    "    lookup.remove(s[left])\n",
    "```"
   ]
  },
  {
   "cell_type": "code",
   "execution_count": null,
   "metadata": {
    "run_control": {
     "marked": true
    }
   },
   "outputs": [],
   "source": [
    "# 自己写的\n",
    "s = \"abcabcbb\"\n",
    "lists = list(s)\n",
    "start = 0\n",
    "end = 0\n",
    "noduplicate = []\n",
    "length_max = 0\n",
    "for i, item in enumerate(lists,1):\n",
    "    if item not in noduplicate:\n",
    "        length_new = i - start\n",
    "        noduplicate.append(item)\n",
    "        if length_new > length_max:\n",
    "            length_max = length_new        \n",
    "    else:\n",
    "        start += noduplicate.index(item) + 1\n",
    "length_max"
   ]
  },
  {
   "cell_type": "code",
   "execution_count": null,
   "metadata": {
    "run_control": {
     "marked": true
    }
   },
   "outputs": [],
   "source": [
    "# 主要思想:滑动窗口 \n",
    "s = \"abcabcbb\"\n",
    "# s = \"abca\"\n",
    "# s = \"pwwkew\"\n",
    "\n",
    "class Solution:\n",
    "    def lengthOfLongestSubstring(self, s: str) -> int:\n",
    "        if not s: 0\n",
    "        left = 0\n",
    "        lookup = set()\n",
    "        n = len(s)\n",
    "        max_len = 0\n",
    "        cur_len = 0\n",
    "        for i in range(n):\n",
    "            cur_len += 1\n",
    "            while s[i] in lookup:\n",
    "                lookup.remove(s[left])\n",
    "                left += 1\n",
    "                cur_len -= 1\n",
    "            if cur_len > max_len:max_len = cur_len\n",
    "            lookup.add(s[i])  # 新建了一个滑动窗口\n",
    "        return max_len\n",
    "\n",
    "\n",
    "solution = Solution() # 实例化!!!!!\n",
    "solution.lengthOfLongestSubstring(s)\n",
    "print((solution.lengthOfLongestSubstring(s)))"
   ]
  },
  {
   "cell_type": "markdown",
   "metadata": {},
   "source": [
    "### ✔155. 最小栈 2/11 8:34 下午 - 2/11 10:00 下午\n",
    "设计一个支持 push，pop，top 操作，并能在常数时间内检索到最小元素的栈。\n",
    "\n",
    "push(x) -- 将元素 x 推入栈中。\n",
    "pop() -- 删除栈顶的元素。\n",
    "top() -- 获取栈顶元素。\n",
    "getMin() -- 检索栈中的最小元素。\n",
    "```\n",
    "示例:\n",
    "\n",
    "MinStack minStack = new MinStack();\n",
    "minStack.push(-2);\n",
    "minStack.push(0);\n",
    "minStack.push(-3);\n",
    "minStack.getMin();   --> 返回 -3.\n",
    "minStack.pop();\n",
    "minStack.top();      --> 返回 0.\n",
    "minStack.getMin();   --> 返回 -2.\n",
    "```"
   ]
  },
  {
   "cell_type": "code",
   "execution_count": null,
   "metadata": {
    "run_control": {
     "marked": true
    }
   },
   "outputs": [],
   "source": [
    "# 核心思想: 定义辅助栈helper() 提升查找最小值速度\n",
    "class MinStack:\n",
    "\n",
    "    def __init__(self):\n",
    "        \"\"\"\n",
    "        initialize your data structure here.\n",
    "        \"\"\"\n",
    "        self.mylist = []\n",
    "        self.helper = []\n",
    "\n",
    "    def push(self, x: int) -> None:\n",
    "        self.mylist.append(x)\n",
    "        if len(self.helper) == 0 or x <= self.helper[-1]:\n",
    "            self.helper.append(x)\n",
    "\n",
    "    def pop(self) -> None:\n",
    "        top = self.mylist.pop()\n",
    "        if self.helper and top == self.helper[-1]:\n",
    "            self.helper.pop()\n",
    "        return top\n",
    "\n",
    "    def top(self) -> int:\n",
    "        return self.mylist[-1]\n",
    "\n",
    "    def getMin(self) -> int:\n",
    "        # 注意此处不能是等于 否则会改变一个另一个也会变\n",
    "        if self.helper:\n",
    "             return self.helper[-1]\n",
    "           \n",
    "\n",
    "\n",
    "# Your MinStack object will be instantiated and called as such:\n",
    "obj = MinStack()\n",
    "obj.push(-2)\n",
    "obj.push(0)\n",
    "obj.push(-3)\n",
    "# obj.mylist\n",
    "# print(obj.getMin())\n",
    "# obj.pop()\n",
    "obj.mylist\n",
    "# print(obj.top())\n",
    "print((obj.getMin()))"
   ]
  },
  {
   "cell_type": "markdown",
   "metadata": {},
   "source": [
    "### √ 169. 多数元素 2/11 10:07 下午 - 2/11 10:46 下午\n",
    "给定一个大小为 n 的数组，找到其中的多数元素。多数元素是指在数组中出现次数大于 ⌊ n/2 ⌋ 的元素。\n",
    "\n",
    "你可以假设数组是非空的，并且给定的数组总是存在多数元素。\n",
    "```\n",
    "\n",
    "示例 1:\n",
    "\n",
    "输入: [3,2,3]\n",
    "输出: 3\n",
    "示例 2:\n",
    "\n",
    "输入: [2,2,1,1,1,2,2]\n",
    "输出: 2\n",
    "```"
   ]
  },
  {
   "cell_type": "code",
   "execution_count": null,
   "metadata": {
    "run_control": {
     "marked": true
    }
   },
   "outputs": [],
   "source": [
    "# 排序法,自己写的\n",
    "class Solution:\n",
    "    def majorityElement(self, nums) -> int:\n",
    "        nums.sort()\n",
    "        return nums[(len(nums)-1)//2]\n",
    "        \n",
    "nums = [2,2,1,1,1,2,2]\n",
    "solution = Solution()\n",
    "result = solution.majorityElement(nums)\n",
    "print(result)"
   ]
  },
  {
   "cell_type": "code",
   "execution_count": null,
   "metadata": {
    "run_control": {
     "marked": true
    },
    "scrolled": true
   },
   "outputs": [],
   "source": [
    "# Boyer-Moore 投票算法\n",
    "class Solution:\n",
    "    def majorityElement(self, nums) -> int:\n",
    "        count = 0\n",
    "        candidate = None\n",
    "        for num in nums:\n",
    "            if count == 0:\n",
    "                candidate = num\n",
    "            count += (1 if num == candidate else -1)\n",
    "        \n",
    "        return candidate\n",
    "        \n",
    "        \n",
    "nums = [2,2,1,1,1,2,2]\n",
    "solution = Solution()\n",
    "result = solution.majorityElement(nums)\n",
    "print(result)"
   ]
  },
  {
   "cell_type": "markdown",
   "metadata": {},
   "source": [
    "### √ 283. 移动零  2/12 9:49 上午 - 2/12 10:48 上午\n",
    "给定一个数组 nums，编写一个函数将所有 0 移动到数组的末尾，同时保持非零元素的相对顺序。\n",
    "\n",
    "```\n",
    "示例:\n",
    "\n",
    "输入: [0,1,0,3,12]\n",
    "输出: [1,3,12,0,0]\n",
    "说明:\n",
    "\n",
    "必须在原数组上操作，不能拷贝额外的数组。\n",
    "尽量减少操作次数。\n",
    "```\n"
   ]
  },
  {
   "cell_type": "code",
   "execution_count": null,
   "metadata": {
    "run_control": {
     "marked": true
    }
   },
   "outputs": [],
   "source": [
    "# 自己写的,费时 数组操作\n",
    "class Solution:\n",
    "    def moveZeroes(self, nums) -> None:\n",
    "        \"\"\"\n",
    "        Do not return anything, modify nums in-place instead.\n",
    "        \"\"\"\n",
    "        count = 0\n",
    "        while True:\n",
    "            try:\n",
    "                nums.remove(0)\n",
    "                count += 1\n",
    "\n",
    "            except:\n",
    "                nums.extend([0]*count)\n",
    "                break\n",
    "        \n",
    "nums = [0,1,0,3,12]\n",
    "solution = Solution()\n",
    "result = solution.moveZeroes(nums)\n",
    "nums"
   ]
  },
  {
   "cell_type": "code",
   "execution_count": null,
   "metadata": {
    "run_control": {
     "marked": true
    }
   },
   "outputs": [],
   "source": [
    "# 法2: 一次遍历,双指针,检测到0则交换,省时间\n",
    "class Solution:\n",
    "    def moveZeroes(self, nums) -> None:\n",
    "        \"\"\"\n",
    "        Do not return anything, modify nums in-place instead.\n",
    "        \"\"\"\n",
    "        if not nums:\n",
    "            return 0\n",
    "        j = 0\n",
    "        for i in range(len(nums)):\n",
    "            if nums[i] != 0:   # 只有nums[i] != 0 时,j才会加1往前走\n",
    "                nums[j],nums[i] == nums[i],nums[j]\n",
    "                j += 1 \n",
    "                \n",
    "nums = [0,1,0,3,12]\n",
    "solution = Solution()\n",
    "result = solution.moveZeroes(nums)\n",
    "nums"
   ]
  },
  {
   "cell_type": "markdown",
   "metadata": {},
   "source": [
    "### √ 461. 汉明距离 2/12 3:32 下午 -  2/12 4:17 下午\n",
    "两个整数之间的汉明距离指的是这两个数字对应二进制位不同的位置的数目。\n",
    "\n",
    "给出两个整数 x 和 y，计算它们之间的汉明距离。\n",
    "\n",
    "注意：\n",
    "0 ≤ x, y < 2^31.\n",
    "```\n",
    "示例:\n",
    "\n",
    "输入: x = 1, y = 4\n",
    "\n",
    "输出: 2\n",
    "\n",
    "解释:\n",
    "1   (0 0 0 1)\n",
    "4   (0 1 0 0)\n",
    "       ↑  ↑\n",
    "\n",
    "上面的箭头指出了对应二进制位不同的位置。\n",
    "```"
   ]
  },
  {
   "cell_type": "code",
   "execution_count": null,
   "metadata": {
    "run_control": {
     "marked": true
    }
   },
   "outputs": [],
   "source": [
    "class Solution:\n",
    "    def hammingDistance(self, x: int, y: int) -> int:\n",
    "        return bin(x^y).count('1')  # .count()  计数\n",
    "        \n",
    "x = 1\n",
    "y = 14\n",
    "solution = Solution()\n",
    "result = solution.hammingDistance(x,y)\n",
    "result"
   ]
  },
  {
   "cell_type": "markdown",
   "metadata": {},
   "source": [
    "### √ 581. 最短无序连续子数组 2/12 5:02 下午 - \n",
    "\n",
    "**注意中括号[]不能随便用,要表示先后关系只能用()**\n",
    "\n",
    "给定一个整数数组，你需要寻找一个连续的子数组，如果对这个子数组进行升序排序，那么整个数组都会变为升序排序。\n",
    "\n",
    "你找到的子数组应是最短的，请输出它的长度。\n",
    "```\n",
    "示例 1:\n",
    "\n",
    "输入: [2, 6, 4, 8, 10, 9, 15]\n",
    "输出: 5\n",
    "解释: 你只需要对 [6, 4, 8, 10, 9] 进行升序排序，那么整个表都会变为升序排序。\n",
    "说明 :\n",
    "\n",
    "输入的数组长度范围在 [1, 10,000]。\n",
    "输入的数组可能包含重复元素 ，所以升序的意思是<=。\n",
    "```"
   ]
  },
  {
   "cell_type": "code",
   "execution_count": null,
   "metadata": {},
   "outputs": [],
   "source": []
  },
  {
   "cell_type": "code",
   "execution_count": null,
   "metadata": {
    "run_control": {
     "marked": true
    }
   },
   "outputs": [],
   "source": [
    "class Solution:\n",
    "    def findUnsortedSubarray(self, nums) -> int:\n",
    "        nums_sorted = sorted(nums)\n",
    "        print((nums,nums_sorted))\n",
    "        if not [(nums > nums_sorted) - (nums < nums_sorted)]:\n",
    "            return 0  \n",
    "        else:\n",
    "            end = 0\n",
    "            start = 0\n",
    "            for i in range(len(nums)):\n",
    "                if nums[i] != nums_sorted[i]:\n",
    "                    start = i\n",
    "                    break\n",
    "            for i in range(1,len(nums)):\n",
    "                if nums[-i] != nums_sorted[-i]:\n",
    "                    end = len(nums)-i\n",
    "                    break\n",
    "\n",
    "            length = end - start + 1\n",
    "            return length\n",
    "\n",
    "    \n",
    "# nums = [2,6,4,8,9,22,15]\n",
    "nums = [1,2,3,4]\n",
    "solution = Solution()\n",
    "result = solution.findUnsortedSubarray(nums)\n",
    "result"
   ]
  },
  {
   "cell_type": "markdown",
   "metadata": {},
   "source": [
    "### [困难，未做]4. 寻找两个有序数组的中位数 2月18, 3:09 - \n",
    "给定两个大小为 m 和 n 的有序数组 nums1 和 nums2。\n",
    "\n",
    "请你找出这两个有序数组的中位数，并且要求算法的时间复杂度为 O(log(m + n))。\n",
    "\n",
    "你可以假设 nums1 和 nums2 不会同时为空。\n",
    "``` python\n",
    "示例 1:\n",
    "\n",
    "nums1 = [1, 3]\n",
    "nums2 = [2]\n",
    "\n",
    "则中位数是 2.0\n",
    "示例 2:\n",
    "\n",
    "nums1 = [1, 2]\n",
    "nums2 = [3, 4]\n",
    "\n",
    "则中位数是 (2 + 3)/2 = 2.5\n",
    "```\n"
   ]
  },
  {
   "cell_type": "code",
   "execution_count": null,
   "metadata": {
    "run_control": {
     "marked": true
    }
   },
   "outputs": [],
   "source": [
    "nums1 = [1, 2] \n",
    "nums2 = [3, 4]\n",
    "nums1.append"
   ]
  },
  {
   "cell_type": "code",
   "execution_count": null,
   "metadata": {
    "run_control": {
     "marked": true
    }
   },
   "outputs": [],
   "source": [
    "class Solution:\n",
    "    def findMedianSortedArrays(self, nums1: List[int], nums2: List[int]) -> float:\n",
    "        "
   ]
  },
  {
   "cell_type": "markdown",
   "metadata": {},
   "source": [
    "## 堆栈stack"
   ]
  },
  {
   "cell_type": "markdown",
   "metadata": {},
   "source": [
    "### 20. 有效的括号 2/10 10:10 上午 - 2/10 3:56 下午\n",
    "**注意: range(x)取不到x**\n",
    "\n",
    "给定一个只包括 '('，')'，'{'，'}'，'['，']' 的字符串，判断字符串是否有效。\n",
    "\n",
    "有效字符串需满足：\n",
    "\n",
    "左括号必须用相同类型的右括号闭合。\n",
    "左括号必须以正确的顺序闭合。\n",
    "注意空字符串可被认为是有效字符串。\n",
    "\n",
    "\n",
    "``` \n",
    "示例 1:\n",
    "输入: \"()\"\n",
    "输出: true\n",
    "示例 2:\n",
    "\n",
    "输入: \"()[]{}\"\n",
    "输出: true\n",
    "示例 3:\n",
    "\n",
    "输入: \"(]\"\n",
    "输出: false\n",
    "示例 4:\n",
    "\n",
    "输入: \"([)]\"\n",
    "输出: false\n",
    "示例 5:\n",
    "\n",
    "输入: \"{[]}\"\n",
    "输出: true\n",
    "\n",
    "```"
   ]
  },
  {
   "cell_type": "code",
   "execution_count": null,
   "metadata": {
    "run_control": {
     "marked": true
    }
   },
   "outputs": [],
   "source": [
    "# s = \"()[]{}\"\n",
    "# s = \"{[]}\"\n",
    "# s = \"()\"\n",
    "s = \")]\"\n",
    "# s = \"([)]\"\n",
    "s[-1]\n",
    "len(s)/2"
   ]
  },
  {
   "cell_type": "code",
   "execution_count": null,
   "metadata": {
    "run_control": {
     "marked": true
    }
   },
   "outputs": [],
   "source": [
    "# answer\n",
    "# 主要思想:堆栈stack\n",
    "class Solution(object):\n",
    "    def isValid(self, s):\n",
    "        \"\"\"\n",
    "        :type s: str\n",
    "        :rtype: bool\n",
    "        \"\"\"\n",
    "\n",
    "        # The stack to keep track of opening brackets.\n",
    "        stack = []\n",
    "\n",
    "        # Hash map for keeping track of mappings. This keeps the code very clean.\n",
    "        # Also makes adding more types of parenthesis easier\n",
    "        mapping = {\")\": \"(\", \"}\": \"{\", \"]\": \"[\"}\n",
    "\n",
    "        # For every bracket in the expression.\n",
    "        for char in s:\n",
    "\n",
    "            # If the character is an closing bracket\n",
    "            if char in mapping:\n",
    "\n",
    "                # Pop the topmost element from the stack, if it is non empty\n",
    "                # Otherwise assign a dummy value of '#' to the top_element variable\n",
    "                top_element = stack.pop() if stack else '#'\n",
    "\n",
    "                # The mapping for the opening bracket in our hash and the top\n",
    "                # element of the stack don't match, return False\n",
    "                if mapping[char] != top_element:\n",
    "                    return False\n",
    "            else:\n",
    "                # We have an opening bracket, simply push it onto the stack.\n",
    "                stack.append(char)\n",
    "\n",
    "        # In the end, if the stack is empty, then we have a valid expression.\n",
    "        # The stack won't be empty for cases like ((()\n",
    "        return not stack"
   ]
  },
  {
   "cell_type": "code",
   "execution_count": null,
   "metadata": {
    "run_control": {
     "marked": true
    }
   },
   "outputs": [],
   "source": [
    "solution = Solution() # 实例化!!!!!\n",
    "solution.isValid(s)"
   ]
  },
  {
   "cell_type": "code",
   "execution_count": null,
   "metadata": {
    "run_control": {
     "marked": true
    }
   },
   "outputs": [],
   "source": [
    "# try2:\n",
    "class Solution:\n",
    "    def isValid(self, s: str) -> bool:\n",
    "        dec = {  '(': ')',\n",
    "               '{': '}', \n",
    "               '[': ']' }\n",
    "        s = list(s)\n",
    "        print(s)\n",
    "        if len(s) == 0:return True\n",
    "        if (len(s) % 2) == 1:return False # 奇数个时  \n",
    "\n",
    "#     def cellpop()\n",
    "    \n",
    "        while s:\n",
    "            for i in range(int(len(s)/2)):  # 注意range(x)取不到x \n",
    "                print(i)\n",
    "                if s[i] in dec:\n",
    "                    if dec[s[i]] == s[i+1]:\n",
    "                        s.pop(i+1)\n",
    "                        s.pop(i)\n",
    "                        print(('s=',s))\n",
    "                        break\n",
    "                    else:pass\n",
    "            else:\n",
    "                print('wrong')\n",
    "                return False\n",
    "        return True"
   ]
  },
  {
   "cell_type": "code",
   "execution_count": null,
   "metadata": {
    "code_folding": [],
    "run_control": {
     "marked": true
    }
   },
   "outputs": [],
   "source": [
    "# try1:\n",
    "class Solution:\n",
    "    def isValid(self, s: str) -> bool:\n",
    "        if len(s) == 0:return True\n",
    "        if (len(s) % 2) == 1:return False # 奇数个时      \n",
    "        left = s[0]\n",
    "        right_exp = dec[s[0]]\n",
    "        right_ind = s.index(right_exp)\n",
    "        if (s.index % 2) == 0:return False \n",
    "        else:\n",
    "            s_cell = s[1:(s.index-1)]\n",
    "            symbolcell(s_cell)\n",
    "        print(left,right_exp,right_ind)\n",
    "    \n",
    "    def symbolcell(self, s_cell):\n",
    "        for i in range(len(s_cell)-1):"
   ]
  },
  {
   "cell_type": "markdown",
   "metadata": {},
   "source": [
    "## 链表"
   ]
  },
  {
   "cell_type": "markdown",
   "metadata": {},
   "source": [
    "1. \n",
    "链表允许插入和移除表上任意位置上的节点，但是不允许随机存取。链表有很多种不同的类型：单向链表，双向链表以及循环链表。\n",
    "链表通常可以衍生出循环链表，静态链表，双链表等。对于链表使用，需要注意头结点的使用。\n",
    "\n",
    "```\n",
    "# Definition for singly-linked list.\n",
    "# class ListNode:\n",
    "#     def __init__(self, val=0, next=None):\n",
    "#         self.val = val\n",
    "#         self.next = next\n",
    "```\n",
    "2. \n",
    "链表中的“哨兵”节点是解决边界问题的，不参与业务逻辑。如果我们引入“哨兵”节点，则不管链表是否为空，head指针都会指向这个“哨兵”节点。我们把这种有“哨兵”节点的链表称为带头链表，相反，没有“哨兵”节点的链表就称为不带头链表。\n"
   ]
  },
  {
   "cell_type": "markdown",
   "metadata": {},
   "source": [
    "#### list to linklist 自建类"
   ]
  },
  {
   "cell_type": "code",
   "execution_count": null,
   "metadata": {},
   "outputs": [],
   "source": [
    "# 自建库\n",
    "# Definition for singly-linked list.\n",
    "class ListNode:\n",
    "    def __init__(self, val=0, next=None):\n",
    "        self.val = val\n",
    "        self.next = next\n",
    "    def initList(self, data):\n",
    "        # 判断是否为空\n",
    "        if len(data) == 0:\n",
    "            return\n",
    "        else:\n",
    "            # 创建头结点\n",
    "            self.head = ListNode(data[0])\n",
    "            # 头结点\n",
    "            r = self.head  \n",
    "            # 指针 \n",
    "            p = self.head   \n",
    "            # 逐个为 data 内的数据创建结点, 建立链表\n",
    "            for i in data[1:]:\n",
    "                node = ListNode(i)\n",
    "                p.next = node\n",
    "                p = p.next\n",
    "            return r\n",
    "        \n",
    "    def linklist2List(self, linklist):\n",
    "        List = []\n",
    "\n",
    "        while linklist:\n",
    "            List.append(linklist.val)\n",
    "            linklist = linklist.next\n",
    "        return List"
   ]
  },
  {
   "cell_type": "code",
   "execution_count": null,
   "metadata": {
    "scrolled": true
   },
   "outputs": [],
   "source": [
    "# 使用\n",
    "l1 = [1,2,4]\n",
    "l2 = [1,3,4]\n",
    "\n",
    "List2Linklist = ListNode()\n",
    "l1 = List2Linklist.initList(l1)\n",
    "l2 = List2Linklist.initList(l2)\n",
    "\n",
    "print(l1.val, \"->\", l1.next.val, \"->\", l1.next.next.val)\n",
    "print(l2.val, \"->\", l2.next.val, \"->\", l2.next.next.val)\n",
    "print(List2Linklist.linklist2List(l1))\n",
    "# List2Linklist.printLinklist(result)"
   ]
  },
  {
   "cell_type": "code",
   "execution_count": null,
   "metadata": {},
   "outputs": [],
   "source": []
  },
  {
   "cell_type": "markdown",
   "metadata": {},
   "source": [
    "### 21. 合并两个有序链表 2/10 4:07 下午 -- 2/10 5:50 下午\n",
    "将两个有序链表合并为一个新的有序链表并返回。新链表是通过拼接给定的两个链表的所有节点组成的。 \n",
    "```\n",
    "示例：\n",
    "\n",
    "输入：1->2->4, 1->3->4\n",
    "输出：1->1->2->3->4->4\n",
    "```\n",
    "\n"
   ]
  },
  {
   "cell_type": "markdown",
   "metadata": {},
   "source": [
    "#### 2️⃣  (1.5h)2020-07-21  1:43"
   ]
  },
  {
   "cell_type": "code",
   "execution_count": null,
   "metadata": {
    "code_folding": [],
    "run_control": {
     "marked": true
    }
   },
   "outputs": [],
   "source": [
    "# 标准\n",
    "class Solution:\n",
    "    def mergeTwoLists(self, l1: ListNode, l2: ListNode) -> ListNode:\n",
    "        # maintain an unchanging reference to node ahead of the return node.\n",
    "        prehead = ListNode(-1)  # 哨兵节点，让我们容易的返回合并后的链表\n",
    "\n",
    "        prev = prehead  # prev指针，我们调整它的next指针，直到l1或者l2某一个指向了NULL\n",
    "        while l1 and l2:\n",
    "            if l1.val <= l2.val:\n",
    "                prev.next = l1\n",
    "                l1 = l1.next  # 注意l1的指针也要移动\n",
    "            else:\n",
    "                prev.next = l2\n",
    "                l2 = l2.next\n",
    "            prev = prev.next  # 指向下一个值\n",
    "        prev.next = l1 if l1 is not None else l2\n",
    "        \n",
    "        return prehead.next # 返回入口地址"
   ]
  },
  {
   "cell_type": "code",
   "execution_count": null,
   "metadata": {
    "scrolled": true
   },
   "outputs": [],
   "source": [
    "l1 = [1,2,4]\n",
    "l2 = [1,3,4]\n",
    "\n",
    "List2Linklist = ListNode()\n",
    "l1 = List2Linklist.initList(l1)\n",
    "l2 = List2Linklist.initList(l2)\n",
    "\n",
    "solution = Solution()\n",
    "result = solution.mergeTwoLists(l1,l2)\n",
    "\n",
    "print(l1.val, \"->\", l1.next.val, \"->\", l1.next.next.val)\n",
    "print(l2.val, \"->\", l2.next.val, \"->\", l2.next.next.val)\n",
    "print(List2Linklist.linklist2List(result))\n",
    "# List2Linklist.printLinklist(result)"
   ]
  },
  {
   "cell_type": "markdown",
   "metadata": {},
   "source": [
    "### 2020-07-18 10:48 206. 反转链表\n",
    "反转一个单链表。\n",
    "```\n",
    "示例:\n",
    "\n",
    "输入: 1->2->3->4->5->NULL\n",
    "输出: 5->4->3->2->1->NULL\n",
    "```\n",
    "进阶:\n",
    "你可以迭代或递归地反转链表。你能否用两种方法解决这道题？\n"
   ]
  },
  {
   "cell_type": "code",
   "execution_count": null,
   "metadata": {
    "code_folding": []
   },
   "outputs": [],
   "source": [
    "class Solution(object):\n",
    "\tdef reverseList(self, head):\n",
    "\t\t\"\"\"\n",
    "\t\t:type head: ListNode\n",
    "\t\t:rtype: ListNode\n",
    "\t\t\"\"\"\n",
    "\t\t# 申请两个节点，pre和 cur，pre指向None\n",
    "\t\tpre = None\n",
    "\t\tcur = head\n",
    "\t\t# 遍历链表，while循环里面的内容其实可以写成一行\n",
    "\t\t# 这里只做演示，就不搞那么骚气的写法了\n",
    "\t\twhile cur:\n",
    "\t\t\t# 记录当前节点的下一个节点\n",
    "\t\t\ttmp = cur.next\n",
    "\t\t\t# 然后将当前节点指向pre\n",
    "\t\t\tcur.next = pre\n",
    "\t\t\t# pre和cur节点都前进一位\n",
    "\t\t\tpre = cur\n",
    "\t\t\tcur = tmp\n",
    "\t\treturn pre\t\n"
   ]
  },
  {
   "cell_type": "markdown",
   "metadata": {},
   "source": [
    "#### 2️⃣ (1.5h) 2020-07-21  3:28"
   ]
  },
  {
   "cell_type": "code",
   "execution_count": null,
   "metadata": {},
   "outputs": [],
   "source": [
    "class Solution(object):\n",
    "    def reverseList(self, head):\n",
    "        pre = None\n",
    "        cur = head\n",
    "        while cur:\n",
    "            temp = cur.next\n",
    "            cur.next = pre  # 反转指针操作\n",
    "            pre = cur \n",
    "            cur = temp\n",
    "        return pre"
   ]
  },
  {
   "cell_type": "code",
   "execution_count": null,
   "metadata": {},
   "outputs": [],
   "source": [
    "List = [1,2,3,4,5]\n",
    "List2Linklist = ListNode()\n",
    "l1 = List2Linklist.initList(List)\n",
    "print(l1.val, \"->\", l1.next.val, \"->\", l1.next.next.val)\n",
    "from typing import List\n",
    "\n",
    "solution = Solution()\n",
    "result = solution.reverseList(l1)\n",
    "result\n",
    "print(result.val, \"->\", result.next.val, \"->\", result.next.next.val)"
   ]
  },
  {
   "cell_type": "markdown",
   "metadata": {},
   "source": [
    "### √ (15m)2020-07-21 16:30 请编写一个函数，使其可以删除某个链表中给定的（非末尾）节点，你将只被给定要求被删除的节点。\n",
    "\n",
    "现有一个链表 -- head = [4,5,1,9]，它可以表示为:\n",
    "![image.png](https://assets.leetcode-cn.com/aliyun-lc-upload/uploads/2019/01/19/237_example.png)\n",
    "\n",
    "\n",
    " \n",
    "\n",
    "```\n",
    "示例 1:\n",
    "\n",
    "输入: head = [4,5,1,9], node = 5\n",
    "输出: [4,1,9]\n",
    "解释: 给定你链表中值为 5 的第二个节点，那么在调用了你的函数之后，该链表应变为 4 -> 1 -> 9.\n",
    "示例 2:\n",
    "\n",
    "输入: head = [4,5,1,9], node = 1\n",
    "输出: [4,5,9]\n",
    "解释: 给定你链表中值为 1 的第三个节点，那么在调用了你的函数之后，该链表应变为 4 -> 5 -> 9.\n",
    "\n",
    "```"
   ]
  },
  {
   "cell_type": "code",
   "execution_count": null,
   "metadata": {},
   "outputs": [],
   "source": [
    "class Solution:\n",
    "    def deleteNode(self, node):\n",
    "        \"\"\"\n",
    "        :type node: ListNode\n",
    "        :rtype: void Do not return anything, modify node in-place instead.\n",
    "        \"\"\"\n",
    "        node.val = node.next.val\n",
    "        node.next = node.next.next"
   ]
  },
  {
   "cell_type": "markdown",
   "metadata": {},
   "source": [
    "### √(50m)2020-07-21 20:30 203. 移除链表元素\n",
    "删除链表中等于给定值 val 的所有节点。\n",
    "\n",
    "```\n",
    "示例:\n",
    "\n",
    "输入: 1->2->6->3->4->5->6, val = 6\n",
    "输出: 1->2->3->4->5\n",
    "```"
   ]
  },
  {
   "cell_type": "markdown",
   "metadata": {},
   "source": [
    "哨兵节点广泛应用于树和链表中，如伪头、伪尾、标记等，它们是纯功能的，通常不保存任何数据，其主要目的是使链表标准化，如使链表永不为空、永不无头、简化插入和删除。\n",
    "\n",
    "![image.png](https://pic.leetcode-cn.com/c650a78cb34caf9a00469651abfc14181c474e2c6152e87273092e7dfd331f19-file_1578026286317)\n",
    "\n",
    "在这里哨兵节点将被用于伪头。\n",
    "\n"
   ]
  },
  {
   "cell_type": "code",
   "execution_count": null,
   "metadata": {},
   "outputs": [],
   "source": [
    "# Definition for singly-linked list.\n",
    "# class ListNode:\n",
    "#     def __init__(self, x):\n",
    "#         self.val = x\n",
    "#         self.next = None\n",
    "\n",
    "class Solution:\n",
    "    def removeElements(self, head: ListNode, val: int) -> ListNode:        \n",
    "        if not head: return None\n",
    "        while head and head.val == val:\n",
    "            if head.next: head = head.next\n",
    "            else: \n",
    "                head.next = None\n",
    "                return None\n",
    "\n",
    "\n",
    "        prehead = head\n",
    "\n",
    "        while head.next:\n",
    "            if head.next.val == val and head.next.next:\n",
    "                head.next = head.next.next\n",
    "            elif  head.next.val == val and not head.next.next:\n",
    "                head.next = None\n",
    "            else:\n",
    "                head = head.next\n",
    "        return prehead\n",
    "        "
   ]
  },
  {
   "cell_type": "code",
   "execution_count": null,
   "metadata": {},
   "outputs": [],
   "source": [
    "# 官方\n",
    "\n",
    "class Solution:\n",
    "    def removeElements(self, head: ListNode, val: int) -> ListNode:\n",
    "        sentinel = ListNode(0) # 哨兵节点\n",
    "        sentinel.next = head\n",
    "        \n",
    "        prev,curr = sentinel,head\n",
    "        while curr:\n",
    "            if curr.val == val:  #  双指针，如果curr删除，prev同时移动\n",
    "                prev.next == curr.next\n",
    "            else:\n",
    "                prev = curr\n",
    "            curr = curr.next\n",
    "            \n",
    "        return sentinel.next"
   ]
  },
  {
   "cell_type": "markdown",
   "metadata": {},
   "source": [
    "### (20m)2020-07-21 21:22 234. 回文链表\n",
    "请判断一个链表是否为回文链表。\n",
    "\n",
    "```\n",
    "示例 1:\n",
    "\n",
    "输入: 1->2\n",
    "输出: false\n",
    "示例 2:\n",
    "\n",
    "输入: 1->2->2->1\n",
    "输出: true\n",
    "进阶：\n",
    "你能否用 O(n) 时间复杂度和 O(1) 空间复杂度解决此题？\n",
    "```"
   ]
  },
  {
   "cell_type": "code",
   "execution_count": null,
   "metadata": {},
   "outputs": [],
   "source": [
    "# Definition for singly-linked list.\n",
    "# class ListNode:\n",
    "#     def __init__(self, x):\n",
    "#         self.val = x\n",
    "#         self.next = None\n",
    "\n",
    "class Solution:\n",
    "    def isPalindrome(self, head: ListNode) -> bool:\n",
    "        \n",
    "            "
   ]
  },
  {
   "cell_type": "code",
   "execution_count": null,
   "metadata": {},
   "outputs": [],
   "source": [
    "# 官解，数组\n",
    "def isPalindrome(self, head: ListNode) -> bool:\n",
    "    vals = []\n",
    "    current_node = head\n",
    "    while current_node is not None:\n",
    "        vals.append(current_node.val)\n",
    "        current_node = current_node.next\n",
    "    return vals == vals[::-1]\n",
    "\n"
   ]
  },
  {
   "cell_type": "code",
   "execution_count": null,
   "metadata": {},
   "outputs": [],
   "source": [
    "# 官解，反转后半部分链表\n",
    "# 方法三：\n",
    "# 避免使用 O(n)O(n) 额外空间的方法就是改变输入。\n",
    "\n",
    "# 我们可以将链表的后半部分反转（修改链表结构），然后将前半部分和后半部分进行比较。比较完成后我们应该将链表恢复原样。虽然不需要恢复也能通过测试用例，因为使用该函数的人不希望链表结构被更改。\n",
    "\n",
    "# 算法：\n",
    "\n",
    "# 我们可以分为以下几个步骤：\n",
    "\n",
    "# 找到前半部分链表的尾节点。\n",
    "# 反转后半部分链表。\n",
    "# 判断是否为回文。\n",
    "# 恢复链表。\n",
    "# 返回结果。"
   ]
  },
  {
   "cell_type": "markdown",
   "metadata": {},
   "source": [
    "### √(50m)2020-07-21 21:41 2. 两数相加\n",
    "给出两个 非空 的链表用来表示两个非负的整数。其中，它们各自的位数是按照 逆序 的方式存储的，并且它们的每个节点只能存储 一位 数字。\n",
    "\n",
    "如果，我们将这两个数相加起来，则会返回一个新的链表来表示它们的和。\n",
    "\n",
    "您可以假设除了数字 0 之外，这两个数都不会以 0 开头。\n",
    "\n",
    "```\n",
    "示例：\n",
    "\n",
    "输入：(2 -> 4 -> 3) + (5 -> 6 -> 4)\n",
    "输出：7 -> 0 -> 8\n",
    "原因：342 + 465 = 807\n",
    "```"
   ]
  },
  {
   "cell_type": "code",
   "execution_count": null,
   "metadata": {},
   "outputs": [],
   "source": [
    "# Definition for singly-linked list.\n",
    "# class ListNode:\n",
    "#     def __init__(self, x):\n",
    "#         self.val = x\n",
    "#         self.next = None\n",
    "\n",
    "class Solution:\n",
    "    def addTwoNumbers(self, l1: ListNode, l2: ListNode) -> ListNode:\n",
    "\n",
    "        prehead = ListNode(-1)\n",
    "        newlinklist = prehead\n",
    "\n",
    "        carry = 0\n",
    "        while l1 and l2:\n",
    "            newlinklist.next = ListNode((l1.val+l2.val + carry)%10)  # 新建linklist的方法，注意不能linklist.val == \n",
    "            newlinklist = newlinklist.next\n",
    "            carry = (l1.val+l2.val + carry)//10\n",
    "            l1, l2 = l1.next, l2.next\n",
    "        while l1 and l2 is None:\n",
    "            newlinklist.next = ListNode((l1.val + carry)%10)\n",
    "            newlinklist = newlinklist.next\n",
    "            carry = (l1.val + carry)\n",
    "            l1 = l1.next\n",
    "        while l2 and l1 is None:\n",
    "            newlinklist.next = ListNode((l2.val + carry)%10)\n",
    "            newlinklist = newlinklist.next\n",
    "            carry = (l2.val + carry)\n",
    "            l2 = l2.next\n",
    "        if carry == 1: newlinklist.next = ListNode(carry) \n",
    "        return prehead.next\n",
    "                \n"
   ]
  },
  {
   "cell_type": "markdown",
   "metadata": {},
   "source": []
  },
  {
   "cell_type": "code",
   "execution_count": null,
   "metadata": {},
   "outputs": [],
   "source": []
  },
  {
   "cell_type": "code",
   "execution_count": null,
   "metadata": {},
   "outputs": [],
   "source": []
  },
  {
   "cell_type": "code",
   "execution_count": null,
   "metadata": {},
   "outputs": [],
   "source": []
  },
  {
   "cell_type": "code",
   "execution_count": null,
   "metadata": {},
   "outputs": [],
   "source": []
  },
  {
   "cell_type": "markdown",
   "metadata": {},
   "source": [
    "## 递归 "
   ]
  },
  {
   "cell_type": "markdown",
   "metadata": {},
   "source": [
    "### 70. 爬楼梯(程序自己写)  2/10 10:06 下午 - 2/11 11:40 上午\n",
    "假设你正在爬楼梯。需要 n 阶你才能到达楼顶。\n",
    "\n",
    "每次你可以爬 1 或 2 个台阶。你有多少种不同的方法可以爬到楼顶呢？\n",
    "\n",
    "注意：给定 n 是一个正整数。\n",
    "```\n",
    "示例 1：\n",
    "\n",
    "输入： 2\n",
    "输出： 2\n",
    "解释： 有两种方法可以爬到楼顶。\n",
    "1.  1 阶 + 1 阶\n",
    "2.  2 阶\n",
    "示例 2：\n",
    "\n",
    "输入： 3\n",
    "输出： 3\n",
    "解释： 有三种方法可以爬到楼顶。\n",
    "1.  1 阶 + 1 阶 + 1 阶\n",
    "2.  1 阶 + 2 阶\n",
    "3.  2 阶 + 1 阶\n",
    "\n",
    "```"
   ]
  },
  {
   "cell_type": "code",
   "execution_count": null,
   "metadata": {
    "code_folding": [],
    "run_control": {
     "marked": true
    }
   },
   "outputs": [],
   "source": [
    "# 暴力解法(递归, 状态空间)\n",
    "class Solution:\n",
    "    def climbStairs_step(self, i , n):\n",
    "        global sum\n",
    "        if i > n:\n",
    "            return \n",
    "        if i == n:\n",
    "            sum += 1\n",
    "            return\n",
    "        return self.climbStairs_step(i+1,n), self.climbStairs_step(i+2,n)\n",
    "    \n",
    "    def climbStairs(self, n: int) -> int: \n",
    "        global sum\n",
    "        sum = 0\n",
    "        self.climbStairs_step(0, n)\n",
    "#         print(sum)\n",
    "        return sum"
   ]
  },
  {
   "cell_type": "code",
   "execution_count": null,
   "metadata": {
    "run_control": {
     "marked": true
    }
   },
   "outputs": [],
   "source": [
    "n = 5\n",
    "solution = Solution()\n",
    "result = solution.climbStairs(n)\n",
    "print(result)"
   ]
  },
  {
   "cell_type": "code",
   "execution_count": null,
   "metadata": {
    "run_control": {
     "marked": true
    }
   },
   "outputs": [],
   "source": [
    "# 记忆化递归(修复的递归树)  -- 未"
   ]
  },
  {
   "cell_type": "code",
   "execution_count": null,
   "metadata": {
    "code_folding": [],
    "run_control": {
     "marked": true
    }
   },
   "outputs": [],
   "source": [
    "# 动态规划法: 到达第 ii 阶的方法总数就是到第 (i-1)(i−1) 阶和第 (i-2)(i−2) 阶的方法数之和。\n",
    "# dp[i]=dp[i−1]+dp[i−2]\n",
    "class Solution:\n",
    "    def climbStairs(self, n):\n",
    "        dp = [0,1,2]\n",
    "        for i in range(3,n+1):\n",
    "            dp.append(dp[i-2] + dp[i-1])\n",
    "            \n",
    "        return dp[n]\n",
    "            \n",
    "n = 10\n",
    "solution = Solution()\n",
    "result = solution.climbStairs(n)\n",
    "print(result)"
   ]
  },
  {
   "cell_type": "code",
   "execution_count": null,
   "metadata": {
    "run_control": {
     "marked": true
    }
   },
   "outputs": [],
   "source": [
    "# 斐波那契数\n",
    "class Solution:\n",
    "    def climbStairs(self, n):\n",
    "        if n==1:return 1\n",
    "        if n==2:return 2\n",
    "        first = 1\n",
    "        second = 2\n",
    "        for i in range(3,n): \n",
    "            third = first + second\n",
    "            first = second\n",
    "            second = third\n",
    "        return second\n",
    "            \n",
    "n = 10\n",
    "solution = Solution()\n",
    "result = solution.climbStairs(n)\n",
    "print(result)"
   ]
  },
  {
   "cell_type": "markdown",
   "metadata": {},
   "source": [
    "## √动态规划(11=9+2)"
   ]
  },
  {
   "cell_type": "markdown",
   "metadata": {},
   "source": [
    "#### 一维动态规划核心思想:\n"
   ]
  },
  {
   "cell_type": "markdown",
   "metadata": {},
   "source": [
    "动态规划背后的基本思想非常简单。大致上，若要解一个给定问题，我们需要解其不同部分（即**子问题**），再根据子问题的解以得出原问题的解。\n",
    "\n",
    "步骤：\n",
    "    1. **建立动态规划数组dp**， 如：dp[i] = max(dp[i-1], dp[i-2] + nums[i-1])\n",
    "    2. **讨论 最后加入最后一个元素 和 不加入最后一个元素 的情况**\n",
    " "
   ]
  },
  {
   "cell_type": "markdown",
   "metadata": {},
   "source": [
    "要求：\n",
    "* 只能处理没有相互依赖关系"
   ]
  },
  {
   "cell_type": "markdown",
   "metadata": {},
   "source": [
    "####  二维动态规划\n",
    "横向：加入新增商品价值 与 没加入该商品时最大价值（上一行） 比较，选择大的"
   ]
  },
  {
   "cell_type": "markdown",
   "metadata": {},
   "source": [
    "大致上，若要解一个给定问题，**我们需要解其不同部分**（即子问题），再根据子问题的解以得出原问题的解。动态规划往往用于**优化递归问题**，例如斐波那契数列，如果运用递归的方式来求解会重复计算很多相同的子问题，利用动态规划的思想可以减少计算量。"
   ]
  },
  {
   "cell_type": "markdown",
   "metadata": {},
   "source": [
    "公式\n",
    "![](https://cdn.jsdelivr.net/gh/sunqinghu/PicRepo/img/2020/20201023173011.png)"
   ]
  },
  {
   "cell_type": "markdown",
   "metadata": {},
   "source": [
    "【例1】背包问题\n",
    "![](https://cdn.jsdelivr.net/gh/sunqinghu/PicRepo/img/2020/20201023173114.png)"
   ]
  },
  {
   "cell_type": "markdown",
   "metadata": {},
   "source": [
    "【例2】旅游行程最优化\n",
    "\n",
    "横向：加入新增商品价值 与 没加入该商品时最大价值（上一行） 比较，选择大的\n",
    "![](https://cdn.jsdelivr.net/gh/sunqinghu/PicRepo/img/2020/20201023173157.png)"
   ]
  },
  {
   "cell_type": "markdown",
   "metadata": {},
   "source": [
    "### √ 53. 最大子序和 2/10 6:09 下午 - 2/10 10:02 下午\n",
    "2月18, 3:36 - 2月18, 4:41\n",
    "\n",
    "给定一个整数数组 nums ，找到一个具有最大和的连续子数组（子数组最少包含一个元素），返回其最大和。\n",
    "\n",
    "```\n",
    "示例:\n",
    "\n",
    "输入: [-2,1,-3,4,-1,2,1,-5,4],\n",
    "输出: 6\n",
    "解释: 连续子数组 [4,-1,2,1] 的和最大，为 6。\n",
    "进阶:\n",
    "```\n",
    "如果你已经实现复杂度为 O(n) 的解法，尝试使用更为精妙的分治法求解。\n"
   ]
  },
  {
   "cell_type": "code",
   "execution_count": null,
   "metadata": {
    "run_control": {
     "marked": true
    }
   },
   "outputs": [],
   "source": [
    "nums = [-2,1,-3,4,-1,2,1,-5,4]\n",
    "max_sum = 0\n",
    "for i in range(1,len(nums)):\n",
    "    if nums[i-1] > 0:\n",
    "        nums[i] = nums[i-1] + nums[i]\n",
    "    max_sum = max(nums[i], max_sum)\n",
    "max_sum"
   ]
  },
  {
   "cell_type": "code",
   "execution_count": null,
   "metadata": {
    "code_folding": [],
    "run_control": {
     "marked": true
    }
   },
   "outputs": [],
   "source": [
    "# 贪心算法\n",
    "nums = [-2,1,-3,4,-1,2,1,-5,4]\n",
    "class Solution:\n",
    "    def maxSubArray(self, nums: 'List[int]') -> 'int':\n",
    "        n = len(nums)\n",
    "        curr_sum = max_sum = nums[0]\n",
    "\n",
    "        for i in range(1, n):\n",
    "            curr_sum = max(nums[i], curr_sum + nums[i])\n",
    "            max_sum = max(curr_sum, max_sum)\n",
    "\n",
    "        return max_sum\n",
    "    \n",
    "solution = Solution()\n",
    "result = solution.maxSubArray(nums)\n",
    "print(result)"
   ]
  },
  {
   "cell_type": "code",
   "execution_count": null,
   "metadata": {
    "run_control": {
     "marked": true
    },
    "scrolled": true
   },
   "outputs": [],
   "source": [
    "# 动态规划 -- 实时改变数组\n",
    "nums = [-2,1,-3,4,-1,2,1,-5,4]\n",
    "class Solution:\n",
    "    def maxSubArray(self, nums: 'List[int]') -> 'int':\n",
    "        n = len(nums)\n",
    "        max_sum = nums[0]\n",
    "\n",
    "        for i in range(1, n):\n",
    "            if nums[i-1] > 0:\n",
    "                nums[i] += nums[i-1] \n",
    "            max_sum = max(nums[i], max_sum)\n",
    "\n",
    "        return max_sum\n",
    "    \n",
    "solution = Solution()\n",
    "result = solution.maxSubArray(nums)\n",
    "print(result) "
   ]
  },
  {
   "cell_type": "markdown",
   "metadata": {},
   "source": [
    "### √ 70. 爬楼梯(程序自己写)  2/10 10:06 下午 - 2/11 11:40 上午\n",
    "    2月18,5:36 - 2月18， 6：03\n",
    "\n",
    "假设你正在爬楼梯。需要 n 阶你才能到达楼顶。\n",
    "\n",
    "每次你可以爬 1 或 2 个台阶。你有多少种不同的方法可以爬到楼顶呢？\n",
    "\n",
    "注意：给定 n 是一个正整数。\n",
    "```\n",
    "示例 1：\n",
    "\n",
    "输入： 2\n",
    "输出： 2\n",
    "解释： 有两种方法可以爬到楼顶。\n",
    "1.  1 阶 + 1 阶\n",
    "2.  2 阶\n",
    "示例 2：\n",
    "\n",
    "输入： 3\n",
    "输出： 3\n",
    "解释： 有三种方法可以爬到楼顶。\n",
    "1.  1 阶 + 1 阶 + 1 阶\n",
    "2.  1 阶 + 2 阶\n",
    "3.  2 阶 + 1 阶\n",
    "\n",
    "```"
   ]
  },
  {
   "cell_type": "code",
   "execution_count": null,
   "metadata": {
    "code_folding": []
   },
   "outputs": [],
   "source": [
    "# 动态规划法核心公式: \n",
    "# 加入最后一个台阶即：到达第 ii 阶的方法总数就是到第 (i-1)(i−1) 阶和第 (i-2)(i−2) 阶的方法数之和。\n",
    "# dp[i]=dp[i−1]+dp[i−2]"
   ]
  },
  {
   "cell_type": "code",
   "execution_count": null,
   "metadata": {},
   "outputs": [],
   "source": [
    "n = 5\n",
    "dp = [1, 1]\n",
    "for i in range(2,n+1):\n",
    "    dp.append(dp[i-1] + dp[i-2])\n",
    "dp\n",
    "dp[-1]"
   ]
  },
  {
   "cell_type": "markdown",
   "metadata": {},
   "source": [
    "#### 2️⃣ (7m)2020-07-22  6:43"
   ]
  },
  {
   "cell_type": "code",
   "execution_count": null,
   "metadata": {},
   "outputs": [],
   "source": [
    "n=10\n",
    "dp = [0, 1, 2]\n",
    "for i in range(3,n+1):\n",
    "    dp.append(dp[i-1] + dp[i-2])\n",
    "dp\n",
    "dp[-1]"
   ]
  },
  {
   "cell_type": "markdown",
   "metadata": {},
   "source": [
    "### √ 121. 买卖股票的最佳时机 【2月18, 7：05 】-【\b2月18 8：10】\n",
    "给定一个数组，它的第 i 个元素是一支给定股票第 i 天的价格。\n",
    "\n",
    "如果你最多只允许完成一笔交易（即买入和卖出一支股票），设计一个算法来计算你所能获取的最大利润。\n",
    "\n",
    "注意你不能在买入股票前卖出股票。\n",
    "\n",
    "``` python\n",
    "示例 1:\n",
    "\n",
    "输入: [7,1,5,3,6,4]\n",
    "输出: 5\n",
    "解释: 在第 2 天（股票价格 = 1）的时候买入，在第 5 天（股票价格 = 6）的时候卖出，最大利润 = 6-1 = 5 。\n",
    "     注意利润不能是 7-1 = 6, 因为卖出价格需要大于买入价格。\n",
    "示例 2:\n",
    "\n",
    "输入: [7,6,4,3,1]\n",
    "输出: 0 \n",
    "解释: 在这种情况下, 没有交易完成, 所以最大利润为 0。\n",
    "```\n",
    "        "
   ]
  },
  {
   "cell_type": "code",
   "execution_count": null,
   "metadata": {},
   "outputs": [],
   "source": [
    "nums = [7,1,5,3,6,4]\n",
    "\n",
    "num_min = nums[0]\n",
    "profit = [0]\n",
    "\n",
    "for i in range(1,len(nums)):\n",
    "    num_min = min(nums[i], num_min)\n",
    "    profit.append(max(nums[i] - num_min, profit[i-1]))\n",
    "profit\n",
    "profit[-1]\n",
    "        \n",
    "    "
   ]
  },
  {
   "cell_type": "markdown",
   "metadata": {},
   "source": [
    "### √ 198. 打家劫舍 2/11 10:54 下午 - 2/12 9:46 上午\n",
    "2月18, 4:54 - 2月18, 5:27\n",
    "\n",
    "你是一个专业的小偷，计划偷窃沿街的房屋。每间房内都藏有一定的现金，影响你偷窃的唯一制约因素就是相邻的房屋装有相互连通的防盗系统，如果两间相邻的房屋在同一晚上被小偷闯入，系统会自动报警。\n",
    "\n",
    "给定一个代表每个房屋存放金额的非负整数数组，计算你在不触动警报装置的情况下，能够偷窃到的最高金额。\n",
    "\n",
    "```\n",
    "示例 1:\n",
    "\n",
    "输入: [1,2,3,1]\n",
    "输出: 4\n",
    "解释: 偷窃 1 号房屋 (金额 = 1) ，然后偷窃 3 号房屋 (金额 = 3)。\n",
    "     偷窃到的最高金额 = 1 + 3 = 4 。\n",
    "示例 2:\n",
    "\n",
    "输入: [2,7,9,3,1]\n",
    "输出: 12\n",
    "解释: 偷窃 1 号房屋 (金额 = 2), 偷窃 3 号房屋 (金额 = 9)，接着偷窃 5 号房屋 (金额 = 1)。\n",
    "     偷窃到的最高金额 = 2 + 9 + 1 = 12 。\n",
    "```"
   ]
  },
  {
   "cell_type": "markdown",
   "metadata": {},
   "source": [
    "* 不能偷相邻的两栋房子，方案无非两种：\n",
    "* 方案一：挑选的房子中包含最后一栋；\n",
    "* 方案二：挑选的房子中不包含最后一栋；\n",
    "* 获得的最大收益的最终方案，一定在这两种方案中产生"
   ]
  },
  {
   "cell_type": "code",
   "execution_count": null,
   "metadata": {
    "run_control": {
     "marked": false
    }
   },
   "outputs": [],
   "source": [
    "# 核心思想:\n",
    "# 动态规划公式:dp[i] = max(dp[i-1], dp[i-2] + nums[i-1])\n",
    "# 不能偷相邻的两栋房子，方案无非两种：\n",
    "# 方案一：挑选的房子中包含最后一栋；\n",
    "# 方案二：挑选的房子中不包含最后一栋；\n",
    "# 获得的最大收益的最终方案，一定在这两种方案中产生\n",
    "nums = [2,7,9,3,1]\n",
    "dp = []  # save the max_value in each length of given list\n",
    "dp.extend([nums[0],max(nums[0],nums[1])])"
   ]
  },
  {
   "cell_type": "code",
   "execution_count": null,
   "metadata": {
    "code_folding": [],
    "run_control": {
     "marked": true
    }
   },
   "outputs": [],
   "source": [
    "dp[1] = max(nums)\n",
    "for i in range(2,len(nums)):\n",
    "    dp.append(max(dp[i-1], dp[i-2]+nums[i]))\n",
    "dp\n",
    "dp[-1]"
   ]
  },
  {
   "cell_type": "markdown",
   "metadata": {},
   "source": [
    "### (15m)2020-07-22 19:02 303. 区域和检索 - 数组不可变\n",
    "给定一个整数数组  nums，求出数组从索引 i 到 j  (i ≤ j) 范围内元素的总和，包含 i,  j 两点。\n",
    "\n",
    "```\n",
    "示例：\n",
    "\n",
    "给定 nums = [-2, 0, 3, -5, 2, -1]，求和函数为 sumRange()\n",
    "\n",
    "sumRange(0, 2) -> 1\n",
    "sumRange(2, 5) -> -1\n",
    "sumRange(0, 5) -> -3\n",
    "```"
   ]
  },
  {
   "cell_type": "code",
   "execution_count": null,
   "metadata": {},
   "outputs": [],
   "source": [
    "class NumArray:\n",
    "\n",
    "    def __init__(self, nums: List[int]):\n",
    "        self.nums = nums\n",
    "\n",
    "    def sumRange(self, i: int, j: int) -> int:\n",
    "        ans = sum(self.nums[i:j+1])\n",
    "        return ans\n",
    "\n",
    "\n",
    "# Your NumArray object will be instantiated and called as such:\n",
    "# obj = NumArray(nums)\n",
    "# param_1 = obj.sumRange(i,j)"
   ]
  },
  {
   "cell_type": "code",
   "execution_count": null,
   "metadata": {},
   "outputs": [],
   "source": [
    "from typing import List\n",
    "\n",
    "nums = [-2, 0, 3, -5, 2, -1]\n",
    "solution = NumArray(nums)\n",
    "result = solution.sumRange(2,5)\n",
    "result\n"
   ]
  },
  {
   "cell_type": "code",
   "execution_count": null,
   "metadata": {
    "code_folding": []
   },
   "outputs": [],
   "source": [
    "# 官解 缓存法\n",
    "class NumArray:\n",
    "\n",
    "    def __init__(self, nums: List[int]):\n",
    "        self.nums = nums\n",
    "\n",
    "    def sumRange(self, i: int, j: int) -> int:\n",
    "        ans = sum(self.nums[i:j+1])\n",
    "        return ans\n"
   ]
  },
  {
   "cell_type": "markdown",
   "metadata": {},
   "source": [
    "### √  (1.5h)2020-07-18   4:09 5. 最长回文子串\n",
    "给定一个字符串 s，找到 s 中最长的回文子串。你可以假设 s 的最大长度为 1000。\n",
    "\n",
    "```\n",
    "示例 1：\n",
    "\n",
    "输入: \"babad\"\n",
    "输出: \"bab\"\n",
    "注意: \"aba\" 也是一个有效答案。\n",
    "示例 2：\n",
    "\n",
    "输入: \"cbbd\"\n",
    "输出: \"bb\"\n",
    "```"
   ]
  },
  {
   "cell_type": "code",
   "execution_count": null,
   "metadata": {},
   "outputs": [],
   "source": [
    "class Solution:\n",
    "    def longestPalindrome(self, s: str) -> str:\n",
    "        if len(s)==0: return \"\"\n",
    "        max_len_list = []\n",
    "        for i in range(len(s)):\n",
    "            if i==0: continue\n",
    "            if s[i-1] == s[i]:\n",
    "                j = 1\n",
    "                while i-1-j>=0 and i+j<=len(s)-1 and s[i-1-j] == s[i+j]:\n",
    "                    j += 1\n",
    "                length = 2*j \n",
    "                if length > len(max_len_list):\n",
    "                    max_len_list = s[i-j:i+j]       \n",
    "            if i == len(s)-1: continue\n",
    "            if s[i-1] == s[i+1]:\n",
    "                j = 1\n",
    "                while i-1-j>=0 and i+1+j<=len(s)-1 and s[i-1-j] == s[i+1+j]:\n",
    "                    j += 1\n",
    "                length = 2*j + 1\n",
    "                if length > len(max_len_list):\n",
    "                    max_len_list = s[i-j:i+j+1]\n",
    "        if len(max_len_list)<=1: return s[0]\n",
    "        return max_len_list"
   ]
  },
  {
   "cell_type": "code",
   "execution_count": null,
   "metadata": {},
   "outputs": [],
   "source": [
    "# nums = \"cbbd\"\n",
    "nums = \"dd\"\n",
    "solution = Solution()\n",
    "result = solution.longestPalindrome(nums)\n",
    "result"
   ]
  },
  {
   "cell_type": "code",
   "execution_count": null,
   "metadata": {
    "code_folding": [
     0
    ]
   },
   "outputs": [],
   "source": [
    "# 动态规划\n",
    "class Solution:\n",
    "    def longestPalindrome(self, s: str) -> str:\n",
    "        n = len(s)\n",
    "        dp =[[False] * n for _ in range(n)]\n",
    "        ans = \"\"\n",
    "        for l in range(n):\n",
    "            for i in range(n):\n",
    "                j = i+1\n",
    "                if j >= len(s):\n",
    "                    break\n",
    "                if l == 0:\n",
    "                    dp[i][j] = True\n",
    "                elif l==1:\n",
    "                    dp[i][j] = (s[i]==s[j])\n",
    "                else:\n",
    "                    dp[i][j]=(dp[i+1][j+1] and s[i]==s[j])\n",
    "                if dp[i][j] and l+1 > len(ans):\n",
    "                    ans = s[i:j+1]\n",
    "            return ans\n",
    "                "
   ]
  },
  {
   "cell_type": "markdown",
   "metadata": {},
   "source": [
    "#### 2️⃣ (1.5h)2020-10-17 10:44 5. 最长回文子串\n",
    "动态规划方程:`P(i,j)=P(i+1,j−1)∧(Si==Sj)`\n",
    "\n",
    "动态规划的边界条件：`P(i,i)=true, P(i,i+1)=(Si ==Si+1)`\n",
    "\n",
    "注意：在状态转移方程中，我们是从长度较短的字符串向长度较长的字符串进行转移的，因此一定要注意动态规划的循环顺序。\n",
    "![](https://tva1.sinaimg.cn/large/007S8ZIlly1gjs5oeah1uj30zk0c2t9o.jpg)\n",
    "![](https://tva1.sinaimg.cn/large/007S8ZIlly1gjs5vv9x00j30z40dm3zb.jpg)\n"
   ]
  },
  {
   "cell_type": "code",
   "execution_count": null,
   "metadata": {},
   "outputs": [],
   "source": [
    "class Solution:\n",
    "    def longestPalindrome(self, s: str) -> str:\n",
    "        n = len(s)\n",
    "        dp = [[False ]*n for i in range(n)]\n",
    "        ans = ''\n",
    "        l_ans, length = 0, 0\n",
    "        for i in range(n):\n",
    "            dp[i][i] = True \n",
    "        \n",
    "        for r in range(1, n):\n",
    "            for l in range(r):\n",
    "                dp[l][r] = (s[l] == s[r]) and (dp[l+1][r-1] or r-l<3)\n",
    "                if dp[l][r] and r-l+1 > length:\n",
    "                    l_ans, length = l, r-l+1\n",
    "        ans = s[l_ans:l_ans+length]\n",
    "        return ans"
   ]
  },
  {
   "cell_type": "code",
   "execution_count": null,
   "metadata": {},
   "outputs": [],
   "source": [
    "nums = \"babab\"\n",
    "# nums = \"dd\"\n",
    "solution = Solution()\n",
    "result = solution.longestPalindrome(nums)\n",
    "result"
   ]
  },
  {
   "cell_type": "markdown",
   "metadata": {},
   "source": [
    "### √ (1.5h)2020-10-17  [62. 不同路径](https://leetcode-cn.com/problems/unique-paths/)\n",
    "\n",
    "难度中等718\n",
    "\n",
    "一个机器人位于一个 _m x n _网格的左上角 （起始点在下图中标记为“Start” ）。\n",
    "\n",
    "机器人每次只能向下或者向右移动一步。机器人试图达到网格的右下角（在下图中标记为“Finish”）。\n",
    "\n",
    "问总共有多少条不同的路径？\n",
    "\n",
    "![](https://assets.leetcode-cn.com/aliyun-lc-upload/uploads/2018/10/22/robot_maze.png)\n",
    "\n",
    "例如，上图是一个7 x 3 的网格。有多少可能的路径？\n",
    "\n",
    "```\n",
    "示例 1:\n",
    "\n",
    "输入: m = 3, n = 2\n",
    "输出: 3\n",
    "解释:\n",
    "从左上角开始，总共有 3 条路径可以到达右下角。\n",
    "1. 向右 -> 向右 -> 向下\n",
    "2. 向右 -> 向下 -> 向右\n",
    "3. 向下 -> 向右 -> 向右\n",
    "示例 2:\n",
    "\n",
    "输入: m = 7, n = 3\n",
    "输出: 28\n",
    "```\n",
    " \n",
    "\n",
    "**提示：**\n",
    "\n",
    "  * `1 <= m, n <= 100`"
   ]
  },
  {
   "cell_type": "markdown",
   "metadata": {},
   "source": [
    "1. 动态转移方程: `dp[i,j] = dp[i-1,j] + dp[i,j-1]`\n",
    "2. 边界条件: `dp[0,j]=dp[i,0]=1`\n",
    "\n",
    "空间优化:\n",
    "1. O(2n):`cur[j] = pre[j] + cur[j-1]` \n",
    "2. O(n):`cur[j] += cur[j-1]`"
   ]
  },
  {
   "cell_type": "code",
   "execution_count": null,
   "metadata": {},
   "outputs": [],
   "source": [
    "class Solution:\n",
    "    def uniquePaths(self, m: int, n: int) -> int:\n",
    "        dp = [[1] * n] + [[1] + [0 for _ in range(m-1)]]\n",
    "        \n",
    "        for i in range(1,m):\n",
    "            for j in range(1,n):\n",
    "                dp[i][j] = dp[i-1][j] + dp[i][j-1]\n",
    "                \n",
    "        return dp[-1][-1]"
   ]
  },
  {
   "cell_type": "code",
   "execution_count": null,
   "metadata": {},
   "outputs": [],
   "source": [
    "m, n = 3, 2\n",
    "solution = Solution()\n",
    "result = solution.uniquePaths(m, n)\n",
    "result"
   ]
  },
  {
   "cell_type": "markdown",
   "metadata": {},
   "source": [
    "### \b(2h)2020-10-17  [63. 不同路径 II](https://leetcode-cn.com/problems/unique-paths-ii/)\n",
    "\n",
    "难度中等425\n",
    "\n",
    "一个机器人位于一个 _m x n _网格的左上角 （起始点在下图中标记为“Start” ）。\n",
    "\n",
    "机器人每次只能向下或者向右移动一步。机器人试图达到网格的右下角（在下图中标记为“Finish”）。\n",
    "\n",
    "现在考虑网格中有障碍物。那么从左上角到右下角将会有多少条不同的路径？\n",
    "\n",
    "![](https://assets.leetcode-cn.com/aliyun-lc-upload/uploads/2018/10/22/robot_maze.png)\n",
    "\n",
    "网格中的障碍物和空位置分别用 `1` 和 `0` 来表示。\n",
    "\n",
    "**说明：**_m_ 和 _n _的值均不超过 100。\n",
    "\n",
    "**示例 1:**\n",
    "\n",
    "```\n",
    "输入:\n",
    "[\n",
    "  [0,0,0],\n",
    "  [0,1,0],\n",
    "  [0,0,0]\n",
    "]\n",
    "输出: 2\n",
    "解释:\n",
    "3x3 网格的正中间有一个障碍物。\n",
    "从左上角到右下角一共有 2 条不同的路径：\n",
    "1. 向右 -> 向右 -> 向下 -> 向下\n",
    "2. 向下 -> 向下 -> 向右 -> 向右\n",
    "```"
   ]
  },
  {
   "cell_type": "code",
   "execution_count": null,
   "metadata": {},
   "outputs": [],
   "source": [
    "class Solution:\n",
    "    def uniquePaths(self, m: int, n: int) -> int:\n",
    "        dp = [[1] * n] + [[1] + [0 for _ in range(m-1)]]\n",
    "        \n",
    "        for i in range(1,m):\n",
    "            for j in range(1,n):\n",
    "                dp[i][j] = dp[i-1][j] + dp[i][j-1]\n",
    "                \n",
    "        return dp[-1][-1]"
   ]
  },
  {
   "cell_type": "code",
   "execution_count": null,
   "metadata": {},
   "outputs": [],
   "source": [
    "class Solution:\n",
    "    def uniquePathsWithObstacles(self, obstacleGrid) -> int:\n",
    "        m = len(obstacleGrid)\n",
    "        n = len(obstacleGrid[0])\n",
    "        \n",
    "        dp = [[0]*n for i in range(m)]\n",
    "        \n",
    "        for i in range(m):\n",
    "            if obstacleGrid[i][0]==0:\n",
    "                dp[i][0] = 1 \n",
    "            else:\n",
    "                break\n",
    "        for i in range(n):\n",
    "            if obstacleGrid[0][i]==0:\n",
    "                dp[0][i] = 1 \n",
    "            else:\n",
    "                break   \n",
    "        \n",
    "        if m==1 or n==1:\n",
    "            return dp[-1][-1]\n",
    "        \n",
    "        for i in range(1,m):\n",
    "            for j in range(1,n):\n",
    "                if obstacleGrid[i][j] > 0: dp[i][j] = 0\n",
    "                else:    \n",
    "                    dp[i][j] = dp[i-1][j] + dp[i][j-1]\n",
    "                \n",
    "        return dp[-1][-1]"
   ]
  },
  {
   "cell_type": "code",
   "execution_count": null,
   "metadata": {
    "scrolled": true
   },
   "outputs": [],
   "source": [
    "nums = [\n",
    "  [0,0,0],\n",
    "  [0,1,0],\n",
    "  [0,0,0]\n",
    "]\n",
    "solution = Solution()\n",
    "result = solution.uniquePathsWithObstacles(nums)\n",
    "result"
   ]
  },
  {
   "cell_type": "markdown",
   "metadata": {},
   "source": [
    "### √(30m)2020-10-17 10:50[64. 最小路径和](https://leetcode-cn.com/problems/minimum-path-sum/)\n",
    "\n",
    "难度中等696\n",
    "\n",
    "给定一个包含非负整数的 _m_ x _n_ 网格，请找出一条从左上角到右下角的路径，使得路径上的数字总和为最小。\n",
    "\n",
    "**说明：**每次只能向下或者向右移动一步。\n",
    "\n",
    "**示例:**\n",
    "```\n",
    "    \n",
    "输入:\n",
    "[\n",
    "  [1,3,1],\n",
    "  [1,5,1],\n",
    "  [4,2,1]\n",
    "]\n",
    "输出: 7\n",
    "解释: 因为路径 1→3→1→1→1 的总和最小。    ```"
   ]
  },
  {
   "cell_type": "markdown",
   "metadata": {},
   "source": [
    "1. 动态转移方程:`dp[i][j]=min(dp[i][j-1],dp[i-1][j])`\n",
    "2. 边界条件`dp[0][0]=dp[0][0], dp[m][0]+=dp[m-1][0], dp[0][n]+=dp[0][n-1]`"
   ]
  },
  {
   "cell_type": "code",
   "execution_count": null,
   "metadata": {},
   "outputs": [],
   "source": [
    "class Solution:\n",
    "    def minPathSum(self, grid) -> int:\n",
    "        dp = grid\n",
    "        m = len(dp)\n",
    "        n = len(dp[0])\n",
    "        \n",
    "        dp[0][0]=dp[0][0]\n",
    "        for i in range(1, m):\n",
    "            dp[i][0]+=dp[i-1][0]\n",
    "        for j in range(1, n):\n",
    "            dp[0][j]+=dp[0][j-1]\n",
    "\n",
    "        for i in range(1, m):\n",
    "            for j in range(1, n):\n",
    "                dp[i][j] += min(dp[i][j-1],dp[i-1][j])\n",
    "\n",
    "        return dp[-1][-1]"
   ]
  },
  {
   "cell_type": "code",
   "execution_count": null,
   "metadata": {},
   "outputs": [],
   "source": [
    "nums = [\n",
    "  [1,3,1],\n",
    "  [1,5,1],\n",
    "  [4,2,1]\n",
    "    \n",
    "]\n",
    "solution = Solution()\n",
    "result = solution.minPathSum(nums)\n",
    "result"
   ]
  },
  {
   "cell_type": "markdown",
   "metadata": {},
   "source": [
    "## 深度优先搜索DFS\n",
    "#### 步骤\n",
    "1. 沿着树的深度遍历树的节点，尽可能深的搜索树的分支。\n",
    "2. 当节点v的所在边都己被探寻过，搜索将回溯到发现节点v的那条边的起始节点。\n",
    "3. 如果还存在未被发现的节点，则选择其中一个作为源节点并重复以上过程，整个进程反复进行直到所有节点都被访问为止。\n",
    "\n",
    "#### 概括\n",
    "深度优先搜索的步骤分为 \n",
    "1. 递归下去 \n",
    "2. 回溯上来。\n",
    "\n",
    "顾名思义，深度优先，则是以深度为准则，先一条路走到底，直到达到目标。这里称之为递归下去。\n",
    "\n",
    "否则既没有达到目标又无路可走了，那么则退回到上一步的状态，走其他路。这便是回溯上来。"
   ]
  },
  {
   "cell_type": "markdown",
   "metadata": {},
   "source": [
    "### (20m)2020-07-26 18:48 101. 对称二叉树\n",
    "给定一个二叉树，检查它是否是镜像对称的。\n",
    "\n",
    "```\n",
    "\n",
    "例如，二叉树 [1,2,2,3,4,4,3] 是对称的。\n",
    "\n",
    "    1\n",
    "   / \\\n",
    "  2   2\n",
    " / \\ / \\\n",
    "3  4 4  3\n",
    " \n",
    "\n",
    "但是下面这个 [1,2,2,null,3,null,3] 则不是镜像对称的:\n",
    "\n",
    "    1\n",
    "   / \\\n",
    "  2   2\n",
    "   \\   \\\n",
    "   3    3\n",
    " \n",
    " \n",
    "\n",
    "进阶：\n",
    "\n",
    "你可以运用递归和迭代两种方法解决这个问题吗？\n",
    "```"
   ]
  },
  {
   "cell_type": "markdown",
   "metadata": {},
   "source": [
    "#### 递归的思想\n",
    " 如果同时满足下面的条件，两个树互为镜像：\n",
    "\n",
    "1. 它们的两个根结点具有相同的值\n",
    "2. 每个树的右子树都与另一个树的左子树镜像对称"
   ]
  },
  {
   "cell_type": "code",
   "execution_count": null,
   "metadata": {},
   "outputs": [],
   "source": [
    "# guanjie\n",
    "class Solution:\n",
    "    def isSymmetric(self, root: TreeNode) -> bool:\n",
    "        if not root: return \n",
    "        return self.check(root.left, root.right)\n",
    "        \n",
    "    def check(self, left, right):\n",
    "        if left is None and right is None: return True\n",
    "        if left is None or right is None: return False\n",
    "        if left.val != right.val : return False\n",
    "        return self.check(left.left, right.right) and self.check(left.right, right.left)\n",
    "        \n",
    "        \n",
    "            "
   ]
  },
  {
   "cell_type": "markdown",
   "metadata": {},
   "source": [
    "### (60m)2020-07-26 20:44 394. 字符串解码\n",
    "给定一个经过编码的字符串，返回它解码后的字符串。\n",
    "\n",
    "编码规则为: k[encoded_string]，表示其中方括号内部的 encoded_string 正好重复 k 次。注意 k 保证为正整数。\n",
    "\n",
    "你可以认为输入字符串总是有效的；输入字符串中没有额外的空格，且输入的方括号总是符合格式要求的。\n",
    "\n",
    "此外，你可以认为原始数据不包含数字，所有的数字只表示重复的次数 k ，例如不会出现像 3a 或 2[4] 的输入。\n",
    "\n",
    " \n",
    "\n",
    "```\n",
    "示例 1：\n",
    "\n",
    "输入：s = \"3[a]2[bc]\"\n",
    "输出：\"aaabcbc\"\n",
    "示例 2：\n",
    "\n",
    "输入：s = \"3[a2[c]]\"\n",
    "输出：\"accaccacc\"\n",
    "示例 3：\n",
    "\n",
    "输入：s = \"2[abc]3[cd]ef\"\n",
    "输出：\"abcabccdcdcdef\"\n",
    "示例 4：\n",
    "\n",
    "输入：s = \"abc3[cd]xyz\"\n",
    "输出：\"abccdcdcdxyz\"\n",
    "```"
   ]
  },
  {
   "cell_type": "markdown",
   "metadata": {},
   "source": [
    "#### 栈和递归使用"
   ]
  },
  {
   "cell_type": "code",
   "execution_count": null,
   "metadata": {},
   "outputs": [],
   "source": [
    "class Solution:\n",
    "    def decodeString(self, s: str) -> str:\n",
    "        def dfs(i):\n",
    "            res, multi = \"\", 0\n",
    "            while i<len(s):\n",
    "                if '0' <= s[i] <= '9':\n",
    "                    multi = multi*10 + s[i]\n",
    "                elif s[i] == '[':\n",
    "                    # 注意，返回i的含义是更新上层递归指针位置，因为内层递归已经吃掉一串str，若不跟新i，\n",
    "                    # 外层仍然从i+1开始，则会重复处理内层处理过的一串str。\n",
    "                    i, tmp = dfs(i+1)  \n",
    "                    res += multi * tmp\n",
    "                    multi = 0\n",
    "                elif s[i] == ']':\n",
    "                    return i,res\n",
    "                else: res += s[i]\n",
    "                i+=1\n",
    "            return res\n",
    "        return dfs(0)"
   ]
  },
  {
   "cell_type": "markdown",
   "metadata": {},
   "source": [
    "### 2020-07-26 21:57 105. 从前序与中序遍历序列构造二叉树\n",
    "根据一棵树的前序遍历与中序遍历构造二叉树。\n",
    "\n",
    "注意:\n",
    "你可以假设树中没有重复的元素。\n",
    "\n",
    "例如，给出\n",
    "```\n",
    "前序遍历 preorder = [3,9,20,15,7]\n",
    "中序遍历 inorder = [9,3,15,20,7]\n",
    "返回如下的二叉树：\n",
    "\n",
    "    3\n",
    "   / \\\n",
    "  9  20\n",
    "    /  \\\n",
    "   15   7\n",
    "```"
   ]
  },
  {
   "cell_type": "code",
   "execution_count": null,
   "metadata": {},
   "outputs": [],
   "source": [
    "\n",
    "class Solution:\n",
    "    def buildTree(self, preorder: List[int], inorder: List[int]) -> TreeNode:\n",
    "        "
   ]
  },
  {
   "cell_type": "markdown",
   "metadata": {},
   "source": [
    "### 2020-07-27 15:17 114. 二叉树展开为链表\n",
    "给定一个二叉树，原地将它展开为一个单链表。\n",
    "\n",
    " \n",
    "```\n",
    "例如，给定二叉树\n",
    "\n",
    "    1\n",
    "   / \\\n",
    "  2   5\n",
    " / \\   \\\n",
    "3   4   6\n",
    "将其展开为：\n",
    "\n",
    "1\n",
    " \\\n",
    "  2\n",
    "   \\\n",
    "    3\n",
    "     \\\n",
    "      4\n",
    "       \\\n",
    "        5\n",
    "         \\\n",
    "          6\n",
    "```"
   ]
  },
  {
   "cell_type": "code",
   "execution_count": null,
   "metadata": {},
   "outputs": [],
   "source": [
    "# 前序遍历\n",
    "class Solution:\n",
    "    def flatten(self, root: TreeNode) -> None:\n",
    "        \"\"\"\n",
    "        Do not return anything, modify root in-place instead.\n",
    "        \"\"\"\n",
    "        if root.left:\n",
    "            root.next = root.left\n",
    "        elif root.right:\n",
    "            root.next = flatten(root.left)"
   ]
  },
  {
   "cell_type": "markdown",
   "metadata": {},
   "source": [
    "\n",
    "### 2020-07-27 15:44 679. 24 点游戏\n",
    "你有 4 张写有 1 到 9 数字的牌。你需要判断是否能通过 *，/，+，-，(，) 的运算得到 24。\n",
    "\n",
    "```python\n",
    "示例 1:\n",
    "\n",
    "输入: [4, 1, 8, 7]\n",
    "输出: True\n",
    "解释: (8-4) * (7-1) = 24\n",
    "示例 2:\n",
    "\n",
    "输入: [1, 2, 1, 2]\n",
    "输出: False\n",
    "注意:\n",
    "\n",
    "除法运算符 / 表示实数除法，而不是整数除法。例如 4 / (1 - 2/3) = 12 。\n",
    "每个运算符对两个数进行运算。特别是我们不能用 - 作为一元运算符。例如，[1, 1, 1, 1] 作为输入时，表达式 -1 - 1 - 1 - 1 是不允许的。\n",
    "你不能将数字连接在一起。例如，输入为 [1, 2, 1, 2] 时，不能写成 12 + 12 。\n",
    "```"
   ]
  },
  {
   "cell_type": "code",
   "execution_count": null,
   "metadata": {},
   "outputs": [],
   "source": [
    "class Solution:\n",
    "    def judgePoint24(self, nums: List[int]) -> bool:\n",
    "        for i in range(4):\n",
    "            if \n",
    "        def dfs(nums, depth):\n",
    "            "
   ]
  },
  {
   "cell_type": "code",
   "execution_count": null,
   "metadata": {},
   "outputs": [],
   "source": [
    "from typing import List\n",
    "\n",
    "nums = [4, 1, 8, 7]\n",
    "solution = Solution()\n",
    "result = solution.judgePoint24(nums)\n",
    "result\n"
   ]
  },
  {
   "cell_type": "markdown",
   "metadata": {},
   "source": [
    "## 双指针\n",
    "\n"
   ]
  },
  {
   "cell_type": "markdown",
   "metadata": {},
   "source": [
    "### √(20m)2020-07-27 16:12 26. 删除排序数组中的重复项\n",
    "给定一个排序数组，你需要在 原地 删除重复出现的元素，使得每个元素只出现一次，返回移除后数组的新长度。\n",
    "\n",
    "不要使用额外的数组空间，你必须在 原地 修改输入数组 并在使用 O(1) 额外空间的条件下完成。\n",
    "\n",
    " \n",
    "\n",
    "``` python\n",
    "示例 1:\n",
    "\n",
    "给定数组 nums = [1,1,2], \n",
    "\n",
    "函数应该返回新的长度 2, 并且原数组 nums 的前两个元素被修改为 1, 2。 \n",
    "\n",
    "你不需要考虑数组中超出新长度后面的元素。\n",
    "示例 2:\n",
    "\n",
    "给定 nums = [0,0,1,1,1,2,2,3,3,4],\n",
    "\n",
    "函数应该返回新的长度 5, 并且原数组 nums 的前五个元素被修改为 0, 1, 2, 3, 4。\n",
    "\n",
    "你不需要考虑数组中超出新长度后面的元素。\n",
    " \n",
    "\n",
    "说明:\n",
    "\n",
    "为什么返回数值是整数，但输出的答案是数组呢?\n",
    "\n",
    "请注意，输入数组是以「引用」方式传递的，这意味着在函数里修改输入数组对于调用者是可见的。\n",
    "\n",
    "你可以想象内部操作如下:\n",
    "\n",
    "// nums 是以“引用”方式传递的。也就是说，不对实参做任何拷贝\n",
    "int len = removeDuplicates(nums);\n",
    "\n",
    "// 在函数里修改输入数组对于调用者是可见的。\n",
    "// 根据你的函数返回的长度, 它会打印出数组中该长度范围内的所有元素。\n",
    "for (int i = 0; i < len; i++) {\n",
    "    print(nums[i]);\n",
    "}\n",
    "```"
   ]
  },
  {
   "cell_type": "code",
   "execution_count": null,
   "metadata": {},
   "outputs": [],
   "source": [
    "class Solution:\n",
    "    def removeDuplicates(self, nums: List[int]) -> int:\n",
    "        i = 0\n",
    "        for j in range(len(nums)):\n",
    "            if nums[i] != nums[j]:\n",
    "                i += 1\n",
    "                nums[i] = nums[j]\n",
    "        return i+1"
   ]
  },
  {
   "cell_type": "code",
   "execution_count": null,
   "metadata": {},
   "outputs": [],
   "source": [
    "from typing import List\n",
    "\n",
    "nums = [0,0,1,1,1,2,2,3,3,4]\n",
    "solution = Solution()\n",
    "result = solution.removeDuplicates(nums)\n",
    "result"
   ]
  },
  {
   "cell_type": "markdown",
   "metadata": {},
   "source": [
    "### (40m)2020-07-19  9:07 15. 三数之和\n",
    "给你一个包含 n 个整数的数组 nums，判断 nums 中是否存在三个元素 a，b，c ，使得 a + b + c = 0 ？请你找出所有满足条件且不重复的三元组。\n",
    "\n",
    "注意：答案中不可以包含重复的三元组。\n",
    "\n",
    " \n",
    "```\n",
    "示例：\n",
    "\n",
    "给定数组 nums = [-1, 0, 1, 2, -1, -4]，\n",
    "\n",
    "满足要求的三元组集合为：\n",
    "[\n",
    "  [-1, 0, 1],\n",
    "  [-1, -1, 2]\n",
    "]\n",
    "```"
   ]
  },
  {
   "cell_type": "markdown",
   "metadata": {},
   "source": [
    "#### 经典，双指针定义, 典型例题，注意去重操作\n",
    "\n",
    "\n",
    "当我们需要枚举数组中的两个元素时，如果我们发现随着第一个元素的递增，第二个元素是递减的，那么就可以使用双指针的方法，将枚举的时间复杂度从 O(N^2)O(N \n",
    "2\n",
    " ) 减少至 O(N)O(N)。为什么是 O(N)O(N) 呢？这是因为在枚举的过程每一步中，「左指针」会向右移动一个位置（也就是题目中的 bb），而「右指针」会向左移动若干个位置，这个与数组的元素有关，但我们知道它一共会移动的位置数为 O(N)O(N)，均摊下来，每次也向左移动一个位置，因此时间复杂度为 O(N)O(N)。\n",
    "\n",
    "链接：https://leetcode-cn.com/problems/3sum/solution/san-shu-zhi-he-by-leetcode-solution/\n",
    "\n",
    "**双指针格式**\n",
    "```\n",
    "\n",
    "while :\n",
    "    if \n",
    "        i += 1\n",
    "    if \n",
    "        j -= 1\n",
    "\n",
    "\n",
    "\n",
    "for i in range():\n",
    "    if :\n",
    "        j -= 1\n",
    "```"
   ]
  },
  {
   "cell_type": "markdown",
   "metadata": {},
   "source": [
    "#### 2️⃣(90m)\b2020-07-27  7:48"
   ]
  },
  {
   "cell_type": "code",
   "execution_count": null,
   "metadata": {},
   "outputs": [],
   "source": [
    "class Solution:\n",
    "    def threeSum(self, nums: List[int]) -> List[List[int]]:\n",
    "        nums = sorted(nums)\n",
    "        n = len(nums)\n",
    "        if n < 3: return []\n",
    "        res = []\n",
    "        for i in range(n):\n",
    "            # 如果第一个数都＞0，和不可能==0；\n",
    "            # 保证和上一次枚举数不同（去重）\n",
    "            if i>0 and nums[i] == nums[i-1]:\n",
    "                continue\n",
    "                \n",
    "            k = n - 1  # 第三个指针指向最右端\n",
    "            target = -nums[i]\n",
    "            for j in range(i+1, n):\n",
    "                # 保证除了紧邻上一个的位置外，和上一次枚举数不同（去重）\n",
    "                if j > i+1 and nums[j] == nums[j-1]:\n",
    "                    continue\n",
    "                    \n",
    "                # 指针j 在 指针k 左侧\n",
    "                while j < k and nums[j] + nums[k] > target:\n",
    "                    k -= 1\n",
    "                if j == k: \n",
    "                    break\n",
    "                if nums[j] + nums[k] == target:\n",
    "                    res.append([nums[i],nums[j],nums[k]])\n",
    "        \n",
    "        return res\n",
    "        "
   ]
  },
  {
   "cell_type": "code",
   "execution_count": null,
   "metadata": {},
   "outputs": [],
   "source": [
    "nums = [-1, 0, 1, 2, -1, -4] \n",
    "solution = Solution()\n",
    "result = solution.threeSum(nums)\n",
    "result\n"
   ]
  },
  {
   "cell_type": "code",
   "execution_count": null,
   "metadata": {},
   "outputs": [],
   "source": [
    "a = [1,2]\n",
    "a.index(2)\n",
    "a.index?"
   ]
  },
  {
   "cell_type": "markdown",
   "metadata": {},
   "source": [
    "### √(50m)2020-07-19  10:28 11. (双指针)盛最多水的容器\n",
    "给你 n 个非负整数 a1，a2，...，an，每个数代表坐标中的一个点 (i, ai) 。在坐标内画 n 条垂直线，垂直线 i 的两个端点分别为 (i, ai) 和 (i, 0)。找出其中的两条线，使得它们与 x 轴共同构成的容器可以容纳最多的水。\n",
    "\n",
    "说明：你不能倾斜容器，且 n 的值至少为 2。\n",
    "![](https://cdn.jsdelivr.net/gh/sunqinghu/PicRepo/img/2020/20201023173241.png)\n",
    " \n",
    "\n",
    "\n",
    "\n",
    "图中垂直线代表输入数组 [1,8,6,2,5,4,8,3,7]。在此情况下，容器能够容纳水（表示为蓝色部分）的最大值为 49。\n",
    "\n",
    " \n",
    "```\n",
    "示例：\n",
    "\n",
    "输入：[1,8,6,2,5,4,8,3,7]\n",
    "输出：49\n",
    "```"
   ]
  },
  {
   "cell_type": "code",
   "execution_count": null,
   "metadata": {
    "code_folding": [
     0
    ]
   },
   "outputs": [],
   "source": [
    "# 动态规划 -- 自己写的，超时\n",
    "class Solution:\n",
    "    def maxArea(self, height: List[int]) -> int:\n",
    "        dp = [0 for _ in range(len(height))]\n",
    "        for i in range(len(height)):\n",
    "            if i == 0:  continue\n",
    "            dp[i] = max(dp[i-1], max(min(height[i], height[j]) * (i-j) for j in range(i)))\n",
    "        return dp[-1]"
   ]
  },
  {
   "cell_type": "code",
   "execution_count": null,
   "metadata": {
    "code_folding": [
     0
    ]
   },
   "outputs": [],
   "source": [
    "# 双指针\n",
    "class Solution:\n",
    "    def maxArea(self, height: List[int]) -> int:\n",
    "        l, r = 0, len(height) - 1\n",
    "        ans = 0\n",
    "        while l < r:\n",
    "            area = min(height[l], height[r]) * (r-l) \n",
    "            ans = max(ans,area)\n",
    "            if height[l] <= height[r]:\n",
    "                l = l+1\n",
    "            else:\n",
    "                r = r-1\n",
    "        return ans"
   ]
  },
  {
   "cell_type": "markdown",
   "metadata": {},
   "source": [
    "#### 2️⃣(20m)2020-07-27  9:25"
   ]
  },
  {
   "cell_type": "code",
   "execution_count": null,
   "metadata": {},
   "outputs": [],
   "source": [
    "# 双指针\n",
    "class Solution:\n",
    "    def maxArea(self, height: List[int]) -> int:\n",
    "        maxArea = 0\n",
    "        n = len(height)\n",
    "        i, j = 0, n-1\n",
    "        while i < j:\n",
    "            area = min(height[i], height[j]) * (j-i)  \n",
    "            maxArea = max(area, maxArea)\n",
    "            if height[i] <= height[j]:  # 判断哪个要动\n",
    "                i += 1\n",
    "            else: j-=1\n",
    "            \n",
    "        return maxArea\n",
    "    \n",
    "                "
   ]
  },
  {
   "cell_type": "code",
   "execution_count": null,
   "metadata": {},
   "outputs": [],
   "source": [
    "from typing import List\n",
    "\n",
    "nums = [1,8,6,2,5,4,8,3,7]\n",
    "solution = Solution()\n",
    "result = solution.maxArea(nums)\n",
    "result"
   ]
  },
  {
   "cell_type": "code",
   "execution_count": null,
   "metadata": {},
   "outputs": [],
   "source": []
  },
  {
   "cell_type": "markdown",
   "metadata": {},
   "source": [
    "## 二分查找\n",
    "* 要求\n",
    "    1. 数据结构排好序\n",
    "    2. 线性表具有随机访问的特点(如数组)\n",
    "    3. 线性表可以根据中间元素特点推测两侧元素性质\n"
   ]
  },
  {
   "cell_type": "raw",
   "metadata": {},
   "source": []
  },
  {
   "cell_type": "markdown",
   "metadata": {},
   "source": [
    "### 2020-07-27 22:02 167. 两数之和 II - 输入有序数组\n",
    "给定一个已按照升序排列 的有序数组，找到两个数使得它们相加之和等于目标数。\n",
    "\n",
    "函数应该返回这两个下标值 index1 和 index2，其中 index1 必须小于 index2。\n",
    "\n",
    "说明:\n",
    "\n",
    "返回的下标值（index1 和 index2）不是从零开始的。\n",
    "你可以假设每个输入只对应唯一的答案，而且你不可以重复使用相同的元素。\n",
    "``` python\n",
    "示例:\n",
    "\n",
    "输入: numbers = [2, 7, 11, 15], target = 9\n",
    "输出: [1,2]\n",
    "解释: 2 与 7 之和等于目标数 9 。因此 index1 = 1, index2 = 2 。\n",
    "```\n"
   ]
  },
  {
   "cell_type": "markdown",
   "metadata": {},
   "source": [
    "#### 二分法步骤"
   ]
  },
  {
   "cell_type": "code",
   "execution_count": null,
   "metadata": {},
   "outputs": [],
   "source": [
    "class Solution:\n",
    "    def twoSum(self, numbers: List[int], target: int) -> List[int]:\n",
    "        n = len(numbers)\n",
    "        for i in range(n):\n",
    "            if 2 * numbers[i] > target:\n",
    "                break\n",
    "            \n",
    "            a = i+1\n",
    "            b = n-1\n",
    "            while a <= b:\n",
    "                c = (a+b)//2                \n",
    "                if numbers[c] == target - numbers[i]:\n",
    "                    return [i+1, c+1]\n",
    "                elif numbers[c] < target - numbers[i]: # 注意必须是elif\n",
    "                    a = c + 1  # 注意有+1 -1，保证不在边界，确保不会死循环\n",
    "                else:\n",
    "                    b = c - 1"
   ]
  },
  {
   "cell_type": "code",
   "execution_count": null,
   "metadata": {},
   "outputs": [],
   "source": [
    "from typing import List\n",
    "\n",
    "# numbers = [2, 3, 4]\n",
    "# target = 6\n",
    "# numbers = [-1, 0]\n",
    "# target = -1\n",
    "# numbers = [2,7,11,15]\n",
    "# target = 9\n",
    "numbers = [5,25,75]\n",
    "target = 100\n",
    "solution = Solution()\n",
    "result = solution.twoSum(numbers, target)\n",
    "result"
   ]
  },
  {
   "cell_type": "markdown",
   "metadata": {},
   "source": [
    "### √(30m)2020-07-27 23:36 349. 两个数组的交集\n",
    "给定两个数组，编写一个函数来计算它们的交集。\n",
    "\n",
    " \n",
    "\n",
    "``` python\n",
    "示例 1：\n",
    "\n",
    "输入：nums1 = [1,2,2,1], nums2 = [2,2]\n",
    "输出：[2]\n",
    "示例 2：\n",
    "\n",
    "输入：nums1 = [4,9,5], nums2 = [9,4,9,8,4]\n",
    "输出：[9,4]\n",
    " \n",
    "\n",
    "说明：\n",
    "\n",
    "输出结果中的每个元素一定是唯一的。\n",
    "我们可以不考虑输出结果的顺序。\n",
    "```"
   ]
  },
  {
   "cell_type": "code",
   "execution_count": null,
   "metadata": {},
   "outputs": [],
   "source": [
    "class Solution:\n",
    "    def intersection(self, nums1: List[int], nums2: List[int]) -> List[int]:\n",
    "        nums1 = sorted(list(set(nums1)))\n",
    "        nums2 = sorted(list(set(nums2)))\n",
    "        n1 = len(nums1)\n",
    "        n2 = len(nums2)\n",
    "        i, j = 0, 0\n",
    "        ans = []\n",
    "        while i<n1 and j<n2:\n",
    "            if nums1[i] == nums2[j]:\n",
    "                ans.append(nums1[i])\n",
    "                i += 1\n",
    "                j += 1\n",
    "            elif nums1[i] < nums2[j]:\n",
    "                i += 1\n",
    "            elif nums1[i] > nums2[j]:\n",
    "                j += 1\n",
    "            \n",
    "        return ans\n",
    "            \n",
    "                        "
   ]
  },
  {
   "cell_type": "code",
   "execution_count": null,
   "metadata": {},
   "outputs": [],
   "source": [
    "from typing import List\n",
    "\n",
    "nums1 = [1,2,2,1]\n",
    "nums2 = [2,2]\n",
    "solution = Solution()\n",
    "result = solution.intersection(nums1, nums2)\n",
    "result"
   ]
  },
  {
   "cell_type": "markdown",
   "metadata": {},
   "source": [
    "### 2020-07-29 09:15 287. 寻找重复数\n",
    "给定一个包含 n + 1 个整数的数组 nums，其数字都在 1 到 n 之间（包括 1 和 n），可知至少存在一个重复的整数。假设只有一个重复的整数，找出这个重复的数。\n",
    "\n",
    "``` python\n",
    "示例 1:\n",
    "\n",
    "输入: [1,3,4,2,2]\n",
    "输出: 2\n",
    "示例 2:\n",
    "\n",
    "输入: [3,1,3,4,2]\n",
    "输出: 3\n",
    "说明：\n",
    "\n",
    "不能更改原数组（假设数组是只读的）。\n",
    "只能使用额外的 O(1) 的空间。\n",
    "时间复杂度小于 O(n2) 。\n",
    "数组中只有一个重复的数字，但它可能不止重复出现一次。\n",
    "```"
   ]
  },
  {
   "cell_type": "markdown",
   "metadata": {},
   "source": [
    "#### 关键字：重复 想哈希表（O(n),O(n)）"
   ]
  },
  {
   "cell_type": "code",
   "execution_count": null,
   "metadata": {},
   "outputs": [],
   "source": [
    "# 二分查找，小于等于i的个数  icnt[i]≤i\n",
    "class Solution:\n",
    "    def findDuplicate(self, nums: List[int]) -> int:\n",
    "        n = len(nums)\n",
    "        l, r, ans = 1, n-1, -1\n",
    "        while l<=r:\n",
    "            mid = (l+r)//2 \n",
    "            cnt = 0\n",
    "            for i in range(n):\n",
    "                cnt += nums[i] <= mid\n",
    "            if cnt <= mid:\n",
    "                l = mid + 1\n",
    "            else:\n",
    "                r = mid -1\n",
    "                ans = mid\n",
    "        return ans"
   ]
  },
  {
   "cell_type": "code",
   "execution_count": null,
   "metadata": {},
   "outputs": [],
   "source": [
    "from typing import List\n",
    "\n",
    "nums = [1,3,4,2,2]\n",
    "solution = Solution()\n",
    "result = solution.findDuplicate(nums)\n",
    "result"
   ]
  },
  {
   "cell_type": "markdown",
   "metadata": {},
   "source": [
    "### 2020-07-29 11:00 300. 最长上升子序列\n",
    "给定一个无序的整数数组，找到其中最长上升子序列的长度。\n",
    "\n",
    "``` python\n",
    "示例:\n",
    "\n",
    "输入: [10,9,2,5,3,7,101,18]\n",
    "输出: 4 \n",
    "解释: 最长的上升子序列是 [2,3,7,101]，它的长度是 4。\n",
    "说明:\n",
    "\n",
    "可能会有多种最长上升子序列的组合，你只需要输出对应的长度即可。\n",
    "你算法的时间复杂度应该为 O(n2) 。\n",
    "进阶: 你能将算法的时间复杂度降低到 O(n log n) 吗?\n",
    "```"
   ]
  },
  {
   "cell_type": "code",
   "execution_count": null,
   "metadata": {},
   "outputs": [],
   "source": [
    "class Solution:\n",
    "    def lengthOfLIS(self, nums: List[int]) -> int:\n",
    "        "
   ]
  },
  {
   "cell_type": "code",
   "execution_count": null,
   "metadata": {},
   "outputs": [],
   "source": [
    "\n",
    "from typing import List\n",
    "\n",
    "nums = [10,9,2,5,3,7,101,18]\n",
    "solution = Solution()\n",
    "result = solution.lengthOfLIS(nums)\n",
    "result"
   ]
  },
  {
   "cell_type": "code",
   "execution_count": null,
   "metadata": {},
   "outputs": [],
   "source": []
  },
  {
   "cell_type": "markdown",
   "metadata": {},
   "source": [
    "### 2020-07-29 13:31 378. 有序矩阵中第K小的元素\n",
    "给定一个 n x n 矩阵，其中每行和每列元素均按升序排序，找到矩阵中第 k 小的元素。\n",
    "请注意，它是排序后的第 k 小元素，而不是第 k 个不同的元素。\n",
    "\n",
    " \n",
    "\n",
    "``` python\n",
    "示例：\n",
    "\n",
    "matrix = [\n",
    "   [ 1,  5,  9],\n",
    "   [10, 11, 13],\n",
    "   [12, 13, 15]\n",
    "],\n",
    "k = 8,\n",
    "\n",
    "返回 13。\n",
    " \n",
    "\n",
    "提示：\n",
    "你可以假设 k 的值永远是有效的，1 ≤ k ≤ n2 。\n",
    "```"
   ]
  },
  {
   "cell_type": "code",
   "execution_count": null,
   "metadata": {},
   "outputs": [],
   "source": [
    "# 官解\n",
    "\n",
    "class Solution:\n",
    "    def kthSmallest(self, matrix: List[List[int]], k: int) -> int:\n",
    "        n = len(matrix)\n",
    "        def check(mid):\n",
    "            i, j = n-1, 0\n",
    "            num = 0\n",
    "            while i >= 0 and j<n:\n",
    "                if matrix[i][j] <= mid:\n",
    "                    num += i +1\n",
    "                    j += 1\n",
    "                else:\n",
    "                    i -= 1\n",
    "            return num>=k\n",
    "        \n",
    "        left, right = matrix[0][0], matrix[-1][-1]  # 注意是从-1，-1\n",
    "        while left < right:\n",
    "            mid = (left + right)//2\n",
    "            if check(mid):\n",
    "                right = mid\n",
    "            else:\n",
    "                left = mid + 1\n",
    "        return left\n"
   ]
  },
  {
   "cell_type": "code",
   "execution_count": null,
   "metadata": {},
   "outputs": [],
   "source": [
    "from typing import List\n",
    "\n",
    "matrix = [\n",
    "   [ 1,  5,  9],\n",
    "   [10, 11, 13],\n",
    "   [12, 13, 15]\n",
    "] \n",
    "k = 8 \n",
    "solution = Solution()\n",
    "result = solution.kthSmallest(matrix, k)\n",
    "result"
   ]
  },
  {
   "cell_type": "markdown",
   "metadata": {},
   "source": [
    "## 贪心算法\n",
    "贪心算法（又称贪婪算法）是指，在对问题求解时，总是做出在当前看来是最好的选择。也就是说，不从整体最优上加以考虑，他所做出的是在某种意义上的局部最优解。\n",
    "\n",
    "贪心算法不是对所有问题都能得到整体最优解，关键是贪心策略的选择，选择的贪心策略必须具备无后效性，即某个状态以前的过程不会影响以后的状态，只与当前状态有关。\n"
   ]
  },
  {
   "cell_type": "markdown",
   "metadata": {},
   "source": [
    "### √(20m)2020-07-29 14:59 455. 分发饼干\n",
    "假设你是一位很棒的家长，想要给你的孩子们一些小饼干。但是，每个孩子最多只能给一块饼干。对每个孩子 i ，都有一个胃口值 gi ，这是能让孩子们满足胃口的饼干的最小尺寸；并且每块饼干 j ，都有一个尺寸 sj 。如果 sj >= gi ，我们可以将这个饼干 j 分配给孩子 i ，这个孩子会得到满足。你的目标是尽可能满足越多数量的孩子，并输出这个最大数值。\n",
    "\n",
    "注意：\n",
    "\n",
    "你可以假设胃口值为正。\n",
    "一个小朋友最多只能拥有一块饼干。\n",
    "\n",
    "``` python\n",
    "示例 1:\n",
    "\n",
    "输入: [1,2,3], [1,1]\n",
    "\n",
    "输出: 1\n",
    "\n",
    "解释: \n",
    "你有三个孩子和两块小饼干，3个孩子的胃口值分别是：1,2,3。\n",
    "虽然你有两块小饼干，由于他们的尺寸都是1，你只能让胃口值是1的孩子满足。\n",
    "所以你应该输出1。\n",
    "示例 2:\n",
    "\n",
    "输入: [1,2], [1,2,3]\n",
    "\n",
    "输出: 2\n",
    "\n",
    "解释: \n",
    "你有两个孩子和三块小饼干，2个孩子的胃口值分别是1,2。\n",
    "你拥有的饼干数量和尺寸都足以让所有孩子满足。\n",
    "所以你应该输出2.\n",
    "```"
   ]
  },
  {
   "cell_type": "code",
   "execution_count": null,
   "metadata": {},
   "outputs": [],
   "source": [
    "\n",
    "\n",
    "class Solution:\n",
    "    def findContentChildren(self, g: List[int], s: List[int]) -> int:\n",
    "        if len(g)==0 or len(s) == 0: return 0\n",
    "        g.sort()\n",
    "        s.sort()\n",
    "        i = 0\n",
    "        j = 0\n",
    "        while i<len(g) and j<len(s):\n",
    "            if s[j] >= g[i]:\n",
    "                i += 1\n",
    "            j += 1     \n",
    "    \n",
    "            \n",
    "        return i\n",
    "    "
   ]
  },
  {
   "cell_type": "code",
   "execution_count": null,
   "metadata": {},
   "outputs": [],
   "source": [
    "from typing import List\n",
    "g = [1,2,3,2]\n",
    "s = [1,4]\n",
    "solution = Solution()\n",
    "result = solution.findContentChildren(g,s)\n",
    "result"
   ]
  },
  {
   "cell_type": "markdown",
   "metadata": {},
   "source": [
    "### √(20m)2020-07-29 15:21 392. 判断子序列\n",
    "给定字符串 s 和 t ，判断 s 是否为 t 的子序列。\n",
    "\n",
    "你可以认为 s 和 t 中仅包含英文小写字母。字符串 t 可能会很长（长度 ~= 500,000），而 s 是个短字符串（长度 <=100）。\n",
    "\n",
    "字符串的一个子序列是原始字符串删除一些（也可以不删除）字符而不改变剩余字符相对位置形成的新字符串。（例如，\"ace\"是\"abcde\"的一个子序列，而\"aec\"不是）。\n",
    "\n",
    "``` python\n",
    "示例 1:\n",
    "s = \"abc\", t = \"ahbgdc\"\n",
    "\n",
    "返回 true.\n",
    "\n",
    "示例 2:\n",
    "s = \"axc\", t = \"ahbgdc\"\n",
    "\n",
    "返回 false.\n",
    "\n",
    "后续挑战 :\n",
    "\n",
    "如果有大量输入的 S，称作S1, S2, ... , Sk 其中 k >= 10亿，你需要依次检查它们是否为 T 的子序列。在这种情况下，你会怎样改变代码？\n",
    "```"
   ]
  },
  {
   "cell_type": "code",
   "execution_count": null,
   "metadata": {
    "code_folding": []
   },
   "outputs": [],
   "source": [
    "# 双指针\n",
    "class Solution:\n",
    "    def isSubsequence(self, s: str, t: str) -> bool:\n",
    "        n, m = len(s), len(t)  \n",
    "        i = j = 0\n",
    "        while i < n and j < m:\n",
    "            if t[j] == s[i]:\n",
    "                i += 1\n",
    "            j += 1\n",
    "        return i == n\n",
    "                "
   ]
  },
  {
   "cell_type": "markdown",
   "metadata": {},
   "source": [
    "## 位操作\n",
    "位操作包括：\n",
    "\n",
    "  * ¬ 取反（NOT）\n",
    "  * ∩∩ 按位或（OR）\n",
    "  * ⊕⊕ 按位异或（XOR）\n",
    "  * ∪∪ 按位与（AND）\n",
    "  * 移位\n",
    "\n",
    "移位是一个二元运算符，用来将一个二进制数中的每一位全部都向一个方向移动指定位，溢出的部分将被舍弃，而空缺的部分填入一定的值。\n",
    "\n",
    "移位又分为\n",
    "* 算术移位\n",
    "* 逻辑移位"
   ]
  },
  {
   "cell_type": "markdown",
   "metadata": {},
   "source": [
    "### 2020-07-29 16:04 421. 数组中两个数的最大异或值\n",
    "给定一个非空数组，数组中元素为 a0, a1, a2, … , an-1，其中 0 ≤ ai < 231 。\n",
    "\n",
    "找到 ai 和aj 最大的异或 (XOR) 运算结果，其中0 ≤ i,  j < n 。\n",
    "\n",
    "你能在O(n)的时间解决这个问题吗？\n",
    "\n",
    "``` python\n",
    "示例:\n",
    "\n",
    "输入: [3, 10, 5, 25, 2, 8]\n",
    "\n",
    "输出: 28\n",
    "\n",
    "解释: 最大的结果是 5 ^ 25 = 28.\n",
    "```"
   ]
  },
  {
   "cell_type": "code",
   "execution_count": null,
   "metadata": {},
   "outputs": [],
   "source": [
    "class Solution:\n",
    "    def findMaximumXOR(self, nums: List[int]) -> int:"
   ]
  },
  {
   "cell_type": "code",
   "execution_count": null,
   "metadata": {},
   "outputs": [],
   "source": []
  },
  {
   "cell_type": "markdown",
   "metadata": {},
   "source": [
    "### 2020-07-29 16:13 260. 只出现一次的数字 III\n",
    "给定一个整数数组 nums，其中恰好有两个元素只出现一次，其余所有元素均出现两次。 找出只出现一次的那两个元素。\n",
    "\n",
    "``` python\n",
    "示例 :\n",
    "\n",
    "输入: [1,2,1,3,2,5]\n",
    "输出: [3,5]\n",
    "注意：\n",
    "\n",
    "结果输出的顺序并不重要，对于上面的例子， [5, 3] 也是正确答案。\n",
    "你的算法应该具有线性时间复杂度。你能否仅使用常数空间复杂度来实现？\n",
    "```"
   ]
  },
  {
   "cell_type": "markdown",
   "metadata": {},
   "source": [
    "#### 使用 collection counter 例子\n"
   ]
  },
  {
   "cell_type": "code",
   "execution_count": null,
   "metadata": {},
   "outputs": [],
   "source": [
    "class Solution:\n",
    "    def singleNumber(self, nums: List[int]) -> List[int]:\n",
    "        from collections import Counter\n",
    "        hashmap = Counter(nums)\n",
    "        return [x for x in hashmap if hashmap[x] == 1]"
   ]
  },
  {
   "cell_type": "code",
   "execution_count": null,
   "metadata": {},
   "outputs": [],
   "source": []
  },
  {
   "cell_type": "markdown",
   "metadata": {},
   "source": [
    "## 数学"
   ]
  },
  {
   "cell_type": "markdown",
   "metadata": {},
   "source": [
    "### 7.整数反转 【2月18 8：42】-\n",
    "\n",
    "给出一个 32 位的有符号整数，你需要将这个整数中每位上的数字进行反转。\n",
    "\n",
    "``` python\n",
    "示例 1:\n",
    "\n",
    "输入: 123\n",
    "输出: 321\n",
    "示例 2:\n",
    "\n",
    "输入: -123\n",
    "输出: -321\n",
    "示例 3:\n",
    "\n",
    "输入: 120\n",
    "输出: 21\n",
    "注意:\n",
    "\n",
    "假设我们的环境只能存储得下 32 位的有符号整数，则其数值范围为 [−231,  231 − 1]。请根据这个假设，如果反转后整数溢出那么就返回 0。\n",
    "```"
   ]
  },
  {
   "cell_type": "code",
   "execution_count": null,
   "metadata": {},
   "outputs": [],
   "source": [
    "num = 123\n",
    "num_reverse = num//100 + (num%100//10)*10 + (num%100%10)*100\n",
    "num_reverse"
   ]
  },
  {
   "cell_type": "code",
   "execution_count": null,
   "metadata": {},
   "outputs": [],
   "source": [
    "2**31"
   ]
  },
  {
   "cell_type": "markdown",
   "metadata": {},
   "source": [
    "## 二叉树"
   ]
  },
  {
   "cell_type": "markdown",
   "metadata": {},
   "source": [
    "#### 做题思路\n",
    "我们在做二叉树题目时候，第一想到的应该是用**递归**来解决。\n",
    "\n",
    "递归返回值：\n",
    "\n",
    "        return root  #  注意返回的是root，此时root为空\n",
    "一定注意 root 是树， root.val 是值\n",
    "\n",
    "        valuePerDepth[index].append(root.val)   # 一定注意 root 是树， root.val 是值\n",
    "        \n",
    "注意用数组形式可以把root树加入队列        \n",
    "\n",
    "        queue = [root]  # 注意用数组形式可以把root树加入队列\n",
    "        \n",
    "**注意递归时, return 里的false 和true的关系, 看是and 还是or**"
   ]
  },
  {
   "cell_type": "markdown",
   "metadata": {},
   "source": [
    "### √101. 对称二叉树(二叉树不明白) 2/11 1:06 下午 - 2/11 2:34 下午\n",
    "给定一个二叉树，检查它是否是镜像对称的。\n",
    "\n",
    "```\n",
    "例如，二叉树 [1,2,2,3,4,4,3] 是对称的。\n",
    "\n",
    "    1\n",
    "   / \\\n",
    "  2   2\n",
    " / \\ / \\\n",
    "3  4 4  3\n",
    "但是下面这个 [1,2,2,null,3,null,3] 则不是镜像对称的:\n",
    "\n",
    "    1\n",
    "   / \\\n",
    "  2   2\n",
    "   \\   \\\n",
    "   3    3\n",
    "说明:\n",
    "\n",
    "如果你可以运用递归和迭代两种方法解决这个问题，会很加分。\n",
    "```"
   ]
  },
  {
   "cell_type": "code",
   "execution_count": null,
   "metadata": {
    "run_control": {
     "marked": true
    }
   },
   "outputs": [],
   "source": [
    "# 自己写的 判断数组 二叉树不行\n",
    "class Solution:\n",
    "    def isSymmetric(self, root) -> bool:\n",
    "        import math\n",
    "        length = len(root)\n",
    "        line_sum = math.log(length+1, 2)\n",
    "#         print(line_sum)\n",
    "        if line_sum % 1 != 0:return False\n",
    "        \n",
    "\n",
    "        for i in range(int(line_sum)):\n",
    "            for j in range(int(math.pow(2,(i-1)))): \n",
    "                if root[int(math.pow(2,i)-1+j)] != root[int(math.pow(2,(i+1))-2-j)]:\n",
    "                    return False\n",
    "        return True"
   ]
  },
  {
   "cell_type": "code",
   "execution_count": null,
   "metadata": {
    "run_control": {
     "marked": true
    }
   },
   "outputs": [],
   "source": [
    "global null\n",
    "null = '#'\n",
    "root = [1,2,2,null,3,null,3]\n",
    "root = [1,2,2,3,4,4,3]\n",
    "solution = Solution()\n",
    "result = solution.isSymmetric(root)\n",
    "print(result)"
   ]
  },
  {
   "cell_type": "code",
   "execution_count": null,
   "metadata": {
    "run_control": {
     "marked": true
    }
   },
   "outputs": [],
   "source": [
    "# 递归方法\n",
    "class Solution(object):\n",
    "\tdef isSymmetric(self, root):\n",
    "\t\t\"\"\"\n",
    "\t\t:type root: TreeNode\n",
    "\t\t:rtype: bool\n",
    "\t\t\"\"\"\n",
    "\t\tif not root:\n",
    "\t\t\treturn True\n",
    "\t\tdef dfs(left,right):\n",
    "\t\t\t# 递归的终止条件是两个节点都为空\n",
    "\t\t\t# 或者两个节点中有一个为空\n",
    "\t\t\t# 或者两个节点的值不相等\n",
    "\t\t\tif not (left or right):\n",
    "\t\t\t\treturn True\n",
    "\t\t\tif not (left and right):\n",
    "\t\t\t\treturn False\n",
    "\t\t\tif left.val!= right.val:\n",
    "\t\t\t\treturn False\n",
    "\t\t\treturn dfs(left.left,right.right) and dfs(left.right,right.left)\n",
    "\t\t# 用递归函数，比较左节点，右节点\n",
    "\t\treturn dfs(root.left,root.right)"
   ]
  },
  {
   "cell_type": "code",
   "execution_count": null,
   "metadata": {
    "run_control": {
     "marked": true
    },
    "scrolled": true
   },
   "outputs": [],
   "source": [
    "root = [1,2,2,null,3,null,3]\n",
    "solution = Solution()\n",
    "result = solution.isSymmetric(root)\n",
    "print(result)"
   ]
  },
  {
   "cell_type": "markdown",
   "metadata": {},
   "source": [
    "#### (40m)2️⃣ 2020-08-08 6:40"
   ]
  },
  {
   "cell_type": "code",
   "execution_count": null,
   "metadata": {},
   "outputs": [],
   "source": [
    "class Solution:\n",
    "    def isSymmetric(self, root: TreeNode) -> bool:\n",
    "        if not root: return True\n",
    "        def helper(root1, root2):\n",
    "            if not (root1 or root2): return True\n",
    "            elif not (root1 and root2):  return False\n",
    "\n",
    "            if root1.val != root2.val: return False\n",
    "            return helper(root1.left, root2.right) and helper(root1.right, root2.left)\n",
    "\n",
    "        return helper(root, root)"
   ]
  },
  {
   "cell_type": "markdown",
   "metadata": {},
   "source": [
    "### √104. 二叉树的最大深度 2/13 10:27\n",
    "给定一个二叉树，找出其最大深度。\n",
    "\n",
    "二叉树的深度为根节点到最远叶子节点的最长路径上的节点数。\n",
    "\n",
    "说明: 叶子节点是指没有子节点的节点。\n",
    "\n",
    "```\n",
    "示例：\n",
    "给定二叉树 [3,9,20,null,null,15,7]，\n",
    "\n",
    "    3\n",
    "   / \\\n",
    "  9  20\n",
    "    /  \\\n",
    "   15   7\n",
    "返回它的最大深度 3 。\n",
    "\n",
    "````"
   ]
  },
  {
   "cell_type": "code",
   "execution_count": 2,
   "metadata": {
    "run_control": {
     "marked": true
    }
   },
   "outputs": [],
   "source": [
    "# 树节点TreeNode定义\n",
    "class TreeNode(object):\n",
    "    \"\"\" Definition of a binary tree node.\"\"\"\n",
    "    def __init__(self, x):\n",
    "        self.val = x\n",
    "        self.left = None\n",
    "        self.right = None"
   ]
  },
  {
   "cell_type": "code",
   "execution_count": 3,
   "metadata": {
    "code_folding": [
     0
    ],
    "run_control": {
     "marked": true
    }
   },
   "outputs": [],
   "source": [
    "# 递归-DFS深度搜索策略\n",
    "class Solution:\n",
    "    def maxDepth(self, root):\n",
    "        \"\"\"\n",
    "        :type root: TreeNode\n",
    "        :rtype: int\n",
    "        \"\"\" \n",
    "        if root is None: \n",
    "            return 0 \n",
    "        else: \n",
    "            left_height = self.maxDepth(root.left) \n",
    "            right_height = self.maxDepth(root.right) \n",
    "            return max(left_height, right_height) + 1"
   ]
  },
  {
   "cell_type": "code",
   "execution_count": 4,
   "metadata": {
    "code_folding": [
     0
    ],
    "run_control": {
     "marked": true
    }
   },
   "outputs": [],
   "source": [
    "# 迭代\n",
    "class Solution:\n",
    "    def maxDepth(self, root):\n",
    "        \"\"\"\n",
    "        :type root: TreeNode\n",
    "        :rtype: int\n",
    "        \"\"\" \n",
    "        stack = []\n",
    "        if root is not None:\n",
    "            stack.append((1, root))\n",
    "        \n",
    "        \n",
    "        depth = 0\n",
    "        while stack != []:\n",
    "            current_depth, root = stack.pop()\n",
    "            if root is not None:\n",
    "                depth = max(depth, current_depth)\n",
    "                stack.append((current_depth + 1, root.left))\n",
    "                stack.append((current_depth + 1, root.right))\n",
    "        \n",
    "        return depth"
   ]
  },
  {
   "cell_type": "markdown",
   "metadata": {},
   "source": [
    "#### 2️⃣(50m)  2020-07-22  10:46 "
   ]
  },
  {
   "cell_type": "code",
   "execution_count": 5,
   "metadata": {},
   "outputs": [],
   "source": [
    "class Solution:\n",
    "    def maxDepth(self, root: TreeNode) -> int:\n",
    "        def helper( root, depth):\n",
    "            if not root:\n",
    "                return 0\n",
    "            \n",
    "            self.maxdepth = max(self.maxdepth,depth + 1)\n",
    "                    \n",
    "            helper(root.left, depth + 1)\n",
    "            helper(root.right, depth + 1)\n",
    "            \n",
    "            return self.maxdepth\n",
    "\n",
    "        self.maxdepth = 0\n",
    "        return helper(root, 0)"
   ]
  },
  {
   "cell_type": "markdown",
   "metadata": {},
   "source": [
    "### (50m)2020-07-22 9:00 108. 将有序数组转换为二叉搜索树\n",
    "将一个按照升序排列的有序数组，转换为一棵高度平衡二叉搜索树。\n",
    "\n",
    "本题中，一个高度平衡二叉树是指一个二叉树每个节点 的左右两个子树的高度差的绝对值不超过 1。\n",
    "\n",
    "```\n",
    "示例:\n",
    "\n",
    "给定有序数组: [-10,-3,0,5,9],\n",
    "\n",
    "一个可能的答案是：[0,-3,9,-10,null,5]，它可以表示下面这个高度平衡二叉搜索树：\n",
    "\n",
    "      0\n",
    "     / \\\n",
    "   -3   9\n",
    "   /   /\n",
    " -10  5\n",
    "```"
   ]
  },
  {
   "cell_type": "markdown",
   "metadata": {},
   "source": [
    "#### 2️⃣ 2020-08-08 4:48"
   ]
  },
  {
   "cell_type": "code",
   "execution_count": 6,
   "metadata": {},
   "outputs": [
    {
     "ename": "NameError",
     "evalue": "name 'List' is not defined",
     "output_type": "error",
     "traceback": [
      "\u001b[0;31m---------------------------------------------------------------------------\u001b[0m",
      "\u001b[0;31mNameError\u001b[0m                                 Traceback (most recent call last)",
      "\u001b[0;32m<ipython-input-6-a9ae52dc2c7f>\u001b[0m in \u001b[0;36m<module>\u001b[0;34m\u001b[0m\n\u001b[0;32m----> 1\u001b[0;31m \u001b[0;32mclass\u001b[0m \u001b[0mSolution\u001b[0m\u001b[0;34m:\u001b[0m\u001b[0;34m\u001b[0m\u001b[0;34m\u001b[0m\u001b[0m\n\u001b[0m\u001b[1;32m      2\u001b[0m     \u001b[0;32mdef\u001b[0m \u001b[0msortedArrayToBST\u001b[0m\u001b[0;34m(\u001b[0m\u001b[0mself\u001b[0m\u001b[0;34m,\u001b[0m \u001b[0mnums\u001b[0m\u001b[0;34m:\u001b[0m \u001b[0mList\u001b[0m\u001b[0;34m[\u001b[0m\u001b[0mint\u001b[0m\u001b[0;34m]\u001b[0m\u001b[0;34m)\u001b[0m \u001b[0;34m->\u001b[0m \u001b[0mTreeNode\u001b[0m\u001b[0;34m:\u001b[0m\u001b[0;34m\u001b[0m\u001b[0;34m\u001b[0m\u001b[0m\n\u001b[1;32m      3\u001b[0m         \u001b[0;32mif\u001b[0m \u001b[0;32mnot\u001b[0m \u001b[0mnums\u001b[0m\u001b[0;34m:\u001b[0m \u001b[0;32mreturn\u001b[0m \u001b[0;32mNone\u001b[0m\u001b[0;34m\u001b[0m\u001b[0;34m\u001b[0m\u001b[0m\n\u001b[1;32m      4\u001b[0m \u001b[0;34m\u001b[0m\u001b[0m\n\u001b[1;32m      5\u001b[0m         \u001b[0;31m# 因为是平衡二叉树, 故找中间节点\u001b[0m\u001b[0;34m\u001b[0m\u001b[0;34m\u001b[0m\u001b[0;34m\u001b[0m\u001b[0m\n",
      "\u001b[0;32m<ipython-input-6-a9ae52dc2c7f>\u001b[0m in \u001b[0;36mSolution\u001b[0;34m()\u001b[0m\n\u001b[1;32m      1\u001b[0m \u001b[0;32mclass\u001b[0m \u001b[0mSolution\u001b[0m\u001b[0;34m:\u001b[0m\u001b[0;34m\u001b[0m\u001b[0;34m\u001b[0m\u001b[0m\n\u001b[0;32m----> 2\u001b[0;31m     \u001b[0;32mdef\u001b[0m \u001b[0msortedArrayToBST\u001b[0m\u001b[0;34m(\u001b[0m\u001b[0mself\u001b[0m\u001b[0;34m,\u001b[0m \u001b[0mnums\u001b[0m\u001b[0;34m:\u001b[0m \u001b[0mList\u001b[0m\u001b[0;34m[\u001b[0m\u001b[0mint\u001b[0m\u001b[0;34m]\u001b[0m\u001b[0;34m)\u001b[0m \u001b[0;34m->\u001b[0m \u001b[0mTreeNode\u001b[0m\u001b[0;34m:\u001b[0m\u001b[0;34m\u001b[0m\u001b[0;34m\u001b[0m\u001b[0m\n\u001b[0m\u001b[1;32m      3\u001b[0m         \u001b[0;32mif\u001b[0m \u001b[0;32mnot\u001b[0m \u001b[0mnums\u001b[0m\u001b[0;34m:\u001b[0m \u001b[0;32mreturn\u001b[0m \u001b[0;32mNone\u001b[0m\u001b[0;34m\u001b[0m\u001b[0;34m\u001b[0m\u001b[0m\n\u001b[1;32m      4\u001b[0m \u001b[0;34m\u001b[0m\u001b[0m\n\u001b[1;32m      5\u001b[0m         \u001b[0;31m# 因为是平衡二叉树, 故找中间节点\u001b[0m\u001b[0;34m\u001b[0m\u001b[0;34m\u001b[0m\u001b[0;34m\u001b[0m\u001b[0m\n",
      "\u001b[0;31mNameError\u001b[0m: name 'List' is not defined"
     ]
    }
   ],
   "source": [
    "class Solution:\n",
    "    def sortedArrayToBST(self, nums: List[int]) -> TreeNode:\n",
    "        if not nums: return None\n",
    "        \n",
    "        # 因为是平衡二叉树, 故找中间节点\n",
    "        mid = len(nums)//2\n",
    "        node = TreeNode(nums[mid])  # 注意root是一个值!\n",
    "        \n",
    "        left = nums[:mid]\n",
    "        right = nums[mid+1:]\n",
    "    \n",
    "    \n",
    "        node.left = sortedArrayToBST(left)\n",
    "        node.right = sortedArrayToBST(right)\n",
    "        \n",
    "        return node\n",
    "    \n",
    "        "
   ]
  },
  {
   "cell_type": "markdown",
   "metadata": {},
   "source": [
    "#### 递归法带helper函数求解标准步骤"
   ]
  },
  {
   "cell_type": "code",
   "execution_count": null,
   "metadata": {},
   "outputs": [],
   "source": [
    "# Definition for a binary tree node.\n",
    "class TreeNode:\n",
    "    def __init__(self, x):\n",
    "        self.val = x\n",
    "        self.left = None\n",
    "        self.right = None\n",
    "\n",
    "class Solution:\n",
    "    def sortedArrayToBST(self, nums: List[int]) -> TreeNode:\n",
    "        def helper(left,right):   # 注意没有self\n",
    "            # 基准情况，二叉树为空\n",
    "            if left > right:  # 左右位置做标\n",
    "                return None\n",
    "            \n",
    "            # 选中间偏左的结点为root\n",
    "            mid = (left+right)//2\n",
    "            \n",
    "            root = TreeNode(nums[mid])  # root = TreeNode(0) # 用0作为根节点\n",
    "            root.left = helper(left, mid - 1)\n",
    "            root.right = helper(mid + 1, right)\n",
    "            \n",
    "            return root \n",
    "        \n",
    "        return helper(0, len(nums) - 1)\n",
    "    "
   ]
  },
  {
   "cell_type": "code",
   "execution_count": null,
   "metadata": {},
   "outputs": [],
   "source": [
    "from typing import List\n",
    "\n",
    "nums = [1,2,0,2,2]\n",
    "solution = Solution()\n",
    "result = solution.sortedArrayToBST(nums)\n",
    "result"
   ]
  },
  {
   "cell_type": "markdown",
   "metadata": {},
   "source": [
    "### √(50m)2020-07-22 09:56 226. 翻转二叉树\n",
    "翻转一棵二叉树。\n",
    "\n",
    "```\n",
    "示例：\n",
    "\n",
    "输入：\n",
    "\n",
    "     4\n",
    "   /   \\\n",
    "  2     7\n",
    " / \\   / \\\n",
    "1   3 6   9\n",
    "输出：\n",
    "\n",
    "     4\n",
    "   /   \\\n",
    "  7     2\n",
    " / \\   / \\\n",
    "9   6 3   1\n",
    "```"
   ]
  },
  {
   "cell_type": "markdown",
   "metadata": {},
   "source": [
    "![image.png](https://pic.leetcode-cn.com/0f91f7cbf5740de86e881eb7427c6c3993f4eca3624ca275d71e21c5e3e2c550-226_2.gif)"
   ]
  },
  {
   "cell_type": "markdown",
   "metadata": {},
   "source": [
    "#### 递归法不带helper函数标准步骤"
   ]
  },
  {
   "cell_type": "code",
   "execution_count": null,
   "metadata": {
    "code_folding": []
   },
   "outputs": [],
   "source": [
    "# Definition for a binary tree node.\n",
    "# class TreeNode:\n",
    "#     def __init__(self, x):\n",
    "#         self.val = x\n",
    "#         self.left = None\n",
    "#         self.right = None\n",
    "# 递归\n",
    "class Solution:\n",
    "    def invertTree(self, root: TreeNode) -> TreeNode:\n",
    "        if not root:  # root is empty then return, 即使子树为空也没关系应该\n",
    "            return None\n",
    "\n",
    "        root.left, root.right = root.right, root.left\n",
    "        \n",
    "        self.invertTree(root.left)\n",
    "        self.invertTree(root.right)\n",
    "\n",
    "        return root  #  注意返回的是root，此时root为空\n",
    "\n",
    "\n",
    "            "
   ]
  },
  {
   "cell_type": "markdown",
   "metadata": {},
   "source": [
    "#### 迭代法标准步骤"
   ]
  },
  {
   "cell_type": "code",
   "execution_count": null,
   "metadata": {},
   "outputs": [],
   "source": [
    "# 迭代\n",
    "class Solution:\n",
    "    def invertTree(self, root: TreeNode) -> TreeNode:\n",
    "        if not root:\n",
    "            return None\n",
    "        queue = [root]  # 注意用数组形式可以把root树加入队列\n",
    "        while queue:\n",
    "            tmp = queue.pop(0)\n",
    "            tmp.left, tmp.right = tmp.right, tmp.left\n",
    "            \n",
    "            if tmp.left:\n",
    "                queue.append(tmp.left)\n",
    "            if tmp.right:\n",
    "                queue.append(tmp.right)\n",
    "        \n",
    "        return root "
   ]
  },
  {
   "cell_type": "markdown",
   "metadata": {},
   "source": [
    "### (40m)2020-07-22 12:32 543. 二叉树的直径\n",
    "给定一棵二叉树，你需要计算它的直径长度。一棵二叉树的直径长度是任意两个结点路径长度中的最大值。这条路径可能穿过也可能不穿过根结点。\n",
    "\n",
    " \n",
    "\n",
    "```\n",
    "示例 :\n",
    "给定二叉树\n",
    "\n",
    "          1\n",
    "         / \\\n",
    "        2   3\n",
    "       / \\     \n",
    "      4   5    \n",
    "返回 3, 它的长度是路径 [4,2,1,3] 或者 [5,2,1,3]。\n",
    "```"
   ]
  },
  {
   "cell_type": "markdown",
   "metadata": {},
   "source": [
    "#### 深度优先搜索\n",
    "1. 大多使用递归函数\n",
    "2. 递归函数三要素\n",
    "    1. 子问题原问题做相同的事情\n",
    "    2. 需要递归结束的出口\n",
    "    3. 递归表达式\n",
    "    c"
   ]
  },
  {
   "cell_type": "markdown",
   "metadata": {},
   "source": [
    "#### 当return输出和helper子任务不同时"
   ]
  },
  {
   "cell_type": "code",
   "execution_count": null,
   "metadata": {},
   "outputs": [],
   "source": [
    "# 递归过程：\n",
    "# 求depth（1）要求depth（2），depth（3）\n",
    "# 求depth（2）要 ‘’‘\n",
    "# ’‘’\n",
    "# 递归表达式：\n",
    "# depth(rt) = max(depth(rt->left), depth(rt->right))+1\n",
    "class Solution:\n",
    "    def diameterOfBinaryTree(self, root: TreeNode) -> int:        \n",
    "        self.ans = 1\n",
    "        def depth(root):\n",
    "            if not root: return 0\n",
    "            self.ans = self.ans, depthdepth(root.left) + depth(root.right)+1\n",
    "            return max(depth(root.left), depth(root.right))+1\n",
    "        \n",
    "        depth(root)\n",
    "        return self.ans - 1"
   ]
  },
  {
   "cell_type": "markdown",
   "metadata": {},
   "source": [
    "#### 2️⃣ 2020-08-08 5:07"
   ]
  },
  {
   "cell_type": "code",
   "execution_count": null,
   "metadata": {},
   "outputs": [],
   "source": [
    "class Solution:\n",
    "    def diameterOfBinaryTree(self, root: TreeNode) -> int:        \n",
    "        self.ans = 1\n",
    "        def depth():  # 返回该节点为根的子树的深度( max(L,R)+1 )\n",
    "            if not root: return 0\n",
    "            L = depth(node.left)\n",
    "            R = depth(node.right)\n",
    "            self.ans = max(self.ans, L+R+1)\n",
    "            return max(L,R) + 1\n",
    "        depth(root)\n",
    "        return self.ans - 1\n"
   ]
  },
  {
   "cell_type": "code",
   "execution_count": null,
   "metadata": {},
   "outputs": [],
   "source": []
  },
  {
   "cell_type": "markdown",
   "metadata": {},
   "source": [
    "### √2020-07-20 20:15 102. 二叉树的层序遍历\n",
    "给你一个二叉树，请你返回其按 层序遍历 得到的节点值。 （即逐层地，从左到右访问所有节点）。\n",
    "\n",
    " \n",
    "\n",
    "```\n",
    "示例：\n",
    "二叉树：[3,9,20,null,null,15,7],\n",
    "\n",
    "    3\n",
    "   / \\\n",
    "  9  20\n",
    "    /  \\\n",
    "   15   7\n",
    "返回其层次遍历结果：\n",
    "\n",
    "[\n",
    "  [3],\n",
    "  [9,20],\n",
    "  [15,7]\n",
    "]\n",
    "```"
   ]
  },
  {
   "cell_type": "markdown",
   "metadata": {},
   "source": [
    "#### 2️⃣(50m)2020-07-22  2:40"
   ]
  },
  {
   "cell_type": "code",
   "execution_count": null,
   "metadata": {
    "code_folding": []
   },
   "outputs": [],
   "source": [
    "# 递归\n",
    "class Solution:\n",
    "    def levelOrder(self, root: TreeNode) -> List[List[int]]:\n",
    "        valuePerDepth = []\n",
    "        def helper(root, index):\n",
    "            if not root: return 0\n",
    "                       \n",
    "            if len(valuePerDepth) < index+1:\n",
    "                valuePerDepth.append([])\n",
    "\n",
    "            valuePerDepth[index].append(root.val)   # 一定注意 root 是树， root.val 是值\n",
    "\n",
    "            L = root.left\n",
    "            R = root.right\n",
    "            if L: helper(L, index+1)\n",
    "            if R: helper(R, index+1) \n",
    "        \n",
    "        helper(root, 0)\n",
    "        return valuePerDepth    \n",
    "            \n",
    "            \n",
    "            "
   ]
  },
  {
   "cell_type": "code",
   "execution_count": null,
   "metadata": {},
   "outputs": [],
   "source": [
    "# 官解，迭代\n",
    "class Solution:\n",
    "    def levelOrder(self, root: TreeNode) -> List[List[int]]:\n",
    "        if not root: return []\n",
    "        res = []\n",
    "        queue = [root]  \n",
    "        while queue:\n",
    "            size = len(queue)\n",
    "            tmp = []\n",
    "            \n",
    "            for _ in xrange(size):\n",
    "                r = queue.pop(0)\n",
    "                tmp.append(r.val)\n",
    "                if r.left:\n",
    "                    queue.append(r.left)\n",
    "                if r.right:\n",
    "                    queue.append(r.right)\n",
    "            res.append(tmp)\n",
    "        return res\n",
    "\n",
    "\n"
   ]
  },
  {
   "cell_type": "markdown",
   "metadata": {},
   "source": [
    "### √ (7m)2020-07-22 15:33 107. 二叉树的层次遍历 II\n",
    "给定一个二叉树，返回其节点值自底向上的层次遍历。 （即按从叶子节点所在层到根节点所在的层，逐层从左向右遍历）\n",
    "```\n",
    "例如：\n",
    "给定二叉树 [3,9,20,null,null,15,7],\n",
    "\n",
    "    3\n",
    "   / \\\n",
    "  9  20\n",
    "    /  \\\n",
    "   15   7\n",
    "返回其自底向上的层次遍历为：\n",
    "\n",
    "[\n",
    "  [15,7],\n",
    "  [9,20],\n",
    "  [3]\n",
    "]\n",
    "```"
   ]
  },
  {
   "cell_type": "code",
   "execution_count": null,
   "metadata": {},
   "outputs": [],
   "source": [
    "class Solution:\n",
    "    def levelOrderBottom(self, root: TreeNode) -> List[List[int]]:\n",
    "        valuePerDepth = []\n",
    "        def helper(root, index):\n",
    "            if not root: return 0\n",
    "                       \n",
    "            if len(valuePerDepth) < index+1:\n",
    "                valuePerDepth.append([])\n",
    "\n",
    "            valuePerDepth[index].append(root.val)   # 一定注意 root 是树， root.val 是值\n",
    "\n",
    "            L = root.left\n",
    "            R = root.right\n",
    "            if L: helper(L, index+1)\n",
    "            if R: helper(R, index+1) \n",
    "        \n",
    "        helper(root, 0)\n",
    "        valuePerDepth = valuePerDepth[::-1]  # 反转数组操作\n",
    "        return valuePerDepth\n",
    "            "
   ]
  },
  {
   "cell_type": "markdown",
   "metadata": {},
   "source": [
    "### 2020-08-08 17:40 617. 合并二叉树\n",
    "给定两个二叉树，想象当你将它们中的一个覆盖到另一个上时，两个二叉树的一些节点便会重叠。\n",
    "\n",
    "你需要将他们合并为一个新的二叉树。合并的规则是如果两个节点重叠，那么将他们的值相加作为节点合并后的新值，否则不为 NULL 的节点将直接作为新二叉树的节点。\n",
    "\n",
    "``` python\n",
    "示例 1:\n",
    "\n",
    "输入: \n",
    "\tTree 1                     Tree 2                  \n",
    "          1                         2                             \n",
    "         / \\                       / \\                            \n",
    "        3   2                     1   3                        \n",
    "       /                           \\   \\                      \n",
    "      5                             4   7                  \n",
    "输出: \n",
    "合并后的树:\n",
    "\t     3\n",
    "\t    / \\\n",
    "\t   4   5\n",
    "\t  / \\   \\ \n",
    "\t 5   4   7\n",
    "注意: 合并必须从两个树的根节点开始。\n",
    "```"
   ]
  },
  {
   "cell_type": "code",
   "execution_count": null,
   "metadata": {},
   "outputs": [],
   "source": [
    "class Solution:\n",
    "    def mergeTrees(self, t1: TreeNode, t2: TreeNode) -> TreeNode:\n",
    "        if not t1 and not t2: return 0\n",
    "        # if not t1 or not t2:\n",
    "        if t1 is None:\n",
    "            return t2   # is return, 相当于给原来的left, right赋值\n",
    "        if t2 is None:\n",
    "            root = t1          \n",
    "        t1.val += t2.val\n",
    "        t1.left = self.mergeTrees(t1.left, t2.left)\n",
    "        t1.right = self.mergeTrees(t1.right, t2.right)\n",
    "        return t1"
   ]
  },
  {
   "cell_type": "markdown",
   "metadata": {},
   "source": [
    "### 2020-08-08 19:21 687. 最长同值路径\n",
    "给定一个二叉树，找到最长的路径，这个路径中的每个节点具有相同值。 这条路径可以经过也可以不经过根节点。\n",
    "\n",
    "注意：两个节点之间的路径长度由它们之间的边数表示。\n",
    "\n",
    "``` python\n",
    "示例 1:\n",
    "\n",
    "输入:\n",
    "\n",
    "              5\n",
    "             / \\\n",
    "            4   5\n",
    "           / \\   \\\n",
    "          1   1   5\n",
    "输出:\n",
    "\n",
    "2\n",
    "示例 2:\n",
    "\n",
    "输入:\n",
    "\n",
    "              1\n",
    "             / \\\n",
    "            4   5\n",
    "           / \\   \\\n",
    "          4   4   5\n",
    "输出:\n",
    "\n",
    "2\n",
    "注意: 给定的二叉树不超过10000个结点。 树的高度不超过1000。\n",
    "```"
   ]
  },
  {
   "cell_type": "code",
   "execution_count": null,
   "metadata": {},
   "outputs": [],
   "source": [
    "class Solution(object):\n",
    "    def longestUnivaluePath(self, root):\n",
    "        self.ans = 0\n",
    "\n",
    "        def arrow_length(node):\n",
    "            if not node: return 0\n",
    "            left_length = arrow_length(node.left)\n",
    "            right_length = arrow_length(node.right)\n",
    "            left_arrow = right_arrow = 0\n",
    "            if node.left and node.left.val == node.val:\n",
    "                left_arrow = left_length + 1\n",
    "            if node.right and node.right.val == node.val:\n",
    "                right_arrow = right_length + 1\n",
    "            self.ans = max(self.ans, left_arrow + right_arrow)\n",
    "            return max(left_arrow, right_arrow)\n",
    "\n",
    "        arrow_length(root)\n",
    "        return self.ans\n",
    "\n",
    "作者：LeetCode\n",
    "链接：https://leetcode-cn.com/problems/longest-univalue-path/solution/zui-chang-tong-zhi-lu-jing-by-leetcode/\n",
    "来源：力扣（LeetCode）\n",
    "著作权归作者所有。商业转载请联系作者获得授权，非商业转载请注明出处。"
   ]
  },
  {
   "cell_type": "markdown",
   "metadata": {},
   "source": [
    "### √2020-07-27 16:05 112. 路径总和\n",
    "给定一个二叉树和一个目标和，判断该树中是否存在根节点到叶子节点的路径，这条路径上所有节点值相加等于目标和。\n",
    "\n",
    "说明: 叶子节点是指没有子节点的节点。\n",
    "\n",
    "``` python\n",
    "示例: \n",
    "给定如下二叉树，以及目标和 sum = 22，\n",
    "\n",
    "              5\n",
    "             / \\\n",
    "            4   8\n",
    "           /   / \\\n",
    "          11  13  4\n",
    "         /  \\      \\\n",
    "        7    2      1\n",
    "返回 true, 因为存在目标和为 22 的根节点到叶子节点的路径 5->4->11->2。\n",
    "```"
   ]
  },
  {
   "cell_type": "markdown",
   "metadata": {},
   "source": [
    "#### (20m)2️⃣ 2020-08-08 8:07"
   ]
  },
  {
   "cell_type": "code",
   "execution_count": null,
   "metadata": {},
   "outputs": [],
   "source": [
    "class Solution:\n",
    "    def hasPathSum(self, root: TreeNode, sum: int) -> bool:\n",
    "        if not root: return False\n",
    "\n",
    "        if root.val == sum and not(root.left or root.right):\n",
    "            return True\n",
    "\n",
    "        return self.hasPathSum(root.left, sum-root.val) or self.hasPathSum(root.right, sum-root.val)"
   ]
  },
  {
   "cell_type": "markdown",
   "metadata": {},
   "source": [
    "### 2020-08-10 15:47 257. 二叉树的所有路径\n",
    "给定一个二叉树，返回所有从根节点到叶子节点的路径。\n",
    "\n",
    "说明: 叶子节点是指没有子节点的节点。\n",
    "\n",
    "``` python\n",
    "示例:\n",
    "\n",
    "输入:\n",
    "\n",
    "   1\n",
    " /   \\\n",
    "2     3\n",
    " \\\n",
    "  5\n",
    "\n",
    "输出: [\"1->2->5\", \"1->3\"]\n",
    "\n",
    "解释: 所有根节点到叶子节点的路径为: 1->2->5, 1->3\n",
    "```"
   ]
  },
  {
   "cell_type": "code",
   "execution_count": null,
   "metadata": {},
   "outputs": [],
   "source": [
    "# Definition for a binary tree node.\n",
    "# class TreeNode:\n",
    "#     def __init__(self, x):\n",
    "#         self.val = x\n",
    "#         self.left = None\n",
    "#         self.right = None\n",
    "\n",
    "class Solution:\n",
    "    def binaryTreePaths(self, root: TreeNode) -> List[str]:\n",
    "        if not root: return []\n",
    "        ans = []\n",
    "        path = ''\n",
    "\n",
    "        def dfs(root, path):\n",
    "            if root: \n",
    "                path+=str(root.val)\n",
    "                if not(root.left or root.right): ans.append(path)\n",
    "                else:\n",
    "                    path += '->'\n",
    "                    dfs(root.left, path)\n",
    "                    dfs(root.right, path)\n",
    "\n",
    "        dfs(root,path)\n",
    "        return ans\n",
    "        "
   ]
  },
  {
   "cell_type": "markdown",
   "metadata": {},
   "source": [
    "### 2020-08-10 16:27 669. 修剪二叉搜索树\n",
    "给定一个二叉搜索树，同时给定最小边界L 和最大边界 R。通过修剪二叉搜索树，使得所有节点的值在[L, R]中 (R>=L) 。你可能需要改变树的根节点，所以结果应当返回修剪好的二叉搜索树的新的根节点。\n",
    "\n",
    "``` python\n",
    "示例 1:\n",
    "\n",
    "输入: \n",
    "    1\n",
    "   / \\\n",
    "  0   2\n",
    "\n",
    "  L = 1\n",
    "  R = 2\n",
    "\n",
    "输出: \n",
    "    1\n",
    "      \\\n",
    "       2\n",
    "示例 2:\n",
    "\n",
    "输入: \n",
    "    3\n",
    "   / \\\n",
    "  0   4\n",
    "   \\\n",
    "    2\n",
    "   /\n",
    "  1\n",
    "\n",
    "  L = 1\n",
    "  R = 3\n",
    "\n",
    "输出: \n",
    "      3\n",
    "     / \n",
    "   2   \n",
    "  /\n",
    " 1\n",
    "```"
   ]
  },
  {
   "cell_type": "markdown",
   "metadata": {},
   "source": [
    "### 2020-08-10 16:48 538. 把二叉搜索树转换为累加树\n",
    "给定一个二叉搜索树（Binary Search Tree），把它转换成为累加树（Greater Tree)，使得每个节点的值是原来的节点值加上所有大于它的节点值之和。\n",
    "\n",
    " \n",
    "```\n",
    "例如：\n",
    "\n",
    "输入: 原始二叉搜索树:\n",
    "              5\n",
    "            /   \\\n",
    "           2     13\n",
    "\n",
    "输出: 转换为累加树:\n",
    "             18\n",
    "            /   \\\n",
    "          20     13\n",
    "```"
   ]
  },
  {
   "cell_type": "code",
   "execution_count": null,
   "metadata": {},
   "outputs": [],
   "source": []
  },
  {
   "cell_type": "code",
   "execution_count": null,
   "metadata": {},
   "outputs": [],
   "source": []
  },
  {
   "cell_type": "code",
   "execution_count": null,
   "metadata": {},
   "outputs": [],
   "source": []
  },
  {
   "cell_type": "code",
   "execution_count": null,
   "metadata": {},
   "outputs": [],
   "source": []
  },
  {
   "cell_type": "markdown",
   "metadata": {},
   "source": [
    "## 字典，哈希表"
   ]
  },
  {
   "cell_type": "markdown",
   "metadata": {},
   "source": [
    "### 1.两数之和\n",
    "\n",
    "给定一个整数数组 nums 和一个目标值 target，请你在该数组中找出和为目标值的那 两个 整数，并返回他们的数组下标。你可以假设每种输入只会对应一个答案。但是，你不能重复利用这个数组中同样的元素。\n",
    "```\n",
    "示例:\n",
    "\n",
    "给定 nums = [2, 7, 11, 15], target = 9\n",
    "因为 nums[0] + nums[1] = 2 + 7 = 9\n",
    "所以返回 [0, 1]\n",
    "```\n"
   ]
  },
  {
   "cell_type": "code",
   "execution_count": null,
   "metadata": {},
   "outputs": [],
   "source": []
  },
  {
   "cell_type": "markdown",
   "metadata": {},
   "source": [
    "#### 字典使用和查字典方法\n",
    "* 遍历列表同时查字典 -- 字典查找速度快\n",
    "* 从第一个元素开始找出(target-n)的值,存储于dct中.\n",
    "``` python\n",
    "for i, n in enumerate(nums):\n",
    "    if target - n in dct:\n",
    "        return [dct[target - n], i]\n",
    "    dct[n] = i\n",
    "```"
   ]
  },
  {
   "cell_type": "code",
   "execution_count": null,
   "metadata": {
    "run_control": {
     "marked": true
    }
   },
   "outputs": [],
   "source": [
    "nums = [2, 7, 11, 15]\n",
    "target = 9"
   ]
  },
  {
   "cell_type": "code",
   "execution_count": null,
   "metadata": {
    "code_folding": [],
    "run_control": {
     "marked": true
    }
   },
   "outputs": [],
   "source": [
    "# 主要思想: \n",
    "# 判断 if target - n in dct\n",
    "\n",
    "class Solution:\n",
    "    def twoSum(nums, target):\n",
    "        dct = {}\n",
    "        for i, n in enumerate(nums):\n",
    "            if target - n in dct:\n",
    "                return [dct[target - n], i]\n",
    "            dct[n] = i\n",
    "            \n",
    "result = Solution.twoSum(nums,target)\n",
    "result"
   ]
  },
  {
   "cell_type": "code",
   "execution_count": null,
   "metadata": {
    "code_folding": [],
    "run_control": {
     "marked": true
    }
   },
   "outputs": [],
   "source": [
    "# 直接从数组中找\n",
    "# 800ms so slow"
   ]
  },
  {
   "cell_type": "code",
   "execution_count": null,
   "metadata": {
    "run_control": {
     "marked": true
    }
   },
   "outputs": [],
   "source": [
    "start = time.time()\n",
    "class Solution:\n",
    "    def twoSum(nums, target):\n",
    "        for i, n in enumerate(nums):\n",
    "            if (target - n) in nums[i+1:]:\n",
    "                j = nums[i+1:].index(target - n)\n",
    "                return [i, j+i+1]\n",
    "\n",
    "result = Solution.twoSum(nums,target)\n",
    "result\n",
    "\n",
    "end = time.time()\n",
    "print((start - end))\n",
    "\n",
    "\n"
   ]
  },
  {
   "cell_type": "markdown",
   "metadata": {},
   "source": [
    "### 136. 只出现一次的数字 2/11 2:52 下午 - 2/11 7:38 下午\n",
    "给定一个非空整数数组，除了某个元素只出现一次以外，其余每个元素均出现两次。找出那个只出现了一次的元素。\n",
    "```\n",
    "说明：\n",
    "\n",
    "你的算法应该具有线性时间复杂度。 你可以不使用额外空间来实现吗？\n",
    "\n",
    "示例 1:\n",
    "\n",
    "输入: [2,2,1]\n",
    "输出: 1\n",
    "示例 2:\n",
    "\n",
    "输入: [4,1,2,1,2]\n",
    "输出: 4\n",
    "```"
   ]
  },
  {
   "cell_type": "code",
   "execution_count": null,
   "metadata": {
    "run_control": {
     "marked": true
    }
   },
   "outputs": [],
   "source": [
    "# 当nums列表长时非常费时 -- 自己写的\n",
    "class Solution:\n",
    "    def singleNumber(self, nums) -> int:\n",
    "#         stack = []\n",
    "#         map = {}\n",
    "#         for num in nums:\n",
    "#             if num not in stack:\n",
    "#                 stack.append(num)\n",
    "        length = len(nums)\n",
    "        for i in range(length):\n",
    "            if (nums[i] not in nums[:i]) & (nums[i] not in nums[i+1:]):\n",
    "                return nums[i]"
   ]
  },
  {
   "cell_type": "code",
   "execution_count": null,
   "metadata": {
    "run_control": {
     "marked": true
    }
   },
   "outputs": [],
   "source": [
    "nums = [4,1,2,1,2]\n",
    "solution = Solution()\n",
    "result = solution.singleNumber(nums)\n",
    "print(result)"
   ]
  },
  {
   "cell_type": "code",
   "execution_count": null,
   "metadata": {
    "run_control": {
     "marked": true
    }
   },
   "outputs": [],
   "source": [
    "# 数组操作\n",
    "class Solution(object):\n",
    "    def singleNumber(self, nums):\n",
    "        \"\"\"\n",
    "        :type nums: List[int]\n",
    "        :rtype: int\n",
    "        \"\"\"\n",
    "        no_duplicate_list = []\n",
    "        for i in nums:\n",
    "            if i not in no_duplicate_list: # 注意此处用2个if 的话会判断2次\n",
    "                no_duplicate_list.append(i)\n",
    "            else:\n",
    "                no_duplicate_list.remove(i)                \n",
    "        return no_duplicate_list.pop()"
   ]
  },
  {
   "cell_type": "code",
   "execution_count": null,
   "metadata": {
    "run_control": {
     "marked": true
    }
   },
   "outputs": [],
   "source": [
    "nums = [4,1,2,1,2]\n",
    "solution = Solution()\n",
    "result = solution.singleNumber(nums)\n",
    "print(result)"
   ]
  },
  {
   "cell_type": "code",
   "execution_count": null,
   "metadata": {
    "run_control": {
     "marked": true
    }
   },
   "outputs": [],
   "source": [
    "# 哈希表 -- 是以要存的数字为索引,存入1\n",
    "class Solution(object):\n",
    "    def singleNumber(self, nums):\n",
    "        \"\"\"\n",
    "        :type nums: List[int]\n",
    "        :rtype: int\n",
    "        \"\"\"\n",
    "        hash_table = {}\n",
    "        for i in nums:\n",
    "            try:\n",
    "                hash_table.pop(i)\n",
    "            except:\n",
    "                hash_table[i] = 1\n",
    "        return hash_table.popitem()[0]\n",
    "\n",
    "nums = [4,1,2,1,2]\n",
    "solution = Solution()\n",
    "result = solution.singleNumber(nums)\n",
    "print(result)"
   ]
  },
  {
   "cell_type": "code",
   "execution_count": null,
   "metadata": {
    "run_control": {
     "marked": true
    }
   },
   "outputs": [],
   "source": [
    "# 位异或方法\n",
    "class Solution(object):\n",
    "    def singleNumber(self, nums):\n",
    "        \"\"\"\n",
    "        :type nums: List[int]\n",
    "        :rtype: int\n",
    "        \"\"\"\n",
    "        a = 0\n",
    "        for i in nums:\n",
    "            a ^= i\n",
    "        return a\n",
    "nums = [4,1,2,1,2]\n",
    "solution = Solution()\n",
    "result = solution.singleNumber(nums)\n",
    "print(result)"
   ]
  },
  {
   "cell_type": "code",
   "execution_count": null,
   "metadata": {
    "run_control": {
     "marked": true
    }
   },
   "outputs": [],
   "source": [
    "# 数学方法\n",
    "class Solution(object):\n",
    "    def singleNumber(self, nums):\n",
    "        \"\"\"\n",
    "        :type nums: List[int]\n",
    "        :rtype: int\n",
    "        \"\"\"\n",
    "        return 2 * sum(set(nums)) - sum(nums) # 注意集合函数set()\n",
    "nums = [4,1,2,1,2]\n",
    "solution = Solution()\n",
    "result = solution.singleNumber(nums)\n",
    "print(result)"
   ]
  },
  {
   "cell_type": "markdown",
   "metadata": {},
   "source": [
    "![图](https://pic.leetcode-cn.com/36d1ac5d689101cbf9947465e94753c626eab7fcb736ae2175f5d87ebc85fdf0-283_2.gif)"
   ]
  },
  {
   "cell_type": "markdown",
   "metadata": {},
   "source": [
    "### 448. 找到所有数组中消失的数字 2/12 4:19 下午 - 2/12 4:53 下午\n",
    "\n",
    "给定一个范围在  1 ≤ a[i] ≤ n ( n = 数组大小 ) 的 整型数组，数组中的元素一些出现了两次，另一些只出现一次。\n",
    "\n",
    "找到所有在 [1, n] 范围之间没有出现在数组中的数字。\n",
    "\n",
    "您能在不使用额外空间且时间复杂度为O(n)的情况下完成这个任务吗? 你可以假定返回的数组不算在额外空间内。\n",
    "```\n",
    "示例:\n",
    "\n",
    "输入:\n",
    "[4,3,2,7,8,2,3,1]\n",
    "\n",
    "输出:\n",
    "[5,6]\n",
    "```\n"
   ]
  },
  {
   "cell_type": "code",
   "execution_count": null,
   "metadata": {
    "run_control": {
     "marked": true
    }
   },
   "outputs": [],
   "source": [
    "# 方法二：原地修改方法 对i处位置的值为索引将其数字*-1"
   ]
  },
  {
   "cell_type": "markdown",
   "metadata": {},
   "source": [
    "### 2020-07-22 10:45 104. 二叉树的最大深度\n",
    "给定一个二叉树，找出其最大深度。\n",
    "\n",
    "二叉树的深度为根节点到最远叶子节点的最长路径上的节点数。\n",
    "\n",
    "说明: 叶子节点是指没有子节点的节点。\n",
    "\n",
    "```\n",
    "示例：\n",
    "给定二叉树 [3,9,20,null,null,15,7]，\n",
    "\n",
    "    3\n",
    "   / \\\n",
    "  9  20\n",
    "    /  \\\n",
    "   15   7\n",
    "返回它的最大深度 3 。\n",
    "```"
   ]
  },
  {
   "cell_type": "markdown",
   "metadata": {},
   "source": [
    "# LCOF"
   ]
  },
  {
   "cell_type": "markdown",
   "metadata": {},
   "source": [
    "## √2020-5-30 03数组中重复的数字\n",
    "找出数组中重复的数字。\n",
    "\n",
    "\n",
    "在一个长度为 n 的数组 nums 里的所有数字都在 0～n-1 的范围内。数组中某些数字是重复的，但不知道有几个数字重复了，也不知道每个数字重复了几次。请找出数组中任意一个重复的数字。\n",
    "\n",
    "```\n",
    "示例 1：\n",
    "\n",
    "输入：\n",
    "[2, 3, 1, 0, 2, 5, 3]\n",
    "输出：2 或 3 \n",
    "```\n",
    " \n",
    "限制：\n",
    "\n",
    "2 <= n <= 100000"
   ]
  },
  {
   "cell_type": "markdown",
   "metadata": {},
   "source": [
    "### 回溯算法（回溯搜索算法）  \n",
    "1. 深度优先遍历的特有的现象，节约空间  \n",
    "全排列思路：  \n",
    "在枚举第一位的时候，有 3 种情况。  \n",
    "在枚举第二位的时候，前面已经出现过的数字就不能再被选取了；  \n",
    "在枚举第三位的时候，前面 2 个已经选择过的数字就不能再被选取了。  \n",
    "![image.png](attachment:image.png)"
   ]
  },
  {
   "cell_type": "code",
   "execution_count": null,
   "metadata": {},
   "outputs": [],
   "source": [
    "# 自己做的: 排序后前后对比\n",
    "# 90％ 100％\n",
    "nums = [2, 3, 1, 0, 2, 5, 3]\n",
    "\n",
    "def findRepeatNumber(nums) -> int:\n",
    "    nums_sorted = sorted(nums)\n",
    "    length = len(nums_sorted)\n",
    "    for i in range(length-1):\n",
    "        if nums_sorted[i] == nums_sorted[i+1]:\n",
    "            return nums_sorted[i]\n",
    "        \n",
    "findRepeatNumber(nums)"
   ]
  },
  {
   "cell_type": "code",
   "execution_count": null,
   "metadata": {},
   "outputs": [],
   "source": [
    "# 法2: 原地替换 不如我的高\n",
    "nums = [2, 3, 1, 0, 2, 5, 3]\n",
    "\n",
    "def findRepeatNumber(nums) -> int:\n",
    "    nums_sorted = sorted(nums)\n",
    "    length = len(nums_sorted)\n",
    "    for i in range(length):\n",
    "        while nums_sorted[i] != i:\n",
    "            if nums_sorted[i] == nums_sorted[nums_sorted[i]]:\n",
    "                return nums_sorted[i]\n",
    "            temp = nums_sorted[i]\n",
    "            nums_sorted[i] = nums_sorted[temp]\n",
    "            nums_sorted[temp] = temp\n",
    "            \n",
    "findRepeatNumber(nums)"
   ]
  },
  {
   "cell_type": "code",
   "execution_count": null,
   "metadata": {},
   "outputs": [],
   "source": [
    "# 法3: hash表\n",
    "nums = [2, 3, 1, 0, 2, 5, 3]\n",
    "\n",
    "def findRepeatNumber(nums) -> int:\n",
    "    hashlist = [False for i in range(len(nums))]\n",
    "    for i in range(len(nums)):\n",
    "        if hashlist[nums[i]] == True:\n",
    "            return nums[i]\n",
    "        else: \n",
    "            hashlist[nums[i]] = True\n",
    "        \n",
    "        \n",
    "findRepeatNumber(nums)"
   ]
  },
  {
   "cell_type": "markdown",
   "metadata": {},
   "source": []
  },
  {
   "cell_type": "markdown",
   "metadata": {},
   "source": [
    "## √2020-05-31 04. 二维数组中的查找\n",
    "在一个 n * m 的二维数组中，每一行都按照从左到右递增的顺序排序，每一列都按照从上到下递增的顺序排序。请完成一个函数，输入这样的一个二维数组和一个整数，判断数组中是否含有该整数。\n",
    "\n",
    "示例:\n",
    "\n",
    "现有矩阵 matrix 如下：\n",
    "```\n",
    "[\n",
    "  [1,   4,  7, 11, 15],\n",
    "  [2,   5,  8, 12, 19],\n",
    "  [3,   6,  9, 16, 22],\n",
    "  [10, 13, 14, 17, 24],\n",
    "  [18, 21, 23, 26, 30]\n",
    "]\n",
    "```\n",
    "给定 target = 5，返回 true。\n",
    "给定 target = 20，返回 false。"
   ]
  },
  {
   "cell_type": "code",
   "execution_count": null,
   "metadata": {
    "code_folding": []
   },
   "outputs": [],
   "source": [
    "matrix = [\n",
    "  [1,   4,  7, 11, 15],\n",
    "  [2,   5,  8, 12, 19],\n",
    "  [3,   6,  9, 16, 22],\n",
    "  [10, 13, 14, 17, 24],\n",
    "  [18, 21, 23, 26, 30]]\n",
    "\n",
    "matrix = [[5]]\n",
    "\n",
    "def findNumberIn2DArray(matrix, target):\n",
    "    if len(matrix)==0 or len(matrix[0])==0:\n",
    "        return False  \n",
    "    \n",
    "    row = 0\n",
    "    col = len(matrix[0])-1\n",
    "    while True:\n",
    "        if matrix[row][col]==target:\n",
    "            return True\n",
    "\n",
    "        if matrix[row][col]>target:\n",
    "            if (col==0): \n",
    "                return False\n",
    "            else: \n",
    "                col -= 1\n",
    "        elif matrix[row][col]<target:\n",
    "            if (row==len(matrix)-1):\n",
    "                return False\n",
    "            else: \n",
    "                row += 1\n",
    "findNumberIn2DArray(matrix, 5)"
   ]
  },
  {
   "cell_type": "markdown",
   "metadata": {},
   "source": [
    "## √2020-06-01 05. 替换空格\n",
    "请实现一个函数，把字符串 s 中的每个空格替换成\"%20\"。\n",
    "\n",
    " \n",
    "\n",
    "示例 1：\n",
    "```\n",
    "输入：s = \"We are happy.\"\n",
    "输出：\"We%20are%20happy.\"\n",
    "```"
   ]
  },
  {
   "cell_type": "code",
   "execution_count": null,
   "metadata": {},
   "outputs": [],
   "source": [
    "s = \"We are happy.\""
   ]
  },
  {
   "cell_type": "code",
   "execution_count": null,
   "metadata": {},
   "outputs": [],
   "source": [
    "# 90 100 \n",
    "# 注意replace() 不改变原str内容能提高, \n",
    "# 在 Python 和 Java 等语言中，字符串都被设计成不可变的类型，\n",
    "# 即无法直接修改字符串的某一位字符，需要新建一个字符串实现。\n",
    "class Solution:\n",
    "    def replaceSpace(s: str) -> str:        \n",
    "        return s.replace(' ','%20')\n",
    "\n",
    "Solution.replaceSpace(s)"
   ]
  },
  {
   "cell_type": "code",
   "execution_count": null,
   "metadata": {},
   "outputs": [],
   "source": [
    "# 切割拼接法\n",
    "class Solution:\n",
    "    def replaceSpace(s: str) -> str:    \n",
    "        lst = s.split(' ')\n",
    "        return '%20'.join(lst)\n",
    "Solution.replaceSpace(s)"
   ]
  },
  {
   "cell_type": "markdown",
   "metadata": {},
   "source": [
    "## 2020-06-02 06. 从尾到头打印链表\n",
    "### 自制链表及其函数\n",
    "\n",
    "输入一个链表的头节点，从尾到头反过来返回每个节点的值（用数组返回）。\n",
    "\n",
    " \n",
    "```\n",
    "示例 1：\n",
    "\n",
    "输入：head = [1,3,2]\n",
    "输出：[2,3,1]\n",
    "```"
   ]
  },
  {
   "cell_type": "code",
   "execution_count": null,
   "metadata": {},
   "outputs": [],
   "source": [
    "head = [1,3,2]"
   ]
  },
  {
   "cell_type": "code",
   "execution_count": null,
   "metadata": {},
   "outputs": [],
   "source": [
    "# 注意这道题的链表的形式\n",
    "# head.val 当前value\n",
    "# head.next 下一个值的地址\n",
    "\n",
    "# Definition for singly-linked list.\n",
    "class ListNode(object):\n",
    "    def __init__(self):\n",
    "        self.val = None\n",
    "        self.next = None\n",
    "\n",
    "class ListNode_handle:\n",
    "    def __init__(self):\n",
    "        self.cur_node = None\n",
    " \n",
    "    def add(self, data):\n",
    "        #add a new node pointed to previous node\n",
    "        node = ListNode()\n",
    "        node.val = data\n",
    "        node.next = self.cur_node\n",
    "        self.cur_node = node\n",
    "        return node\n",
    " \n",
    "    def print_ListNode(self, node):\n",
    "        while node:\n",
    "            print ('\\nnode: ', node, ' value: ', node.val, ' next: ', node.next)\n",
    "            node = node.next\n",
    " \n",
    "    def _reverse(self, nodelist):\n",
    "        list = []\n",
    "        while nodelist:\n",
    "            list.append(nodelist.val)\n",
    "            nodelist = nodelist.next\n",
    "        result = ListNode()\n",
    "        result_handle = ListNode_handle()\n",
    "        for i in list:\n",
    "            result = result_handle.add(i)\n",
    "        return result\n",
    "\n",
    "ListNode_1 = ListNode_handle()\n",
    "l1 = ListNode()\n",
    "l1_list = [1,3,2]\n",
    "for i in l1_list:\n",
    "    l1 = ListNode_1.add(i)\n",
    "l1 = ListNode_1._reverse(l1)\n",
    "ListNode_1.print_ListNode(l1)"
   ]
  },
  {
   "cell_type": "code",
   "execution_count": null,
   "metadata": {},
   "outputs": [],
   "source": [
    "class Solution:\n",
    "    def reversePrint(head):\n",
    "        res = []\n",
    "        while head:\n",
    "            res.append(head.val)\n",
    "            head = head.next\n",
    "        return res[::-1]\n",
    "\n",
    "head = l1\n",
    "Solution.reversePrint(head)"
   ]
  },
  {
   "cell_type": "markdown",
   "metadata": {},
   "source": [
    "## ???2020-06-03 07. 重建二叉树\n",
    "输入某二叉树的前序遍历和中序遍历的结果，请重建该二叉树。假设输入的前序遍历和中序遍历的结果中都不含重复的数字。\n",
    "\n",
    " \n",
    "```\n",
    "例如，给出\n",
    "\n",
    "前序遍历 preorder = [3,9,20,15,7]\n",
    "中序遍历 inorder = [9,3,15,20,7]\n",
    "返回如下的二叉树：\n",
    "\n",
    "    3\n",
    "   / \\\n",
    "  9  20\n",
    "    /  \\\n",
    "   15   7\n",
    "```\n",
    "\n",
    "\n",
    "hash to save time  \n",
    "不重复 --> 想hash表"
   ]
  },
  {
   "cell_type": "code",
   "execution_count": null,
   "metadata": {},
   "outputs": [],
   "source": [
    "preorder = [3,9,20,15,7]\n",
    "inorder = [9,3,15,20,7]"
   ]
  },
  {
   "cell_type": "code",
   "execution_count": null,
   "metadata": {},
   "outputs": [],
   "source": [
    "# Definition for a binary tree node.\n",
    "class TreeNode:\n",
    "    def __init__(self, x):\n",
    "        self.val = x\n",
    "        self.left = None\n",
    "        self.right = None\n",
    "\n",
    "from typing import List\n",
    "\n",
    "class Solution:\n",
    "#     def buildTree(self, preorder, inorder):\n",
    "    def buildTree(self, preorder: List[int], inorder: List[int]):\n",
    "        self.dic, self.po={}, preorder # position ??????? \n",
    "        for i in range(len(inorder)):\n",
    "            self.dic[inorder[i]] = i\n",
    "        print(self.dic)\n",
    "        return self.recur(0,0,len(inorder)-1)\n",
    "        \n",
    "    def recur(self, pre_root, left_root, right_root):\n",
    "        if left_root>right_root: return\n",
    "        # 1st layer to recursion\n",
    "        root = TreeNode(self.po[pre_root])\n",
    "        i = self.dic[self.po[pre_root]]\n",
    "        self.left = self.recur(pre_root+1,in_left,i-1)\n",
    "        self.right = self.recur(i-in_left+pre_root+1,i+1,in_right)\n",
    "        return root\n",
    "\n",
    "solution = Solution()\n",
    "solution.buildTree(preorder,inorder)          "
   ]
  },
  {
   "cell_type": "markdown",
   "metadata": {},
   "source": [
    "## 2020-06-04 做下论文软件"
   ]
  },
  {
   "cell_type": "markdown",
   "metadata": {},
   "source": [
    "## 2020-06-05 09. 用两个栈实现队列\n",
    "用两个栈实现一个队列。队列的声明如下，请实现它的两个函数 appendTail 和 deleteHead ，分别完成在队列尾部插入整数和在队列头部删除整数的功能。(若队列中没有元素，deleteHead 操作返回 -1 )\n",
    "```\n",
    "示例 1：\n",
    "\n",
    "输入：\n",
    "[\"CQueue\",\"appendTail\",\"deleteHead\",\"deleteHead\"]\n",
    "[[],[3],[],[]]\n",
    "输出：[null,null,3,-1]\n",
    "示例 2：\n",
    "\n",
    "输入：\n",
    "[\"CQueue\",\"deleteHead\",\"appendTail\",\"appendTail\",\"deleteHead\",\"deleteHead\"]\n",
    "[[],[],[5],[2],[],[]]\n",
    "输出：[null,-1,null,null,5,2]\n",
    "```"
   ]
  },
  {
   "cell_type": "code",
   "execution_count": null,
   "metadata": {},
   "outputs": [],
   "source": [
    "class CQueue:\n",
    "\n",
    "    def __init__(self):\n",
    "        self.A, self.B = [], []\n",
    "        \n",
    "    def appendTail(self, value: int) -> None:\n",
    "        self.A.append(value)\n",
    "\n",
    "    def deleteHead(self) -> int:\n",
    "        if self.B: return self.B.pop()\n",
    "        if not self.A: return -1        \n",
    "        while self.A:\n",
    "            self.B.append(self.A.pop())\n",
    "        return self.B.pop()\n",
    "\n",
    "\n",
    "# Your CQueue object will be instantiated and called as such:\n",
    "# obj = CQueue()\n",
    "# obj.appendTail(value)\n",
    "# param_2 = obj.deleteHead()"
   ]
  },
  {
   "cell_type": "markdown",
   "metadata": {},
   "source": [
    "## 2020-06-06 面试题10- I. 斐波那契数列\n",
    "写一个函数，输入 n ，求斐波那契（Fibonacci）数列的第 n 项。斐波那契数列的定义如下：\n",
    "\n",
    "F(0) = 0,   F(1) = 1\n",
    "F(N) = F(N - 1) + F(N - 2), 其中 N > 1.\n",
    "斐波那契数列由 0 和 1 开始，之后的斐波那契数就是由之前的两数相加而得出。\n",
    "\n",
    "答案需要取模 1e9+7（1000000007），如计算初始结果为：1000000008，请返回 1。\n",
    "\n",
    "```\n",
    "示例 1：\n",
    "\n",
    "输入：n = 2\n",
    "输出：1\n",
    "示例 2：\n",
    "\n",
    "输入：n = 5\n",
    "输出：5\n",
    "```\n",
    "\n",
    "尝试动态规划方法\n",
    " "
   ]
  },
  {
   "cell_type": "code",
   "execution_count": null,
   "metadata": {},
   "outputs": [],
   "source": [
    "n = 43"
   ]
  },
  {
   "cell_type": "code",
   "execution_count": null,
   "metadata": {},
   "outputs": [],
   "source": [
    "class Solution:\n",
    "    def fib(self, n: int) -> int:\n",
    "        if n == 0: return 0\n",
    "        if n == 1: return 1\n",
    "        fiblist = [0,1]\n",
    "        for i in range(2,n+1):\n",
    "            fiblist.append((fiblist[i-1]+fiblist[i-2])% 1000000007)\n",
    "        return fiblist.pop()\n",
    "        \n",
    "        \n",
    "        \n",
    "        "
   ]
  },
  {
   "cell_type": "code",
   "execution_count": null,
   "metadata": {},
   "outputs": [],
   "source": [
    "# 动态规划方法\n",
    "class Solution:\n",
    "    def fib(self, n: int) -> int:\n",
    "        if n == 0: return 0\n",
    "        if n == 1: return 1\n",
    "        a, b = 0, 1\n",
    "        for _ in range(n):\n",
    "            a, b = b, a+b\n",
    "        return a % 1000000007"
   ]
  },
  {
   "cell_type": "code",
   "execution_count": null,
   "metadata": {},
   "outputs": [],
   "source": [
    "solution = Solution()\n",
    "result = solution.fib(n)\n",
    "result"
   ]
  },
  {
   "cell_type": "markdown",
   "metadata": {},
   "source": [
    "## √ 2020-06-07 10- II. 青蛙跳台阶问题\n",
    "一只青蛙一次可以跳上1级台阶，也可以跳上2级台阶。求该青蛙跳上一个 n 级的台阶总共有多少种跳法。\n",
    "\n",
    "答案需要取模 1e9+7（1000000007），如计算初始结果为：1000000008，请返回 1。\n",
    "```\n",
    "示例 1：\n",
    "\n",
    "输入：n = 2\n",
    "输出：2\n",
    "示例 2：\n",
    "\n",
    "输入：n = 7\n",
    "输出：21\n",
    "```"
   ]
  },
  {
   "cell_type": "code",
   "execution_count": null,
   "metadata": {},
   "outputs": [],
   "source": [
    "n = 7"
   ]
  },
  {
   "cell_type": "code",
   "execution_count": null,
   "metadata": {},
   "outputs": [],
   "source": [
    "class Solution:\n",
    "    def numWays(self, n: int) -> int:\n",
    "        if n == 0: return 0\n",
    "        if n == 1: return 1\n",
    "        if n == 2: return 2\n",
    "        a, b = 1, 2\n",
    "        for _ in range(n-1):\n",
    "            a, b = b, a+b\n",
    "        return a%1000000007"
   ]
  },
  {
   "cell_type": "code",
   "execution_count": null,
   "metadata": {},
   "outputs": [],
   "source": [
    "solution = Solution()\n",
    "result = solution.numWays(n)\n",
    "result"
   ]
  },
  {
   "cell_type": "markdown",
   "metadata": {},
   "source": [
    "## 2020-06-08 11. 旋转数组的最小数字\n",
    "把一个数组最开始的若干个元素搬到数组的末尾，我们称之为数组的旋转。输入一个递增排序的数组的一个旋转，输出旋转数组的最小元素。例如，数组 [3,4,5,1,2] 为 [1,2,3,4,5] 的一个旋转，该数组的最小值为1。  \n",
    "```\n",
    "示例 1：\n",
    "\n",
    "输入：[3,4,5,1,2]\n",
    "输出：1\n",
    "示例 2：\n",
    "\n",
    "输入：[2,2,2,0,1]\n",
    "输出：0\n",
    "```"
   ]
  },
  {
   "cell_type": "markdown",
   "metadata": {},
   "source": [
    "## 《图解算法》 \n"
   ]
  },
  {
   "cell_type": "markdown",
   "metadata": {},
   "source": [
    "### 时间复杂度，大O时间\n",
    "![](https://cdn.jsdelivr.net/gh/sunqinghu/PicRepo/img/2020/20201023173355.png)\n",
    "多项式级"
   ]
  },
  {
   "cell_type": "markdown",
   "metadata": {},
   "source": [
    "### 快速排序"
   ]
  },
  {
   "cell_type": "code",
   "execution_count": null,
   "metadata": {
    "run_control": {
     "marked": true
    }
   },
   "outputs": [],
   "source": [
    "def quicksort(array):\n",
    "    if len(array) < 2:\n",
    "        return array\n",
    "    else:\n",
    "        pivot = array[0]\n",
    "        less = [i for i in array[1:] if i <= pivot]\n",
    "        \n",
    "        greater = [i for i in array[1:] if i > pivot]\n",
    "        \n",
    "        return quicksort(less) + [pivot] + quicksort(greater) \n",
    "print((quicksort([10, 5, 2, 3])))"
   ]
  },
  {
   "cell_type": "markdown",
   "metadata": {},
   "source": [
    "### 散列表\n",
    "* Python中的散列表为**字典**,散列表将键映射到值"
   ]
  },
  {
   "cell_type": "code",
   "execution_count": 7,
   "metadata": {
    "run_control": {
     "marked": true
    }
   },
   "outputs": [
    {
     "data": {
      "text/plain": [
       "{'apple': 2, 'milk': 3, 'avocado': 5}"
      ]
     },
     "execution_count": 7,
     "metadata": {},
     "output_type": "execute_result"
    }
   ],
   "source": [
    "\"\"\"\n",
    "查找,模拟映射关系\n",
    "\"\"\"\n",
    "book = dict()\n",
    "book['apple'] = 2\n",
    "book['milk'] = 3\n",
    "book['avocado'] = 5\n",
    "book"
   ]
  },
  {
   "cell_type": "code",
   "execution_count": 8,
   "metadata": {
    "run_control": {
     "marked": true
    }
   },
   "outputs": [
    {
     "data": {
      "text/plain": [
       "3"
      ]
     },
     "execution_count": 8,
     "metadata": {},
     "output_type": "execute_result"
    }
   ],
   "source": [
    "book['milk']"
   ]
  },
  {
   "cell_type": "code",
   "execution_count": 9,
   "metadata": {
    "run_control": {
     "marked": true
    }
   },
   "outputs": [],
   "source": [
    "\"\"\"\n",
    "防止重复\n",
    "\"\"\"\n",
    "voted = {} \n",
    "def check_voter(name):\n",
    "    if voted.get(name):\n",
    "        print (\"kick them out!\")\n",
    "    else:\n",
    "        voted[name] = True\n",
    "        print (\"let them vote!\")"
   ]
  },
  {
   "cell_type": "code",
   "execution_count": 10,
   "metadata": {
    "run_control": {
     "marked": true
    }
   },
   "outputs": [
    {
     "name": "stdout",
     "output_type": "stream",
     "text": [
      "let them vote!\n"
     ]
    }
   ],
   "source": [
    "check_voter('tom')"
   ]
  },
  {
   "cell_type": "code",
   "execution_count": 11,
   "metadata": {
    "run_control": {
     "marked": true
    }
   },
   "outputs": [
    {
     "name": "stdout",
     "output_type": "stream",
     "text": [
      "kick them out!\n"
     ]
    }
   ],
   "source": [
    "check_voter('tom')"
   ]
  },
  {
   "cell_type": "code",
   "execution_count": 12,
   "metadata": {
    "run_control": {
     "marked": true
    }
   },
   "outputs": [],
   "source": [
    "\"\"\"\n",
    "缓存数据\n",
    "\"\"\"\n",
    "cache = {} \n",
    "def get_page(url):    \n",
    "    if cache.get(url):\n",
    "        return cache[url]   \n",
    "    else:     \n",
    "        data = get_data_from_server(url)     \n",
    "        cache[url] = data     \n",
    "        return data"
   ]
  },
  {
   "cell_type": "markdown",
   "metadata": {},
   "source": [
    "### 广度优先搜索 -- 图\n"
   ]
  },
  {
   "cell_type": "code",
   "execution_count": 13,
   "metadata": {
    "run_control": {
     "marked": true
    }
   },
   "outputs": [
    {
     "data": {
      "text/plain": [
       "{'you': ['alice', 'bob', 'claire'],\n",
       " 'bob': ['anuj', 'peggy'],\n",
       " 'alice': ['peggy'],\n",
       " 'claire': ['thom', 'jonny'],\n",
       " 'anuj': [],\n",
       " 'peggy': [],\n",
       " 'thom': [],\n",
       " 'jonny': []}"
      ]
     },
     "execution_count": 13,
     "metadata": {},
     "output_type": "execute_result"
    }
   ],
   "source": [
    "\"\"\"\n",
    "实现图\n",
    "\"\"\"\n",
    "# map \"you\" to a list\n",
    "graph = {} \n",
    "graph[\"you\"] = [\"alice\", \"bob\", \"claire\"]\n",
    "graph[\"bob\"] = [\"anuj\", \"peggy\"] \n",
    "graph[\"alice\"] = [\"peggy\"] \n",
    "graph[\"claire\"] = [\"thom\", \"jonny\"] \n",
    "graph[\"anuj\"] = [] \n",
    "graph[\"peggy\"] = [] \n",
    "graph[\"thom\"] = [] \n",
    "graph[\"jonny\"] = []\n",
    "graph"
   ]
  },
  {
   "cell_type": "markdown",
   "metadata": {},
   "source": [
    "![](https://cdn.jsdelivr.net/gh/sunqinghu/PicRepo/img/2020/20201023173422.png)"
   ]
  },
  {
   "cell_type": "code",
   "execution_count": 14,
   "metadata": {
    "run_control": {
     "marked": true
    }
   },
   "outputs": [
    {
     "name": "stdout",
     "output_type": "stream",
     "text": [
      "thom is a mango seller!\n"
     ]
    },
    {
     "data": {
      "text/plain": [
       "True"
      ]
     },
     "execution_count": 14,
     "metadata": {},
     "output_type": "execute_result"
    }
   ],
   "source": [
    "\"\"\"\n",
    "实现算法\n",
    "\"\"\"\n",
    "from collections import deque \n",
    "\n",
    "def person_is_seller(name):     \n",
    "    return name[-1] == 'm' # a seller whose name finashed by 'm'\n",
    "\n",
    "def search(name):\n",
    "    search_queue = deque()   # 可使用函数deque来创建一个双端队列\n",
    "    search_queue += graph[\"you\"]\n",
    "    searched = [] # use to record the person who have searched -- it is important\n",
    "    while search_queue:     \n",
    "        person = search_queue.popleft()\n",
    "        if not person in searched:  # only inspect while did not have searched \n",
    "            if person_is_seller(person): \n",
    "                print(person + \" is a mango seller!\" )\n",
    "                return True \n",
    "            else: \n",
    "                search_queue += graph[person] \n",
    "                searched.append(person)\n",
    "    return False\n",
    "search(\"you\")"
   ]
  },
  {
   "cell_type": "markdown",
   "metadata": {},
   "source": [
    "算法原理\n",
    "![](https://cdn.jsdelivr.net/gh/sunqinghu/PicRepo/img/2020/20201023173450.png)"
   ]
  },
  {
   "cell_type": "markdown",
   "metadata": {},
   "source": [
    "### 狄克斯特拉算法计算有权图\n",
    "![](https://cdn.jsdelivr.net/gh/sunqinghu/PicRepo/img/2020/20201023173529.png)"
   ]
  },
  {
   "cell_type": "code",
   "execution_count": 15,
   "metadata": {
    "run_control": {
     "marked": true
    }
   },
   "outputs": [],
   "source": [
    "\"\"\"\n",
    "Graph hash table\n",
    "\"\"\"\n",
    "graph = {}\n",
    "graph[\"start\"] = {} \n",
    "graph[\"start\"][\"a\"] = 6 \n",
    "graph[\"start\"][\"b\"] = 2\n",
    "\n",
    "graph[\"a\"] = {} \n",
    "graph[\"a\"][\"fin\"] = 1 \n",
    "\n",
    "graph[\"b\"] = {} \n",
    "graph[\"b\"][\"a\"] = 3 \n",
    "graph[\"b\"][\"fin\"] = 5\n",
    "\n",
    "graph[\"fin\"] = {} # 终结点无邻居"
   ]
  },
  {
   "cell_type": "code",
   "execution_count": 16,
   "metadata": {
    "run_control": {
     "marked": true
    }
   },
   "outputs": [
    {
     "data": {
      "text/plain": [
       "dict_keys(['a', 'b'])"
      ]
     },
     "execution_count": 16,
     "metadata": {},
     "output_type": "execute_result"
    }
   ],
   "source": [
    "# 获取起点的所有邻居\n",
    "graph[\"start\"].keys()"
   ]
  },
  {
   "cell_type": "code",
   "execution_count": 17,
   "metadata": {
    "run_control": {
     "marked": true
    }
   },
   "outputs": [
    {
     "data": {
      "text/plain": [
       "6"
      ]
     },
     "execution_count": 17,
     "metadata": {},
     "output_type": "execute_result"
    }
   ],
   "source": [
    "# 获得权重\n",
    "graph[\"start\"][\"a\"]"
   ]
  },
  {
   "cell_type": "code",
   "execution_count": 18,
   "metadata": {
    "run_control": {
     "marked": true
    }
   },
   "outputs": [
    {
     "data": {
      "text/plain": [
       "inf"
      ]
     },
     "execution_count": 18,
     "metadata": {},
     "output_type": "execute_result"
    }
   ],
   "source": [
    "\"\"\"\n",
    "Costs hash table\n",
    "\"\"\"\n",
    "infinity = float(\"inf\") \n",
    "\n",
    "costs = {} \n",
    "costs[\"a\"] = 6 \n",
    "costs[\"b\"] = 2 \n",
    "# 不知道到终点需要多长时间。对于还不知道的开销,你将其设置为无穷大。\n",
    "costs[\"fin\"] = infinity \n",
    "costs[\"fin\"]"
   ]
  },
  {
   "cell_type": "code",
   "execution_count": 19,
   "metadata": {
    "run_control": {
     "marked": true
    }
   },
   "outputs": [],
   "source": [
    "\"\"\"\n",
    "Parents hash table\n",
    "\"\"\"\n",
    "parents = {} \n",
    "parents[\"a\"] = \"start\" \n",
    "parents[\"b\"] = \"start\" \n",
    "parents[\"fin\"] = None\n",
    "# 最后需要一个数组,用于记录处理过的节点,你不用处理多次。  \n",
    "processed = []"
   ]
  },
  {
   "cell_type": "markdown",
   "metadata": {},
   "source": [
    "arithmetic\n",
    "![](https://cdn.jsdelivr.net/gh/sunqinghu/PicRepo/img/2020/20201023173550.png)  "
   ]
  },
  {
   "cell_type": "code",
   "execution_count": 20,
   "metadata": {
    "run_control": {
     "marked": true
    }
   },
   "outputs": [
    {
     "name": "stdout",
     "output_type": "stream",
     "text": [
      "6\n"
     ]
    }
   ],
   "source": [
    "def find_lowest_cost_node(costs):     \n",
    "    lowest_cost = float(\"inf\")      \n",
    "    lowest_cost_node = None     \n",
    "    for node in costs:  \n",
    "        cost = costs[node] \n",
    "        if cost < lowest_cost and node not in processed: \n",
    "            lowest_cost = cost \n",
    "            lowest_cost_node = node     \n",
    "    return lowest_cost_node\n",
    "\n",
    "node = find_lowest_cost_node(costs) \n",
    "\n",
    "while node is not None:     \n",
    "    cost = costs[node]     \n",
    "    neighbors = graph[node]     \n",
    "    for n in neighbors.keys(): \n",
    "        new_cost = cost + neighbors[n] \n",
    "        if costs[n] > new_cost: \n",
    "            costs[n] = new_cost \n",
    "            parents[n] = node     \n",
    "    processed.append(node)     \n",
    "    node = find_lowest_cost_node(costs)\n",
    "print(cost)"
   ]
  },
  {
   "cell_type": "markdown",
   "metadata": {},
   "source": [
    "![](https://cdn.jsdelivr.net/gh/sunqinghu/PicRepo/img/2020/20201023173808.png)"
   ]
  },
  {
   "cell_type": "code",
   "execution_count": 21,
   "metadata": {
    "run_control": {
     "marked": true
    }
   },
   "outputs": [
    {
     "name": "stdout",
     "output_type": "stream",
     "text": [
      "10\n",
      "9\n",
      "10\n",
      "14\n",
      "9\n",
      "9\n",
      "10\n"
     ]
    }
   ],
   "source": [
    "# A -- 不对\n",
    "\"\"\"\n",
    "Graph hash table\n",
    "\"\"\"\n",
    "graph = {}\n",
    "graph[\"start\"] = {}\n",
    "graph[\"start\"][\"a\"] = 5\n",
    "graph[\"start\"][\"b\"] = 2\n",
    "graph[\"a\"] = {}\n",
    "graph[\"a\"][\"c\"] = 4\n",
    "graph[\"a\"][\"d\"] = 2\n",
    "graph[\"b\"] = {}     # init， important\n",
    "graph[\"b\"][\"a\"] = 8\n",
    "graph[\"b\"][\"d\"] = 7\n",
    "graph[\"c\"] = {}\n",
    "graph[\"c\"][\"d\"] = 6\n",
    "graph[\"c\"][\"fin\"] = 3\n",
    "graph[\"d\"] = {}\n",
    "graph[\"d\"][\"fin\"] = 1\n",
    "graph[\"fin\"] = {} # 终结点无邻居\n",
    "\n",
    "\"\"\"\n",
    "Costs hash table：cost to start\n",
    "\"\"\"\n",
    "infinity = float(\"inf\")\n",
    "\n",
    "costs = {}\n",
    "costs[\"a\"] = infinity\n",
    "costs[\"b\"] = 2\n",
    "# 不知道到终点需要多长时间。对于还不知道的开销,你将其设置为无穷大。\n",
    "costs[\"c\"] = infinity\n",
    "costs[\"d\"] = infinity\n",
    "costs[\"fin\"] = infinity\n",
    "\n",
    "\"\"\"\n",
    "Parents hash table: only record the cost that knows\n",
    "\"\"\"\n",
    "parents = {}\n",
    "parents[\"a\"] = None\n",
    "parents[\"b\"] = \"start\"\n",
    "parents[\"c\"] = None\n",
    "parents[\"d\"] = None\n",
    "parents[\"fin\"] = None\n",
    "# 最后需要一个数组,用于记录处理过的节点,你不用处理多次。\n",
    "processed = []\n",
    "\n",
    "def find_lowest_cost_node(costs):\n",
    "    lowest_cost = float(\"inf\")\n",
    "    lowest_cost_node = None\n",
    "    for node in costs:\n",
    "        cost = costs[node]\n",
    "        if cost < lowest_cost and node not in processed:\n",
    "            lowest_cost = cost\n",
    "            lowest_cost_node = node\n",
    "    return lowest_cost_node\n",
    "\n",
    "node = find_lowest_cost_node(costs)\n",
    "while node is not None:\n",
    "    cost = costs[node]\n",
    "    neighbors = graph[node]\n",
    "    for n in neighbors.keys():\n",
    "        \n",
    "        new_cost = cost + neighbors[n]\n",
    "        if costs[n] > new_cost:\n",
    "            costs[n] = new_cost\n",
    "            parents[n] = node\n",
    "        print(costs[n])\n",
    "    processed.append(node)\n",
    "    node = find_lowest_cost_node(costs)\n",
    "\n"
   ]
  },
  {
   "cell_type": "markdown",
   "metadata": {},
   "source": [
    "### 贪婪算法\n",
    "* 处理没有快速算法的问题 -- NP完全问题\n",
    "* 每步都寻找局部最优解"
   ]
  },
  {
   "cell_type": "markdown",
   "metadata": {},
   "source": [
    "集合覆盖问题\n",
    "\n",
    "具体方法如下。  \n",
    "\n",
    "(1) 列出每个可能的广播台集合,这被称为幂集(power set)。可能的子集有2n个。 \n",
    "\n",
    "(2) 在这些集合中,选出覆盖全美50个州的最小集合。\n",
    "\n",
    "![](https://cdn.jsdelivr.net/gh/sunqinghu/PicRepo/img/2020/20201023173833.png)"
   ]
  },
  {
   "cell_type": "code",
   "execution_count": null,
   "metadata": {
    "run_control": {
     "marked": true
    }
   },
   "outputs": [],
   "source": [
    "# 不对\n",
    "states_needed = set([\"mt\", \"wa\", \"or\", \"id\", \"nv\", \"ut\", \"ca\", \"az\"])\n",
    "\n",
    "# 有可供选择的广播台清单,我选择使用散列表来表示它。 \n",
    "stations = {} \n",
    "stations[\"kone\"] = set([\"id\", \"nv\", \"ut\"]) \n",
    "stations[\"ktwo\"] = set([\"wa\", \"id\", \"mt\"]) \n",
    "stations[\"kthree\"] = set([\"or\", \"nv\", \"ca\"]) \n",
    "stations[\"kfour\"] = set([\"nv\", \"ut\"]) \n",
    "stations[\"kfive\"] = set([\"ca\", \"az\"])\n",
    "\n",
    "final_stations = set() \n",
    "\n",
    "while states_needed:   \n",
    "    best_station = None  # 存储最优  \n",
    "    states_covered = set()\n",
    "    for station, states_for_station in stations.items():\n",
    "        covered = states_needed & states_for_station \n",
    "        if len(covered) > len(states_covered):   \n",
    "            best_station = station   \n",
    "            states_covered = covered\n",
    "            \n",
    "states_needed -= states_covered \n",
    "final_stations.add(best_station) \n",
    "print(final_stations)"
   ]
  },
  {
   "cell_type": "markdown",
   "metadata": {},
   "source": [
    "### 动态规划\n",
    "* 只能处理没有相互依赖关系\n",
    "* 横向：加入新增商品价值 与 没加入该商品时最大价值（上一行） 比较，选择大的"
   ]
  },
  {
   "cell_type": "markdown",
   "metadata": {},
   "source": [
    "### 树 \n",
    "![](https://cdn.jsdelivr.net/gh/sunqinghu/PicRepo/img/2020/20201023174120.png)\n",
    "* 不能随机访问\n",
    "* 平衡时效果才好\n"
   ]
  },
  {
   "cell_type": "markdown",
   "metadata": {},
   "source": [
    "### 分布式算法（MapReduce）-- 并行算法的一种\n",
    "* 可通过流行的开源工具Apache Hadoop来使用\n",
    "* 基于两个简单的理念: 映射(map)函数和 归并(reduce)函数。"
   ]
  },
  {
   "cell_type": "code",
   "execution_count": null,
   "metadata": {
    "run_control": {
     "marked": true
    }
   },
   "outputs": [],
   "source": [
    "# 映射函数 map\n",
    "# 如果有100台计算机,而map能够自动将工作分配给这些计算机去完成就好了。\n",
    "# 这样就可同时下载100个页面,下载速度将快得多!这就是MapReduce中“映射”部分基于的理念。\n",
    "arr1 = [1, 2, 3, 4, 5]\n",
    "arr2 = map(lambda x: 2 * x, arr1)\n",
    "arr2"
   ]
  },
  {
   "cell_type": "code",
   "execution_count": null,
   "metadata": {
    "run_control": {
     "marked": true
    }
   },
   "outputs": [],
   "source": [
    "map?"
   ]
  },
  {
   "cell_type": "code",
   "execution_count": null,
   "metadata": {
    "run_control": {
     "marked": true
    }
   },
   "outputs": [],
   "source": [
    "# 归并reduce（）\n",
    "arr1 = [1, 2, 3, 4, 5] \n",
    "reduce(lambda x,y: x+y, arr1)"
   ]
  },
  {
   "cell_type": "code",
   "execution_count": null,
   "metadata": {},
   "outputs": [],
   "source": [
    "# nums = [3,4,5,1,2]\n",
    "nums = [2,2,2,0,1]\n",
    "# nums = [10,1,10,10,10]"
   ]
  },
  {
   "cell_type": "code",
   "execution_count": null,
   "metadata": {},
   "outputs": [],
   "source": [
    "class Solution:\n",
    "    def minArray(self, numbers) -> int:\n",
    "        a = 0\n",
    "        b = len(numbers)-1\n",
    "        while a<b:\n",
    "            # prior: numbers[a] > numbers[b]\n",
    "            i = (a+b)//2\n",
    "            # Notice compare the value of b\n",
    "            # Notice need to add 1 to avoid endless loop\n",
    "            if numbers[i] > numbers[b]:\n",
    "                a = i + 1\n",
    "            elif numbers[i] < numbers[b]:\n",
    "                b = i\n",
    "            # Notice this situation\n",
    "            else: \n",
    "                b -= 1\n",
    "        return numbers[b]"
   ]
  },
  {
   "cell_type": "code",
   "execution_count": null,
   "metadata": {},
   "outputs": [],
   "source": [
    "solution = Solution()\n",
    "result = solution.minArray(nums)\n",
    "result"
   ]
  },
  {
   "cell_type": "markdown",
   "metadata": {},
   "source": [
    "## 2020-06-09 12. 矩阵中的路径\n",
    "请设计一个函数，用来判断在一个矩阵中是否存在一条包含某字符串所有字符的路径。路径可以从矩阵中的任意一格开始，每一步可以在矩阵中向左、右、上、下移动一格。如果一条路径经过了矩阵的某一格，那么该路径不能再次进入该格子。例如，在下面的3×4的矩阵中包含一条字符串“bfce”的路径（路径中的字母用加粗标出）。\n",
    "\n",
    "[[\"a\",\"b\",\"c\",\"e\"],\n",
    "[\"s\",\"f\",\"c\",\"s\"],\n",
    "[\"a\",\"d\",\"e\",\"e\"]]\n",
    "\n",
    "但矩阵中不包含字符串“abfb”的路径，因为字符串的第一个字符b占据了矩阵中的第一行第二个格子之后，路径不能再次进入这个格子。\n",
    "\n",
    " \n",
    "```\n",
    "示例 1：\n",
    "\n",
    "输入：board = [[\"A\",\"B\",\"C\",\"E\"],[\"S\",\"F\",\"C\",\"S\"],[\"A\",\"D\",\"E\",\"E\"]], word = \"ABCCED\"\n",
    "输出：true\n",
    "示例 2：\n",
    "\n",
    "输入：board = [[\"a\",\"b\"],[\"c\",\"d\"]], word = \"abcd\"\n",
    "输出：false\n",
    "```"
   ]
  },
  {
   "cell_type": "code",
   "execution_count": null,
   "metadata": {},
   "outputs": [],
   "source": [
    "board = [[\"A\",\"B\",\"C\",\"E\"],[\"S\",\"F\",\"C\",\"S\"],[\"A\",\"D\",\"E\",\"E\"]]\n",
    "word = \"ABCCED\"\n"
   ]
  },
  {
   "cell_type": "code",
   "execution_count": null,
   "metadata": {},
   "outputs": [],
   "source": [
    "# buxing \n",
    "\n",
    "class Solution:    \n",
    "    def exist(self, board, word: str) -> bool:    \n",
    "        for i in range(len(board)):\n",
    "            for j in range(len(board[0])):\n",
    "                if board[i][j] == word[0]: \n",
    "                    if self.it(0,i,j):\n",
    "                        return True                    \n",
    "        return False\n",
    "                \n",
    "    def it(self, index, i, j):\n",
    "        for (m,n) in [(i,j-1),(i,j+1),(i-1,j),(i+1,j)]:\n",
    "            if not 0<=m<len(board) or not 0<=n<len(board[0]) or board(m,n)!=word[index+1]: # 越界→下次循环\n",
    "                continue                \n",
    "            if board[m][n]==word[index+1] and not vis[m][n]: # 为下一个值且没访问过\n",
    "                if index+1 == len(word)-1: \n",
    "                    return True\n",
    "                tmp, board[i][j] = board[i][j], '/'\n",
    "                it(index+1, m, n) \n",
    "                board[i][j] = tmp\n",
    "\n",
    "            "
   ]
  },
  {
   "cell_type": "code",
   "execution_count": null,
   "metadata": {},
   "outputs": [],
   "source": [
    "class Solution:\n",
    "    def exist(self, board, word: str) -> bool:\n",
    "        def dfs(i, j, k):\n",
    "            if not 0 <= i < len(board) or not 0 <= j < len(board[0]) or board[i][j] != word[k]: return False\n",
    "            if k == len(word) - 1: return True\n",
    "            tmp, board[i][j] = board[i][j], '/'\n",
    "            res = dfs(i + 1, j, k + 1) or dfs(i - 1, j, k + 1) or dfs(i, j + 1, k + 1) or dfs(i, j - 1, k + 1)\n",
    "            board[i][j] = tmp\n",
    "            return res\n",
    "\n",
    "        for i in range(len(board)):\n",
    "            for j in range(len(board[0])):\n",
    "                if dfs(i, j, 0): return True\n",
    "        return False\n"
   ]
  },
  {
   "cell_type": "code",
   "execution_count": null,
   "metadata": {},
   "outputs": [],
   "source": [
    "solution = Solution()\n",
    "solution.exist(board,word)\n"
   ]
  },
  {
   "cell_type": "markdown",
   "metadata": {},
   "source": [
    "## 2020-06-10 13. 机器人的运动范围\n",
    "地上有一个m行n列的方格，从坐标 [0,0] 到坐标 [m-1,n-1] 。一个机器人从坐标 [0, 0] 的格子开始移动，它每次可以向左、右、上、下移动一格（不能移动到方格外），也不能进入行坐标和列坐标的数位之和大于k的格子。例如，当k为18时，机器人能够进入方格 [35, 37] ，因为3+5+3+7=18。但它不能进入方格 [35, 38]，因为3+5+3+8=19。请问该机器人能够到达多少个格子？\n",
    "\n",
    "```\n",
    "示例 1：\n",
    "\n",
    "输入：m = 2, n = 3, k = 1\n",
    "输出：3\n",
    "示例 2：\n",
    "\n",
    "输入：m = 3, n = 1, k = 0\n",
    "输出：1\n",
    "```"
   ]
  },
  {
   "cell_type": "code",
   "execution_count": null,
   "metadata": {},
   "outputs": [],
   "source": [
    "m = 2\n",
    "n = 3\n",
    "k = 1"
   ]
  },
  {
   "cell_type": "code",
   "execution_count": null,
   "metadata": {},
   "outputs": [],
   "source": [
    "m = 38\n",
    "n = 12\n",
    "k = 9"
   ]
  },
  {
   "cell_type": "code",
   "execution_count": null,
   "metadata": {},
   "outputs": [],
   "source": [
    "# copy\n",
    "def digitsum(n):\n",
    "    ans = 0\n",
    "    while n:\n",
    "        ans += n % 10\n",
    "        n //= 10\n",
    "    return ans\n",
    "\n",
    "class Solution:\n",
    "    def movingCount(self, m: int, n: int, k: int) -> int:\n",
    "        from queue import Queue\n",
    "        q = Queue()\n",
    "        q.put((0, 0))\n",
    "        s = set()\n",
    "        while not q.empty():\n",
    "            x, y = q.get()\n",
    "            if (x, y) not in s and 0 <= x < m and 0 <= y < n and digitsum(x) + digitsum(y) <= k:\n",
    "                s.add((x, y))\n",
    "                for nx, ny in [(x + 1, y), (x, y + 1)]:\n",
    "                    q.put((nx, ny))\n",
    "        return len(s)\n",
    "        "
   ]
  },
  {
   "cell_type": "code",
   "execution_count": null,
   "metadata": {},
   "outputs": [],
   "source": [
    "solution = Solution()\n",
    "solution.movingCount(m,n,k)"
   ]
  },
  {
   "cell_type": "code",
   "execution_count": null,
   "metadata": {},
   "outputs": [],
   "source": []
  },
  {
   "cell_type": "markdown",
   "metadata": {
    "run_control": {
     "marked": true
    }
   },
   "source": [
    "# ByteDance "
   ]
  },
  {
   "cell_type": "markdown",
   "metadata": {},
   "source": [
    "\n",
    "## 2020-07-18 9:10 175. 组合两个表 - SQL架构\n",
    "表1: Person\n",
    "```\n",
    "+-------------+---------+\n",
    "| 列名         | 类型     |\n",
    "+-------------+---------+\n",
    "| PersonId    | int     |\n",
    "| FirstName   | varchar |\n",
    "| LastName    | varchar |\n",
    "+-------------+---------+\n",
    "PersonId 是上表主键\n",
    "```\n",
    "表2: Address\n",
    "```\n",
    "+-------------+---------+\n",
    "| 列名         | 类型    |\n",
    "+-------------+---------+\n",
    "| AddressId   | int     |\n",
    "| PersonId    | int     |\n",
    "| City        | varchar |\n",
    "| State       | varchar |\n",
    "+-------------+---------+\n",
    "AddressId 是上表主键\n",
    "```\n",
    "\n",
    "编写一个 SQL 查询，满足条件：无论 person 是否有地址信息，都需要基于上述两表提供 person 的以下信息：\n",
    "\n",
    " ```\n",
    " FirstName, LastName, City, State\n",
    " ```"
   ]
  },
  {
   "cell_type": "markdown",
   "metadata": {},
   "source": [
    "#### SQL \n",
    "MYSQL language  \n",
    "\n",
    "内联结：  \n",
    "select ...  \n",
    "from ... inner join  \n",
    "on ...  \n",
    "\n",
    "外联结：  \n",
    "考虑到可能不是每个人都有地址信息，我们应该使用 outer join 而不是默认的 inner join\n",
    "select ...  \n",
    "frome ... left join ...  \n",
    "on ...  "
   ]
  },
  {
   "cell_type": "code",
   "execution_count": null,
   "metadata": {
    "scrolled": true
   },
   "outputs": [],
   "source": [
    "# SQL\n",
    "select FirstName, LastName, City, State\n",
    "from Person left join Address\n",
    "on Person.PersonID = Address.PersonID\n",
    ";"
   ]
  },
  {
   "cell_type": "markdown",
   "metadata": {},
   "source": [
    "#### 2️⃣ 2020-07-29 8:37"
   ]
  },
  {
   "cell_type": "code",
   "execution_count": null,
   "metadata": {},
   "outputs": [],
   "source": [
    "select FirstName, LastName, City, State\n",
    "from Person left join Address\n",
    "on Person.PersonID = Address.PersonID\n",
    ";"
   ]
  },
  {
   "cell_type": "markdown",
   "metadata": {},
   "source": [
    "## √ (2.5h)2020-07-18  10:05  42. 接雨水\n",
    "给定 n 个非负整数表示每个宽度为 1 的柱子的高度图，计算按此排列的柱子，下雨之后能接多少雨水。\n",
    "\n",
    "![](https://cdn.jsdelivr.net/gh/sunqinghu/PicRepo/img/2020/20201023174142.png)\n",
    "\n",
    "上面是由数组 [0,1,0,2,1,0,1,3,2,1,2,1] 表示的高度图，在这种情况下，可以接 6 个单位的雨水（蓝色部分表示雨水）。 感谢 Marcos 贡献此图。\n",
    "```\n",
    "示例:\n",
    "\n",
    "输入: [0,1,0,2,1,0,1,3,2,1,2,1]\n",
    "输出: 6\n",
    "```\n",
    "\n"
   ]
  },
  {
   "cell_type": "code",
   "execution_count": null,
   "metadata": {},
   "outputs": [],
   "source": [
    "class Solution:\n",
    "    def onelist(self, List):\n",
    "        Dict1 = {}\n",
    "        for i in range(len(List)):\n",
    "            if List[i] not in Dict1:\n",
    "                Dict1[List[i]]=[i] \n",
    "            else:\n",
    "                Dict1[List[i]].append(i)\n",
    "        Dict1 = dict(sorted(Dict1.items(), key=lambda Dict1:Dict1[0], reverse=True)) # 字典排序方法\n",
    "        print(Dict1)        \n",
    "        \n",
    "        rainNum = 0\n",
    "        p = 0\n",
    "        for num, i in Dict1.items():\n",
    "            for j in i:\n",
    "                print('******\\n',num,j)\n",
    "                if j <= p:\n",
    "                    continue\n",
    "                count = num*(j-p-1)-sum(List[i] for i in range(p+1,j))\n",
    "                print('p=',p,'count=',count)\n",
    "                p = j\n",
    "                rainNum += count\n",
    "                print('p=',p,'rain=',rainNum)\n",
    "\n",
    "        return rainNum\n",
    "           \n",
    "        \n",
    "    def trap(self, height):\n",
    "        nums = height\n",
    "        if len(nums)==0: return 0\n",
    "        max_num = max(nums)\n",
    "        i_max = nums.index(max_num)\n",
    "        list1 = nums[:i_max+1]\n",
    "        list1.reverse()\n",
    "        list2 = nums[i_max:]\n",
    "        \n",
    "        out1 = self.onelist(list1)\n",
    "        out2 = self.onelist(list2)\n",
    "        return out1 + out2"
   ]
  },
  {
   "cell_type": "code",
   "execution_count": null,
   "metadata": {},
   "outputs": [],
   "source": [
    "nums = [0,1,0,2,1,0,1,3,2,1,2,1]\n",
    "solution = Solution()\n",
    "result = solution.trap(nums)\n",
    "result"
   ]
  },
  {
   "cell_type": "markdown",
   "metadata": {},
   "source": [
    "## √2020-07-18 10:48 206. 反转链表\n",
    "反转一个单链表。\n",
    "```\n",
    "示例:\n",
    "\n",
    "输入: 1->2->3->4->5->NULL\n",
    "输出: 5->4->3->2->1->NULL\n",
    "```\n",
    "进阶:\n",
    "你可以迭代或递归地反转链表。你能否用两种方法解决这道题？\n"
   ]
  },
  {
   "cell_type": "code",
   "execution_count": null,
   "metadata": {
    "code_folding": [
     0
    ]
   },
   "outputs": [],
   "source": [
    "class Solution(object):\n",
    "\tdef reverseList(self, head):\n",
    "\t\t\"\"\"\n",
    "\t\t:type head: ListNode\n",
    "\t\t:rtype: ListNode\n",
    "\t\t\"\"\"\n",
    "\t\t# 申请两个节点，pre和 cur，pre指向None\n",
    "\t\tpre = None\n",
    "\t\tcur = head\n",
    "\t\t# 遍历链表，while循环里面的内容其实可以写成一行\n",
    "\t\t# 这里只做演示，就不搞那么骚气的写法了\n",
    "\t\twhile cur:\n",
    "\t\t\t# 记录当前节点的下一个节点\n",
    "\t\t\ttmp = cur.next\n",
    "\t\t\t# 然后将当前节点指向pre\n",
    "\t\t\tcur.next = pre\n",
    "\t\t\t# pre和cur节点都前进一位\n",
    "\t\t\tpre = cur\n",
    "\t\t\tcur = tmp\n",
    "\t\treturn pre\t\n"
   ]
  },
  {
   "cell_type": "markdown",
   "metadata": {},
   "source": [
    "#### (30m)2️⃣ 2020-07-29 8:43"
   ]
  },
  {
   "cell_type": "code",
   "execution_count": null,
   "metadata": {},
   "outputs": [],
   "source": [
    "class Solution(object):\n",
    "    def reverseList(self, head):\n",
    "        cur = head  # 注意是从head开始\n",
    "        pre = None\n",
    "        while cur:\n",
    "            nexttmp = cur.next\n",
    "            cur.next = pre\n",
    "            \n",
    "            pre = cur \n",
    "            cur = nexttmp\n",
    "        return pre  # 返回的是起始点"
   ]
  },
  {
   "cell_type": "markdown",
   "metadata": {},
   "source": [
    "## 2020-07-19 12:29 4. 寻找两个正序数组的中位数\n",
    "给定两个大小为 m 和 n 的正序（从小到大）数组 nums1 和 nums2。\n",
    "\n",
    "请你找出这两个正序数组的中位数，并且要求算法的时间复杂度为 O(log(m + n))。\n",
    "\n",
    "你可以假设 nums1 和 nums2 不会同时为空。\n",
    "\n",
    " \n",
    "```\n",
    "示例 1:\n",
    "\n",
    "nums1 = [1, 3]\n",
    "nums2 = [2]\n",
    "\n",
    "则中位数是 2.0\n",
    "\n",
    "示例 2:\n",
    "\n",
    "nums1 = [1, 2]\n",
    "nums2 = [3, 4]\n",
    "\n",
    "则中位数是 (2 + 3)/2 = 2.5\n",
    "```"
   ]
  },
  {
   "cell_type": "markdown",
   "metadata": {},
   "source": [
    "#### 2️⃣ 2020-07-29 9:17"
   ]
  },
  {
   "cell_type": "code",
   "execution_count": null,
   "metadata": {},
   "outputs": [],
   "source": [
    "class Solution:\n",
    "    def findMedianSortedArrays(self, nums1: List[int], nums2: List[int]) -> float:\n",
    "        \n",
    "        \n",
    "        \n",
    "        "
   ]
  },
  {
   "cell_type": "code",
   "execution_count": null,
   "metadata": {},
   "outputs": [],
   "source": [
    "nums1 = [1, 2]\n",
    "nums2 = [3, 4]\n",
    "solution = Solution()\n",
    "result = solution.findMedianSortedArrays(nums1,nums2)\n",
    "result"
   ]
  },
  {
   "cell_type": "markdown",
   "metadata": {},
   "source": [
    "## √ (1.5h)2020-07-19  7:41 146. LRU缓存机制\n",
    "运用你所掌握的数据结构，设计和实现一个  LRU (最近最少使用) 缓存机制。它应该支持以下操作： 获取数据 get 和 写入数据 put 。\n",
    "\n",
    "获取数据 get(key) - 如果关键字 (key) 存在于缓存中，则获取关键字的值（总是正数），否则返回 -1。\n",
    "写入数据 put(key, value) - 如果关键字已经存在，则变更其数据值；如果关键字不存在，则插入该组「关键字/值」。当缓存容量达到上限时，它应该在写入新数据之前删除最久未使用的数据值，从而为新的数据值留出空间。\n",
    "\n",
    " \n",
    "\n",
    "进阶:\n",
    "\n",
    "你是否可以在 O(1) 时间复杂度内完成这两种操作？\n",
    "\n",
    " \n",
    "```\n",
    "示例:\n",
    "\n",
    "LRUCache cache = new LRUCache( 2 /* 缓存容量 */ );\n",
    "\n",
    "cache.put(1, 1);\n",
    "cache.put(2, 2);\n",
    "cache.get(1);       // 返回  1\n",
    "cache.put(3, 3);    // 该操作会使得关键字 2 作废\n",
    "cache.get(2);       // 返回 -1 (未找到)\n",
    "cache.put(4, 4);    // 该操作会使得关键字 1 作废\n",
    "cache.get(1);       // 返回 -1 (未找到)\n",
    "cache.get(3);       // 返回  3\n",
    "cache.get(4);       // 返回  4\n",
    "```"
   ]
  },
  {
   "cell_type": "code",
   "execution_count": null,
   "metadata": {},
   "outputs": [],
   "source": [
    "class LRUCache:\n",
    "\n",
    "    def __init__(self, capacity: int):\n",
    "        self.capacity = capacity\n",
    "        self.cacheDict = dict()\n",
    "        self.st = []  #???????\n",
    "        \n",
    "    def get(self, key: int) -> int:\n",
    "        if  (key not in self.cacheDict.keys()): \n",
    "            return -1\n",
    "        while key in self.st:    # 注意要删除重复值\n",
    "            self.st.remove(key) # remove() 是删除指定值 \n",
    "        self.st.append(key)\n",
    "        return self.cacheDict[key]\n",
    "\n",
    "    def put(self, key: int, value: int) -> None:\n",
    "        if len(self.cacheDict) >= self.capacity and key not in self.cacheDict.keys():\n",
    "            self.cacheDict.pop(self.st[-self.capacity]) \n",
    "        self.cacheDict[key] = value\n",
    "        while key in self.st:\n",
    "            self.st.remove(key) # remove() 是删除指定值 \n",
    "        self.st.append(key)\n",
    "        return \n",
    "\n",
    "# Your LRUCache object will be instantiated and called as such:\n",
    "# obj = LRUCache(capacity)\n",
    "# param_1 = obj.get(key)\n",
    "# obj.put(key,value)"
   ]
  },
  {
   "cell_type": "code",
   "execution_count": null,
   "metadata": {},
   "outputs": [],
   "source": [
    "obj = LRUCache(1)\n",
    "obj.put(0,1)\n",
    "param_1 = obj.get(0)\n",
    "print(param_1)\n",
    "obj.put(2,2)"
   ]
  },
  {
   "cell_type": "markdown",
   "metadata": {},
   "source": [
    "## 2020-07-19  9:52 25. K 个一组翻转链表\n",
    "给你一个链表，每 k 个节点一组进行翻转，请你返回翻转后的链表。\n",
    "\n",
    "k 是一个正整数，它的值小于或等于链表的长度。\n",
    "\n",
    "如果节点总数不是 k 的整数倍，那么请将最后剩余的节点保持原有顺序。\n",
    "\n",
    " \n",
    "```\n",
    "示例：\n",
    "\n",
    "给你这个链表：1->2->3->4->5\n",
    "\n",
    "当 k = 2 时，应当返回: 2->1->4->3->5\n",
    "\n",
    "当 k = 3 时，应当返回: 3->2->1->4->5\n",
    "```\n",
    "\n",
    "说明：\n",
    "\n",
    "你的算法只能使用常数的额外空间。\n",
    "你不能只是单纯的改变节点内部的值，而是需要实际进行节点交换。"
   ]
  },
  {
   "cell_type": "code",
   "execution_count": null,
   "metadata": {},
   "outputs": [],
   "source": [
    "class Solution:\n",
    "    def reverseList(self, head):\n",
    "\n",
    "        while cur:\n",
    "            nexttmp = cur.next\n",
    "            cur.next = pre\n",
    "            \n",
    "            pre = cur \n",
    "            cur = nexttmp\n",
    "        return pre  # 返回的是起始点    \n",
    "    def reverseKGroup(self, head: ListNode, k: int) -> ListNode:\n",
    "        cur = head  # 注意是从head开始\n",
    "        pre = None\n",
    "        reverseList()"
   ]
  },
  {
   "cell_type": "markdown",
   "metadata": {},
   "source": [
    "## 2020-07-19 11:21 33. 搜索旋转排序数组\n",
    "假设按照升序排序的数组在预先未知的某个点上进行了旋转。\n",
    "\n",
    "( 例如，数组 [0,1,2,4,5,6,7] 可能变为 [4,5,6,7,0,1,2] )。\n",
    "\n",
    "搜索一个给定的目标值，如果数组中存在这个目标值，则返回它的索引，否则返回 -1 。\n",
    "\n",
    "你可以假设数组中不存在重复的元素。\n",
    "\n",
    "你的算法时间复杂度必须是 O(log n) 级别。\n",
    "```\n",
    "示例 1:\n",
    "\n",
    "输入: nums = [4,5,6,7,0,1,2], target = 0\n",
    "输出: 4\n",
    "示例 2:\n",
    "\n",
    "输入: nums = [4,5,6,7,0,1,2], target = 3\n",
    "输出: -1\n",
    "```\n"
   ]
  },
  {
   "cell_type": "markdown",
   "metadata": {},
   "source": [
    "#### 2️⃣ 2020-07-29 9：52"
   ]
  },
  {
   "cell_type": "code",
   "execution_count": null,
   "metadata": {},
   "outputs": [],
   "source": [
    "# logn → 二分法\n",
    "class Solution:\n",
    "    def search(self, nums, target: int) -> int:\n",
    "        if not nums:\n",
    "            return -1\n",
    "        l, r = 0, len(nums) - 1\n",
    "        while l <= r:\n",
    "            mid = (l + r)//2\n",
    "            if nums[mid] == target: return mid\n",
    "            if nums[mid] > nums[0]:  # 边界条件是最左最右\n",
    "                if nums[0] <= target < nums[mid]:  # 注意有等于\n",
    "                    r = mid - 1\n",
    "                else:\n",
    "                    l = mid + 1\n",
    "            else:\n",
    "                if nums[len(nums)-1] >= target > nums[mid] :\n",
    "                    l = mid + 1\n",
    "                else: \n",
    "                    r = mid - 1\n",
    "        return  -1\n",
    "                "
   ]
  },
  {
   "cell_type": "code",
   "execution_count": null,
   "metadata": {},
   "outputs": [],
   "source": [
    "from typing import List\n",
    "\n",
    "nums = [4,5,6,7,0,1,2]\n",
    "solution = Solution()\n",
    "result = solution.search(nums, 0)\n",
    "result"
   ]
  },
  {
   "cell_type": "markdown",
   "metadata": {},
   "source": [
    "## 2020-07-19  2:21 23. 合并K个排序链表\n",
    "合并 k 个排序链表，返回合并后的排序链表。请分析和描述算法的复杂度。\n",
    "\n",
    "示例:\n",
    "```\n",
    "输入:\n",
    "[\n",
    "  1->4->5,\n",
    "  1->3->4,\n",
    "  2->6\n",
    "]\n",
    "输出: 1->1->2->3->4->4->5->6\n",
    "    ```"
   ]
  },
  {
   "cell_type": "markdown",
   "metadata": {},
   "source": [
    "## √2020-07-19  2:28 56. 合并区间\n",
    "给出一个区间的集合，请合并所有重叠的区间。\n",
    "```\n",
    "示例 1:\n",
    "\n",
    "输入: [[1,3],[2,6],[8,10],[15,18]]\n",
    "输出: [[1,6],[8,10],[15,18]]\n",
    "解释: 区间 [1,3] 和 [2,6] 重叠, 将它们合并为 [1,6].\n",
    "示例 2:\n",
    "\n",
    "输入: [[1,4],[4,5]]\n",
    "输出: [[1,5]]\n",
    "解释: 区间 [1,4] 和 [4,5] 可被视为重叠区间。\n",
    "```"
   ]
  },
  {
   "cell_type": "code",
   "execution_count": null,
   "metadata": {
    "code_folding": []
   },
   "outputs": [],
   "source": [
    "class Solution:\n",
    "    def merge(self, intervals: List[List[int]]) -> List[List[int]]:\n",
    "        intervals.sort(key=lambda x:x[0])\n",
    "        \n",
    "        merged = []\n",
    "        for interval in intervals:\n",
    "            if not merged or merged[-1][1] < interval[0]:\n",
    "                merged.append(interval)\n",
    "            else:\n",
    "                merged[-1][1] = max(merged[-1][1], interval[1])\n",
    "                \n",
    "        return merged"
   ]
  },
  {
   "cell_type": "markdown",
   "metadata": {},
   "source": [
    "#### (10m)2️⃣ 2020-07-29 10:37"
   ]
  },
  {
   "cell_type": "code",
   "execution_count": null,
   "metadata": {},
   "outputs": [],
   "source": [
    "class Solution:\n",
    "    def merge(self, intervals: List[List[int]]) -> List[List[int]]:\n",
    "        if intervals == []: return []\n",
    "        intervals.sort()\n",
    "\n",
    "        ans = [intervals[0]]\n",
    "        for i in range(len(intervals)):\n",
    "            if ans[-1][1] < intervals[i][0]:\n",
    "                ans.append(intervals[i])\n",
    "            else: \n",
    "                ans[-1][1] = max(ans[-1][1], intervals[i][1])   # 合并的方法        \n",
    "        return ans"
   ]
  },
  {
   "cell_type": "code",
   "execution_count": null,
   "metadata": {},
   "outputs": [],
   "source": [
    "from typing import List\n",
    "\n",
    "nums = [[1,3],[2,6],[8,10],[15,18]]\n",
    "solution = Solution()\n",
    "result = solution.merge(nums)\n",
    "result"
   ]
  },
  {
   "cell_type": "markdown",
   "metadata": {},
   "source": [
    "## (1h)2020-07-19  2:49 46. 全排列"
   ]
  },
  {
   "cell_type": "markdown",
   "metadata": {},
   "source": [
    "### 数组深拷贝、浅拷贝\n",
    "       res.append(path[:])  # 注意相当于这里做一次拷贝。否则输出为全空"
   ]
  },
  {
   "cell_type": "code",
   "execution_count": null,
   "metadata": {},
   "outputs": [],
   "source": [
    "# 浅拷贝, 指向同一地址\n",
    "a = [2,3,34,4]\n",
    "b = a\n",
    "a.append(222)\n",
    "a, b"
   ]
  },
  {
   "cell_type": "code",
   "execution_count": null,
   "metadata": {
    "scrolled": true
   },
   "outputs": [],
   "source": [
    "# 深拷贝， 不同地址\n",
    "a = [2,3,34,4]\n",
    "b = a[:]\n",
    "c = list(a)\n",
    "d = a*1\n",
    "import copy\n",
    "e = copy.copy(a)\n",
    "a.append(222)\n",
    "a, b, c, d, e"
   ]
  },
  {
   "cell_type": "markdown",
   "metadata": {},
   "source": [
    "#### 回溯算法（回溯搜索算法）  \n",
    "1. 深度优先遍历的特有的现象，节约空间  \n",
    "全排列思路：  \n",
    "在枚举第一位的时候，有 3 种情况。  \n",
    "在枚举第二位的时候，前面已经出现过的数字就不能再被选取了；  \n",
    "在枚举第三位的时候，前面 2 个已经选择过的数字就不能再被选取了。  \n",
    "![image.png](https://pic.leetcode-cn.com/0bf18f9b86a2542d1f6aa8db6cc45475fce5aa329a07ca02a9357c2ead81eec1-image.png)\n",
    "![](https://pic.leetcode-cn.com/6a464ba95a7ad1c247aa39610535984c241e6b95148f8bc36b02908a190b1d54-image.png)"
   ]
  },
  {
   "cell_type": "markdown",
   "metadata": {},
   "source": [
    "第 1 步都是先画图，画图是非常重要的，只有画图才能帮助我们想清楚递归结构，想清楚如何剪枝\n",
    "\n",
    "步骤，即在画图的过程中思考清楚：\n",
    "\n",
    "1、分支如何产生；\n",
    "\n",
    "2、题目需要的解在哪里？是在叶子结点、还是在非叶子结点、还是在从跟结点到叶子结点的路径？\n",
    "\n",
    "3、哪些搜索是会产生不需要的解的？例如：产生重复是什么原因，如果在浅层就知道这个分支不能产生需要的结果，应该提前剪枝，剪枝的条件是什么，代码怎么写？"
   ]
  },
  {
   "cell_type": "markdown",
   "metadata": {},
   "source": [
    "给定一个 没有重复 数字的序列，返回其所有可能的全排列。\n",
    "\n",
    "示例:\n",
    "```\n",
    "输入: [1,2,3]\n",
    "输出:\n",
    "[\n",
    "  [1,2,3],\n",
    "  [1,3,2],\n",
    "  [2,1,3],\n",
    "  [2,3,1],\n",
    "  [3,1,2],\n",
    "  [3,2,1]\n",
    "]\n",
    "```"
   ]
  },
  {
   "cell_type": "code",
   "execution_count": null,
   "metadata": {},
   "outputs": [],
   "source": [
    "class Solution:\n",
    "    def permute(self, nums: List[int]) -> List[List[int]]:\n",
    "        def dfs(nums, size, depth, path, used, res):\n",
    "            if depth == size:\n",
    "                res.append(path[:])  # 注意相当于这里做一次拷贝。否则输出为全空\n",
    "                return\n",
    "            \n",
    "            for i in range(size):  \n",
    "                if not used[i]:\n",
    "                    used[i] = True\n",
    "                    path.append(nums[i]) # 添加到路径\n",
    "                    \n",
    "                    dfs(nums, size, depth+1, path, used, res)\n",
    "                    \n",
    "                    used[i] = False\n",
    "                    path.pop()  # 从路径取出\n",
    "                    \n",
    "        size = len(nums)\n",
    "        if len(nums) == 0:\n",
    "            return []\n",
    "        \n",
    "        used = [False for _ in range(size)]\n",
    "        res = []\n",
    "        dfs(nums, size, 0, [], used, res)\n",
    "        return res\n"
   ]
  },
  {
   "cell_type": "markdown",
   "metadata": {},
   "source": [
    "#### 2️⃣ 2020-07-30 12:16"
   ]
  },
  {
   "cell_type": "code",
   "execution_count": null,
   "metadata": {},
   "outputs": [],
   "source": [
    "class Solution:\n",
    "    def permute(self, nums: List[int]) -> List[List[int]]:\n",
    "        if depth == size:\n",
    "            res.append(path[:])\n",
    "            return \n",
    "        \n",
    "        for i in range(size):\n",
    "            if not used[i]:\n",
    "                used[i] = True\n",
    "                path.append(nums[i])\n",
    "                \n",
    "                dfs(nums, size, depth+1, path, used, res)\n",
    "                \n",
    "                used[i] = False\n",
    "                path.pop()\n",
    "                \n",
    "        size = len(nums)\n",
    "        if size == 0:\n",
    "            return []\n",
    "        \n",
    "        used = [False for _ in range(size)]\n",
    "        res = []\n",
    "        dfs(nums, size, 0, [], used, res)\n",
    "        return res\n",
    "        "
   ]
  },
  {
   "cell_type": "code",
   "execution_count": null,
   "metadata": {},
   "outputs": [],
   "source": [
    "from typing import List\n",
    "\n",
    "nums = [1,2,4]\n",
    "solution = Solution()\n",
    "result = solution.permute(nums)\n",
    "result"
   ]
  },
  {
   "cell_type": "markdown",
   "metadata": {},
   "source": [
    "## (20m)2020-07-19  4:05 199. 二叉树的右视图\n",
    "给定一棵二叉树，想象自己站在它的右侧，按照从顶部到底部的顺序，返回从右侧所能看到的节点值。\n",
    "\n",
    "示例:\n",
    "```\n",
    "输入: [1,2,3,null,5,null,4]\n",
    "输出: [1, 3, 4]\n",
    "解释:\n",
    "\n",
    "   1            <---\n",
    " /   \\\n",
    "2     3         <---\n",
    " \\     \\\n",
    "  5     4       <---\n",
    "```"
   ]
  },
  {
   "cell_type": "code",
   "execution_count": null,
   "metadata": {},
   "outputs": [],
   "source": [
    "# Definition for a binary tree node.\n",
    "class TreeNode:\n",
    "    def __init__(self, x):\n",
    "        self.val = x\n",
    "        self.left = None\n",
    "        self.right = None\n",
    "\n",
    "class Solution:\n",
    "    def rightSideView(self, root: TreeNode) -> List[int]:\n",
    "        pass"
   ]
  },
  {
   "cell_type": "code",
   "execution_count": null,
   "metadata": {},
   "outputs": [],
   "source": [
    "from typing import List\n",
    "from typing import TreeNode\n",
    "\n",
    "nums =  []\n",
    "solution = Solution()\n",
    "result = solution.maxArea(nums)\n",
    "result"
   ]
  },
  {
   "cell_type": "markdown",
   "metadata": {},
   "source": [
    "## √ (6m)2020-07-19 4:54 215. 数组中的第K个最大元素\n",
    "在未排序的数组中找到第 k 个最大的元素。请注意，你需要找的是数组排序后的第 k 个最大的元素，而不是第 k 个不同的元素。\n",
    "```\n",
    "示例 1:\n",
    "\n",
    "输入: [3,2,1,5,6,4] 和 k = 2\n",
    "输出: 5\n",
    "示例 2:\n",
    "\n",
    "输入: [3,2,3,1,2,4,5,5,6] 和 k = 4\n",
    "输出: 4\n",
    "说明:\n",
    "\n",
    "你可以假设 k 总是有效的，且 1 ≤ k ≤ 数组的长度。\n",
    "```"
   ]
  },
  {
   "cell_type": "code",
   "execution_count": null,
   "metadata": {},
   "outputs": [],
   "source": [
    "class Solution:\n",
    "    def findKthLargest(self, nums: List[int], k: int) -> int:\n",
    "        nums.sort(reverse=True)\n",
    "        return nums[k-1]"
   ]
  },
  {
   "cell_type": "code",
   "execution_count": null,
   "metadata": {},
   "outputs": [],
   "source": [
    "from typing import List\n",
    "\n",
    "nums = [3,2,1,5,6,4] \n",
    "solution = Solution()\n",
    "result = solution.findKthLargest(nums ,2)\n",
    "result"
   ]
  },
  {
   "cell_type": "markdown",
   "metadata": {},
   "source": [
    "## √ (30m)2020-07-19  5:01 7. 整数反转\n",
    "给出一个 32 位的有符号整数，你需要将这个整数中每位上的数字进行反转。\n",
    "```\n",
    "示例 1:\n",
    "\n",
    "输入: 123\n",
    "输出: 321\n",
    " 示例 2:\n",
    "\n",
    "输入: -123\n",
    "输出: -321\n",
    "示例 3:\n",
    "\n",
    "输入: 120\n",
    "输出: 21\n",
    "注意:\n",
    "\n",
    "假设我们的环境只能存储得下 32 位的有符号整数，则其数值范围为 [−231,  231 − 1]。请根据这个假设，如果反转后整数溢出那么就返回 0。\n",
    "```"
   ]
  },
  {
   "cell_type": "code",
   "execution_count": null,
   "metadata": {},
   "outputs": [],
   "source": [
    "class Solution:\n",
    "    def reverse(self, x: int) -> int:\n",
    "        string = list(str(x))\n",
    "        if string[0] == '-':\n",
    "            string.pop(0)\n",
    "            ans = 0\n",
    "    #         print (string)\n",
    "            for i in range(len(string)):\n",
    "                ans = int(string[i])*10**i + ans\n",
    "            ans = -ans\n",
    "        else:\n",
    "            ans = 0\n",
    "    #         print (string)\n",
    "            for i in range(len(string)):\n",
    "                ans = int(string[i])*10**i + ans \n",
    "        if ans<-2**31 and ans>2**31-1: return 0\n",
    "        return ans"
   ]
  },
  {
   "cell_type": "code",
   "execution_count": null,
   "metadata": {},
   "outputs": [],
   "source": [
    "# m数学法\n",
    "class Solution:\n",
    "    def reverse(self, x): \n",
    "        ans = 0\n",
    "        while (x != 0): \n",
    "            pop = x % 10\n",
    "            ans = ans * 10 + pop\n",
    "            x = x//10\n",
    "        return ans\n"
   ]
  },
  {
   "cell_type": "code",
   "execution_count": null,
   "metadata": {},
   "outputs": [],
   "source": [
    "from typing import List\n",
    "\n",
    "nums = 123\n",
    "solution = Solution()\n",
    "result = solution.reverse(nums)\n",
    "result"
   ]
  },
  {
   "cell_type": "markdown",
   "metadata": {},
   "source": [
    "## (2h)2020-07-20  11:07 31. 下一个排列\n",
    "实现获取下一个排列的函数，算法需要将给定数字序列重新排列成字典序中下一个更大的排列。\n",
    "\n",
    "如果不存在下一个更大的排列，则将数字重新排列成最小的排列（即升序排列）。\n",
    "\n",
    "必须原地修改，只允许使用额外常数空间。\n",
    "```\n",
    "以下是一些例子，输入位于左侧列，其相应输出位于右侧列。\n",
    "1,2,3 → 1,3,2\n",
    "3,2,1 → 1,2,3\n",
    "1,1,5 → 1,5,1\n",
    "```"
   ]
  },
  {
   "cell_type": "markdown",
   "metadata": {},
   "source": [
    "算法思路：\n",
    "1. 将后面的大数与前面的小数字交换\n",
    "2. 增加幅度尽量小\n",
    "    1. 低位交换，从后向前找 √\n",
    "    2. 找尽量接近（小）的大数替换 √\n",
    "    3. 重置为升序排序 "
   ]
  },
  {
   "cell_type": "code",
   "execution_count": null,
   "metadata": {},
   "outputs": [],
   "source": [
    "class Solution:\n",
    "    def nextPermutation(self, nums: List[int]) -> None:\n",
    "        \"\"\"\n",
    "        Do not return anything, modify nums in-place instead.\n",
    "        \"\"\"\n",
    "        if len(nums) < 2: return 0\n",
    "        for i in range(len(nums)-1,0,-1):\n",
    "            if nums[i] > nums[i-1]: \n",
    "                nums[i:] = sorted(nums[i:])  \n",
    "                for j in range(i, len(nums)):\n",
    "                    if nums[j] > nums[i-1]:  # 找最接近的进行替换\n",
    "                        nums[j], nums[i-1] = nums[i-1], nums[j]\n",
    "                        break\n",
    "                return\n",
    "        nums.sort()"
   ]
  },
  {
   "cell_type": "code",
   "execution_count": null,
   "metadata": {},
   "outputs": [],
   "source": [
    "from typing import List\n",
    "\n",
    "nums = [1,3,2]\n",
    "solution = Solution()\n",
    "result = solution.nextPermutation(nums)\n",
    "result"
   ]
  },
  {
   "cell_type": "markdown",
   "metadata": {},
   "source": [
    "## (1.5h)2020-07-20 14:37 (动态规划)72. 编辑距离\n",
    "给你两个单词 word1 和 word2，请你计算出将 word1 转换成 word2 所使用的最少操作数 。\n",
    "\n",
    "你可以对一个单词进行如下三种操作：\n",
    "\n",
    "插入一个字符\n",
    "删除一个字符\n",
    "替换一个字符\n",
    " \n",
    "\n",
    "```\n",
    "示例 1：\n",
    "\n",
    "输入：word1 = \"horse\", word2 = \"ros\"\n",
    "输出：3\n",
    "解释：\n",
    "horse -> rorse (将 'h' 替换为 'r')\n",
    "rorse -> rose (删除 'r')\n",
    "rose -> ros (删除 'e')\n",
    "示例 2：\n",
    "\n",
    "输入：word1 = \"intention\", word2 = \"execution\"\n",
    "输出：5\n",
    "解释：\n",
    "intention -> inention (删除 't')\n",
    "inention -> enention (将 'i' 替换为 'e')\n",
    "enention -> exention (将 'n' 替换为 'x')\n",
    "exention -> exection (将 'n' 替换为 'c')\n",
    "exection -> execution (插入 'u')\n",
    "\n",
    "```"
   ]
  },
  {
   "cell_type": "markdown",
   "metadata": {},
   "source": [
    "### 递归和动态规划\n",
    "模式识别：一旦涉及子问题（状态转移），**就可以使用自顶向下的递归和自底向上的动态规划**  "
   ]
  },
  {
   "cell_type": "markdown",
   "metadata": {},
   "source": [
    "### 递归（自顶向下） -- 大量冗余操作\n",
    "1. 定义递归出口\n",
    "2. 最后字符相同，向前推以为\n",
    "3. 否则，搜索插入删除替换动作\n",
    "![image.png](attachment:image.png)\n",
    "\n",
    "\n"
   ]
  },
  {
   "cell_type": "markdown",
   "metadata": {},
   "source": [
    "### 动态规划（自底向上）：  \n",
    "1. 构造初始解\n",
    "2. 抽象状态转移方程，根据转移方程构造更上层的解\n",
    " ![](https://tva1.sinaimg.cn/large/007S8ZIlly1ggxgoz3c8bj30hk0520t0.jpg)"
   ]
  },
  {
   "cell_type": "code",
   "execution_count": null,
   "metadata": {},
   "outputs": [],
   "source": [
    "class Solution:\n",
    "    def minDistance(self, word1: str, word2: str) -> int:\n",
    "        "
   ]
  },
  {
   "cell_type": "code",
   "execution_count": null,
   "metadata": {},
   "outputs": [],
   "source": [
    "from typing import List\n",
    "\n",
    "nums = \n",
    "solution = Solution()\n",
    "result = solution.maxArea(nums)\n",
    "result = "
   ]
  },
  {
   "cell_type": "markdown",
   "metadata": {},
   "source": [
    "## √ (1.5h)2020-07-20 16:02 135. 分发糖果\n",
    "老师想给孩子们分发糖果，有 N 个孩子站成了一条直线，老师会根据每个孩子的表现，预先给他们评分。\n",
    "\n",
    "你需要按照以下要求，帮助老师给这些孩子分发糖果：\n",
    "\n",
    "每个孩子至少分配到 1 个糖果。\n",
    "相邻的孩子中，评分高的孩子必须获得更多的糖果。\n",
    "那么这样下来，老师至少需要准备多少颗糖果呢？\n",
    "\n",
    "```\n",
    "示例 1:\n",
    "\n",
    "输入: [1,0,2]\n",
    "输出: 5\n",
    "解释: 你可以分别给这三个孩子分发 2、1、2 颗糖果。\n",
    "示例 2:\n",
    "\n",
    "输入: [1,2,2]\n",
    "输出: 4\n",
    "解释: 你可以分别给这三个孩子分发 1、2、1 颗糖果。\n",
    "     第三个孩子只得到 1 颗糖果，这已满足上述两个条件。\n",
    "```"
   ]
  },
  {
   "cell_type": "markdown",
   "metadata": {},
   "source": [
    "### 标准数组生成字典及字典排序方法"
   ]
  },
  {
   "cell_type": "code",
   "execution_count": null,
   "metadata": {},
   "outputs": [],
   "source": [
    "# 自己做的，有点慢\n",
    "class Solution:\n",
    "    def candy(self, ratings: List[int]) -> int:\n",
    "        if len(ratings) == 1: return 1\n",
    "        # list to dict 用列表生成字典方法\n",
    "        ratings_dict = {}  \n",
    "        for i in range(len(ratings)):\n",
    "            if ratings[i] not in ratings_dict.keys(): \n",
    "                ratings_dict[ratings[i]] = [i]\n",
    "            else:\n",
    "                ratings_dict[ratings[i]].append(i)\n",
    "#         print(ratings_dict)\n",
    "        # sort\n",
    "        ratings_sorted = dict(sorted(ratings_dict.items(), key = lambda ratings_dict:ratings_dict[0])) # 字典排序方法\n",
    "        print(ratings_sorted)\n",
    "        \n",
    "        cnt = 0\n",
    "        candy = [0 for _ in range(len(ratings))]\n",
    "        for key, indexs in ratings_sorted.items():\n",
    "#             if cnt == 0: \n",
    "#                 candy[index] = 1 for index in indexs\n",
    "#                 cnt = 1\n",
    "#                 continue\n",
    "            temps = []\n",
    "            for index in indexs:\n",
    "                if index == 0: \n",
    "                    temps.append(candy[index+1] + 1) \n",
    "                    continue\n",
    "                if index == len(candy)-1: \n",
    "                    temps.append(candy[index-1] + 1)\n",
    "                    continue\n",
    "                temps.append(max(candy[index-1], candy[index+1]) + 1)\n",
    "            cnt = 0\n",
    "            for i in range(len(indexs)):\n",
    "                candy[indexs[i]] = temps[i]   # 同时赋值\n",
    "        return sum(candy)"
   ]
  },
  {
   "cell_type": "code",
   "execution_count": null,
   "metadata": {},
   "outputs": [],
   "source": [
    "from typing import List\n",
    "\n",
    "nums = [1,0,2,2]\n",
    "solution = Solution()\n",
    "result = solution.candy(nums)\n",
    "result"
   ]
  },
  {
   "cell_type": "markdown",
   "metadata": {},
   "source": [
    "### 满足左原则和满足右原则（贪心）\n",
    "从左向右一次， 从右向左一次，    取最大\n",
    "\n"
   ]
  },
  {
   "cell_type": "code",
   "execution_count": null,
   "metadata": {},
   "outputs": [],
   "source": [
    "class Solution:\n",
    "    def candy(self, ratings: List[int]) -> int:\n",
    "        left = [1 for _ in range(len(ratings))]\n",
    "        right = left[:]\n",
    "        for i in range(1, len(ratings)):\n",
    "            if ratings[i] > ratings[i - 1]: left[i] = left[i - 1] + 1\n",
    "        count = left[-1]\n",
    "        for i in range(len(ratings) - 2, -1, -1):\n",
    "            if ratings[i] > ratings[i + 1]: right[i] = right[i + 1] + 1\n",
    "            count += max(left[i], right[i])\n",
    "        return count\n"
   ]
  },
  {
   "cell_type": "markdown",
   "metadata": {},
   "source": [
    "## (1h)2020-07-20 19:07 440. 字典序的第K小数字\n",
    "给定整数 n 和 k，找到 1 到 n 中字典序第 k 小的数字。\n",
    "\n",
    "注意：1 ≤ k ≤ n ≤ 109。\n",
    "\n",
    "```\n",
    "示例 :\n",
    "\n",
    "输入:\n",
    "n: 13   k: 2\n",
    "\n",
    "输出:\n",
    "10\n",
    "\n",
    "解释:\n",
    "字典序的排列是 [1, 10, 11, 12, 13, 2, 3, 4, 5, 6, 7, 8, 9]，所以第二小的数字是 10。\n",
    "```"
   ]
  },
  {
   "cell_type": "code",
   "execution_count": null,
   "metadata": {},
   "outputs": [],
   "source": [
    "class Solution:\n",
    "    def findKthNumber(self, n: int, k: int) -> int:\n",
    "        # prefix 前缀 n 上界\n",
    "        p = 1\n",
    "        prefix = 1\n",
    "            \n",
    "        while p < k:\n",
    "            count += next_prefix - cur\n",
    "            cur *= 10   # 10\n",
    "            next_prefix *= 10  # 20\n",
    "            \n",
    "        return count\n",
    "            \n",
    "            "
   ]
  },
  {
   "cell_type": "code",
   "execution_count": null,
   "metadata": {},
   "outputs": [],
   "source": [
    "from typing import List\n",
    "\n",
    "nums = \n",
    "solution = Solution()\n",
    "result = solution.maxArea(nums)\n",
    "result"
   ]
  },
  {
   "cell_type": "markdown",
   "metadata": {},
   "source": [
    "## 2020-07-20 20:01 124. 二叉树中的最大路径和\n",
    "给定一个非空二叉树，返回其最大路径和。\n",
    "\n",
    "本题中，路径被定义为一条从树中任意节点出发，达到任意节点的序列。该路径至少包含一个节点，且不一定经过根节点。\n",
    "\n",
    "```\n",
    "示例 1:\n",
    "\n",
    "输入: [1,2,3]\n",
    "\n",
    "       1\n",
    "      / \\\n",
    "     2   3\n",
    "\n",
    "输出: 6\n",
    "示例 2:\n",
    "\n",
    "输入: [-10,9,20,null,null,15,7]\n",
    "\n",
    "   -10\n",
    "   / \\\n",
    "  9  20\n",
    "    /  \\\n",
    "   15   7\n",
    "```"
   ]
  },
  {
   "cell_type": "markdown",
   "metadata": {},
   "source": [
    "## 2020-07-20 20:45 200. 岛屿数量\n",
    "给你一个由 '1'（陆地）和 '0'（水）组成的的二维网格，请你计算网格中岛屿的数量。\n",
    "\n",
    "岛屿总是被水包围，并且每座岛屿只能由水平方向或竖直方向上相邻的陆地连接形成。\n",
    "\n",
    "此外，你可以假设该网格的四条边均被水包围。\n",
    "\n",
    " \n",
    "\n",
    "```\n",
    "示例 1:\n",
    "\n",
    "输入:\n",
    "[\n",
    "['1','1','1','1','0'],\n",
    "['1','1','0','1','0'],\n",
    "['1','1','0','0','0'],\n",
    "['0','0','0','0','0']\n",
    "]\n",
    "输出: 1\n",
    "示例 2:\n",
    "\n",
    "输入:\n",
    "[\n",
    "['1','1','0','0','0'],\n",
    "['1','1','0','0','0'],\n",
    "['0','0','1','0','0'],\n",
    "['0','0','0','1','1']\n",
    "]\n",
    "输出: 3\n",
    "解释: 每座岛屿只能由水平和/或竖直方向上相邻的陆地连接而成。\n",
    "```"
   ]
  },
  {
   "cell_type": "markdown",
   "metadata": {},
   "source": [
    "## （0.5h）2020-07-20 20:52 32. 最长有效括号\n",
    "给定一个只包含 '(' 和 ')' 的字符串，找出最长的包含有效括号的子串的长度。\n",
    "\n",
    "```\n",
    "示例 1:\n",
    "\n",
    "输入: \"(()\"\n",
    "输出: 2\n",
    "解释: 最长有效括号子串为 \"()\"\n",
    "示例 2:\n",
    "\n",
    "输入: \")()())\"\n",
    "输出: 4\n",
    "解释: 最长有效括号子串为 \"()()\"\n",
    "```"
   ]
  },
  {
   "cell_type": "markdown",
   "metadata": {},
   "source": [
    "### 栈的例子\n",
    "\n",
    "栈底： stack=【-1】"
   ]
  },
  {
   "cell_type": "code",
   "execution_count": null,
   "metadata": {},
   "outputs": [],
   "source": [
    "# 栈\n",
    "\n",
    "class Solution:\n",
    "    def longestValidParentheses(self, s: str) -> int:\n",
    "        stack = [-1]\n",
    "        length = 0\n",
    "        max_length = 0\n",
    "        for i in range(len(s)):\n",
    "            if s[i] == '(':\n",
    "                stack.append(i)  # 对于遇到的每个‘(’ ，我们将它的下标放入栈中\n",
    "            else:   # 如果是’）‘\n",
    "                stack.pop()  # 弹出栈顶，表示匹配了当前’）‘\n",
    "                if stack == []:\n",
    "                    stack.append(i) # 括号结束，记录结束位置（更新「最后一个没有被匹配的右括号的下标」）\n",
    "                else:  # 如果栈不为空，当前右括号的下标减去栈顶元素即为「以该右括号为结尾的最长有效括号的长度」\n",
    "                    length = i-stack[-1]\n",
    "                    max_length = max(max_length,length)\n",
    "            print(i, stack, '  \\tmax_length=',max_length)\n",
    "        return max_length"
   ]
  },
  {
   "cell_type": "code",
   "execution_count": null,
   "metadata": {},
   "outputs": [],
   "source": [
    "from typing import List\n",
    "\n",
    "nums = \")()())\"\n",
    "solution = Solution()\n",
    "result = solution.longestValidParentheses(nums)\n",
    "result\n"
   ]
  },
  {
   "cell_type": "markdown",
   "metadata": {},
   "source": [
    "## √(1h)2020-07-20 21:28 93. 复原IP地址\n",
    "给定一个只包含数字的字符串，复原它并返回所有可能的 IP 地址格式。\n",
    "\n",
    "有效的 IP 地址正好由四个整数（每个整数位于 0 到 255 之间组成），整数之间用 '.' 分隔。\n",
    "\n",
    " \n",
    "\n",
    "```\n",
    "示例:\n",
    "\n",
    "输入: \"25525511135\"\n",
    "输出: [\"255.255.11.135\", \"255.255.111.35\"]\n",
    "\n",
    "```"
   ]
  },
  {
   "cell_type": "code",
   "execution_count": null,
   "metadata": {},
   "outputs": [],
   "source": [
    "class Solution:\n",
    "    def restoreIpAddresses(self, s: str) -> List[str]:\n",
    "        count = []\n",
    "        for i in range(1,4):\n",
    "            for j in range(1,4):\n",
    "                for k in range(1,4):\n",
    "                    for l in range(1,4):\n",
    "                        if len(s) == i+j+k+l:\n",
    "                            printstate = True\n",
    "                            if int(s[:i]) < 256 and int(s[i:i+j]) < 256 and int(s[i+j:i+j+k]) < 256 and int(s[i+j+k:i+j+k+l]) < 256:\n",
    "                                for ss in [s[:i],s[i:i+j],  s[i+j:i+j+k],s[i+j+k:i+j+k+l]]:\n",
    "                                    if ss[0] == '0' and len(ss)>1: \n",
    "                                        printstate = False\n",
    "                                if printstate == True:\n",
    "                                    count.append(s[:i] +'.'+ s[i:i+j] +'.'+ s[i+j:i+j+k] +'.'+ s[i+j+k:i+j+k+l])\n",
    "\n",
    "                                print(count)\n",
    "\n",
    "        return count\n",
    "            "
   ]
  },
  {
   "cell_type": "code",
   "execution_count": null,
   "metadata": {},
   "outputs": [],
   "source": [
    "from typing import List\n",
    "\n",
    "nums = \"25525511135\"\n",
    "solution = Solution()\n",
    "result = solution.restoreIpAddresses(nums)\n",
    "result"
   ]
  },
  {
   "cell_type": "markdown",
   "metadata": {},
   "source": [
    "## 2020-07-20 22:16 10. 正则表达式匹配\n",
    "给你一个字符串 s 和一个字符规律 p，请你来实现一个支持 '.' 和 '*' 的正则表达式匹配。\n",
    "\n",
    "'.' 匹配任意单个字符\n",
    "'*' 匹配零个或多个前面的那一个元素\n",
    "所谓匹配，是要涵盖 整个 字符串 s的，而不是部分字符串。\n",
    "\n",
    "说明:\n",
    "\n",
    "s 可能为空，且只包含从 a-z 的小写字母。\n",
    "p 可能为空，且只包含从 a-z 的小写字母，以及字符 . 和 *。\n",
    "```\n",
    "示例 1:\n",
    "\n",
    "输入:\n",
    "s = \"aa\"\n",
    "p = \"a\"\n",
    "输出: false\n",
    "解释: \"a\" 无法匹配 \"aa\" 整个字符串。\n",
    "示例 2:\n",
    "\n",
    "输入:\n",
    "s = \"aa\"\n",
    "p = \"a*\"\n",
    "输出: true\n",
    "解释: 因为 '*' 代表可以匹配零个或多个前面的那一个元素, 在这里前面的元素就是 'a'。因此，字符串 \"aa\" 可被视为 'a' 重复了一次。\n",
    "示例 3:\n",
    "\n",
    "输入:\n",
    "s = \"ab\"\n",
    "p = \".*\"\n",
    "输出: true\n",
    "解释: \".*\" 表示可匹配零个或多个（'*'）任意字符（'.'）。\n",
    "示例 4:\n",
    "\n",
    "输入:\n",
    "s = \"aab\"\n",
    "p = \"c*a*b\"\n",
    "输出: true\n",
    "解释: 因为 '*' 表示零个或多个，这里 'c' 为 0 个, 'a' 被重复一次。因此可以匹配字符串 \"aab\"。\n",
    "示例 5:\n",
    "\n",
    "输入:\n",
    "s = \"mississippi\"\n",
    "p = \"mis*is*p*.\"\n",
    "输出: false\n",
    "```"
   ]
  },
  {
   "cell_type": "code",
   "execution_count": null,
   "metadata": {},
   "outputs": [],
   "source": [
    "class Solution:\n",
    "    def isMatch(self, s: str, p: str) -> bool:\n",
    "        def Iter(s,p):\n",
    "            if  s == [] and p == []:\n",
    "                return True\n",
    "\n",
    "            if (s[0] == p[0] or p[0] == '.') and p[1] != '*':\n",
    "                s.pop(0)\n",
    "                p.pop(0)\n",
    "            if len(p) > 1:\n",
    "                if p[0] == '.' and p[1] == '*':\n",
    "                    p.pop(0)\n",
    "                    p.pop(0)\n",
    "                    for _ in range(len(s)):\n",
    "                        Iter(s,p)\n",
    "                        s.pop(0)\n",
    "                if p[1] == '*':\n",
    "                    findstr = p[0]\n",
    "                    p.pop(0)\n",
    "                    p.pop(0)\n",
    "                    while len(s) != 0 and s[0] == findstr:\n",
    "                        Iter(s,p)\n",
    "                        s.pop(0)\n",
    "        s = list(s)\n",
    "        p = list(p)\n",
    "        while not (s == [] and p == []):\n",
    "            Iter(s,p)\n",
    "        return False\n",
    "                    \n",
    "                    \n",
    "                    \n",
    "                \n",
    "                \n",
    "                \n",
    "                "
   ]
  },
  {
   "cell_type": "code",
   "execution_count": null,
   "metadata": {},
   "outputs": [],
   "source": [
    "from typing import List\n",
    "\n",
    "s = \"aab\"\n",
    "p = \"aab\"\n",
    "solution = Solution()\n",
    "result = solution.isMatch(s,p)\n",
    "result"
   ]
  },
  {
   "cell_type": "markdown",
   "metadata": {},
   "source": [
    "## 2020-07-20 20:15 102. 二叉树的层序遍历\n",
    "给你一个二叉树，请你返回其按 层序遍历 得到的节点值。 （即逐层地，从左到右访问所有节点）。\n",
    "\n",
    " \n",
    "\n",
    "```\n",
    "示例：\n",
    "二叉树：[3,9,20,null,null,15,7],\n",
    "\n",
    "    3\n",
    "   / \\\n",
    "  9  20\n",
    "    /  \\\n",
    "   15   7\n",
    "返回其层次遍历结果：\n",
    "\n",
    "[\n",
    "  [3],\n",
    "  [9,20],\n",
    "  [15,7]\n",
    "]\n",
    "```"
   ]
  },
  {
   "cell_type": "code",
   "execution_count": null,
   "metadata": {},
   "outputs": [],
   "source": [
    "# Definition for a binary tree node.\n",
    "# class TreeNode:\n",
    "#     def __init__(self, x):\n",
    "#         self.val = x\n",
    "#         self.left = None\n",
    "#         self.right = None\n",
    "\n",
    "class Solution:\n",
    "    def levelOrder(self, root: TreeNode) -> List[List[int]]:"
   ]
  },
  {
   "cell_type": "code",
   "execution_count": null,
   "metadata": {},
   "outputs": [],
   "source": []
  },
  {
   "cell_type": "code",
   "execution_count": null,
   "metadata": {},
   "outputs": [],
   "source": [
    "p = [0,1]\n",
    "p.pop(0,1)"
   ]
  },
  {
   "cell_type": "markdown",
   "metadata": {},
   "source": [
    "## √ 2020-07-20 23:16 9. 回文数\n",
    "判断一个整数是否是回文数。回文数是指正序（从左向右）和倒序（从右向左）读都是一样的整数。\n",
    "\n",
    "```\n",
    "示例 1:\n",
    "\n",
    "输入: 121\n",
    "输出: true\n",
    "示例 2:\n",
    "\n",
    "输入: -121\n",
    "输出: false\n",
    "解释: 从左向右读, 为 -121 。 从右向左读, 为 121- 。因此它不是一个回文数。\n",
    "示例 3:\n",
    "\n",
    "输入: 10\n",
    "输出: false\n",
    "解释: 从右向左读, 为 01 。因此它不是一个回文数。\n",
    "进阶:\n",
    "\n",
    "你能不将整数转为字符串来解决这个问题吗？\n",
    "```"
   ]
  },
  {
   "cell_type": "code",
   "execution_count": null,
   "metadata": {},
   "outputs": [],
   "source": [
    "# 法1：自己写的 效率低\n",
    "class Solution:\n",
    "    def isPalindrome(self, num: int) -> bool:\n",
    "        if num<0: return False\n",
    "        c=0\n",
    "        x = num\n",
    "        while x != 0:\n",
    "            x = x // 10\n",
    "            c += 1\n",
    "        print(c)\n",
    "        num1 = num2 =num\n",
    "        for i in range(c // 2):\n",
    "            a = num1 % 10\n",
    "            num1 = num1 //10\n",
    "            \n",
    "            b = num2 // 10**(c-1) % 10\n",
    "            num2 = num2 * 10\n",
    "            \n",
    "            print(a, b)\n",
    "            print(num1, num2)\n",
    "            if  a != b: \n",
    "                return False\n",
    "        return True\n",
    "    \n",
    "            "
   ]
  },
  {
   "cell_type": "code",
   "execution_count": null,
   "metadata": {},
   "outputs": [],
   "source": [
    "from typing import List\n",
    "\n",
    "nums = 11\n",
    "solution = Solution()\n",
    "result = solution.isPalindrome(nums)\n",
    "result\n"
   ]
  },
  {
   "cell_type": "markdown",
   "metadata": {},
   "source": [
    "### int 整数翻转标准操作"
   ]
  },
  {
   "cell_type": "code",
   "execution_count": null,
   "metadata": {},
   "outputs": [],
   "source": [
    "# 法2：\n",
    "class Solution:\n",
    "    def isPalindrome(self, x: int) -> bool:\n",
    "        if (x < 0 or (x % 10 == 0 and x != 0)) :\n",
    "            return False\n",
    "        revertedNumber = 0\n",
    "        while(x> revertedNumber):\n",
    "            revertedNumber = revertedNumber * 10 + x % 10  # int 数字翻转操作\n",
    "            x = x // 10\n",
    "            print(revertedNumber, x)\n",
    "        return x == revertedNumber or x == revertedNumber //10"
   ]
  },
  {
   "cell_type": "code",
   "execution_count": null,
   "metadata": {},
   "outputs": [],
   "source": [
    "from typing import List\n",
    "\n",
    "nums = 113311\n",
    "solution = Solution()\n",
    "result = solution.isPalindrome(nums)\n",
    "result\n"
   ]
  },
  {
   "cell_type": "code",
   "execution_count": null,
   "metadata": {},
   "outputs": [],
   "source": [
    "s = \"12\"\n",
    "s[:: -1]\n",
    "int(s[1:])>0"
   ]
  },
  {
   "cell_type": "code",
   "execution_count": null,
   "metadata": {},
   "outputs": [],
   "source": []
  },
  {
   "cell_type": "code",
   "execution_count": null,
   "metadata": {},
   "outputs": [],
   "source": []
  }
 ],
 "metadata": {
  "hide_input": false,
  "kernelspec": {
   "display_name": "Python 3",
   "language": "python",
   "name": "python3"
  },
  "language_info": {
   "codemirror_mode": {
    "name": "ipython",
    "version": 3
   },
   "file_extension": ".py",
   "mimetype": "text/x-python",
   "name": "python",
   "nbconvert_exporter": "python",
   "pygments_lexer": "ipython3",
   "version": "3.7.6"
  },
  "toc": {
   "base_numbering": 1,
   "nav_menu": {
    "height": "370.996px",
    "width": "366.992px"
   },
   "number_sections": true,
   "sideBar": true,
   "skip_h1_title": false,
   "title_cell": "Table of Contents",
   "title_sidebar": "Contents",
   "toc_cell": false,
   "toc_position": {
    "height": "1173px",
    "left": "22.6875px",
    "top": "139.992px",
    "width": "303.266px"
   },
   "toc_section_display": true,
   "toc_window_display": true
  },
  "varInspector": {
   "cols": {
    "lenName": 16,
    "lenType": 16,
    "lenVar": 40
   },
   "kernels_config": {
    "python": {
     "delete_cmd_postfix": "",
     "delete_cmd_prefix": "del ",
     "library": "var_list.py",
     "varRefreshCmd": "print(var_dic_list())"
    },
    "r": {
     "delete_cmd_postfix": ") ",
     "delete_cmd_prefix": "rm(",
     "library": "var_list.r",
     "varRefreshCmd": "cat(var_dic_list()) "
    }
   },
   "oldHeight": 395,
   "position": {
    "height": "417px",
    "left": "1553px",
    "right": "20px",
    "top": "111px",
    "width": "299px"
   },
   "types_to_exclude": [
    "module",
    "function",
    "builtin_function_or_method",
    "instance",
    "_Feature"
   ],
   "varInspector_section_display": "block",
   "window_display": false
  }
 },
 "nbformat": 4,
 "nbformat_minor": 4
}
