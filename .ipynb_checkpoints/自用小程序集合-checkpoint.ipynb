{
 "cells": [
  {
   "cell_type": "markdown",
   "metadata": {},
   "source": [
    "# 文件操作 "
   ]
  },
  {
   "cell_type": "markdown",
   "metadata": {},
   "source": [
    "## 使用正则表达式输出规则化文件"
   ]
  },
  {
   "cell_type": "code",
   "execution_count": 16,
   "metadata": {},
   "outputs": [],
   "source": [
    "import pandas as pd"
   ]
  },
  {
   "cell_type": "code",
   "execution_count": 25,
   "metadata": {},
   "outputs": [
    {
     "name": "stdout",
     "output_type": "stream",
     "text": [
      "/Volumes/windows/pythonstudy/BestProj/MyJupyter\r\n"
     ]
    }
   ],
   "source": [
    "!pwd"
   ]
  },
  {
   "cell_type": "code",
   "execution_count": 147,
   "metadata": {},
   "outputs": [
    {
     "data": {
      "text/html": [
       "<div>\n",
       "<style scoped>\n",
       "    .dataframe tbody tr th:only-of-type {\n",
       "        vertical-align: middle;\n",
       "    }\n",
       "\n",
       "    .dataframe tbody tr th {\n",
       "        vertical-align: top;\n",
       "    }\n",
       "\n",
       "    .dataframe thead th {\n",
       "        text-align: right;\n",
       "    }\n",
       "</style>\n",
       "<table border=\"1\" class=\"dataframe\">\n",
       "  <thead>\n",
       "    <tr style=\"text-align: right;\">\n",
       "      <th></th>\n",
       "      <th>ID</th>\n",
       "      <th>NAME</th>\n",
       "    </tr>\n",
       "  </thead>\n",
       "  <tbody>\n",
       "    <tr>\n",
       "      <td>0</td>\n",
       "      <td>19000300079</td>\n",
       "      <td>于子川</td>\n",
       "    </tr>\n",
       "    <tr>\n",
       "      <td>1</td>\n",
       "      <td>19000300084</td>\n",
       "      <td>李飞锐</td>\n",
       "    </tr>\n",
       "    <tr>\n",
       "      <td>2</td>\n",
       "      <td>19000300087</td>\n",
       "      <td>袁浩</td>\n",
       "    </tr>\n",
       "    <tr>\n",
       "      <td>3</td>\n",
       "      <td>19000300089</td>\n",
       "      <td>崔宋祚</td>\n",
       "    </tr>\n",
       "    <tr>\n",
       "      <td>4</td>\n",
       "      <td>19000300090</td>\n",
       "      <td>唐陆瑶</td>\n",
       "    </tr>\n",
       "    <tr>\n",
       "      <td>...</td>\n",
       "      <td>...</td>\n",
       "      <td>...</td>\n",
       "    </tr>\n",
       "    <tr>\n",
       "      <td>62</td>\n",
       "      <td>19171213870</td>\n",
       "      <td>董志东</td>\n",
       "    </tr>\n",
       "    <tr>\n",
       "      <td>63</td>\n",
       "      <td>19171213888</td>\n",
       "      <td>党敏</td>\n",
       "    </tr>\n",
       "    <tr>\n",
       "      <td>64</td>\n",
       "      <td>19171213889</td>\n",
       "      <td>张祖磊</td>\n",
       "    </tr>\n",
       "    <tr>\n",
       "      <td>65</td>\n",
       "      <td>19171213894</td>\n",
       "      <td>张迅华</td>\n",
       "    </tr>\n",
       "    <tr>\n",
       "      <td>66</td>\n",
       "      <td>18021211021</td>\n",
       "      <td>周沛</td>\n",
       "    </tr>\n",
       "  </tbody>\n",
       "</table>\n",
       "<p>67 rows × 2 columns</p>\n",
       "</div>"
      ],
      "text/plain": [
       "             ID NAME\n",
       "0   19000300079  于子川\n",
       "1   19000300084  李飞锐\n",
       "2   19000300087   袁浩\n",
       "3   19000300089  崔宋祚\n",
       "4   19000300090  唐陆瑶\n",
       "..          ...  ...\n",
       "62  19171213870  董志东\n",
       "63  19171213888   党敏\n",
       "64  19171213889  张祖磊\n",
       "65  19171213894  张迅华\n",
       "66  18021211021   周沛\n",
       "\n",
       "[67 rows x 2 columns]"
      ]
     },
     "execution_count": 147,
     "metadata": {},
     "output_type": "execute_result"
    }
   ],
   "source": [
    "stu_list = pd.read_csv('datasets/myfile/CI_students_list.csv', names=['ID','NAME'])  \n",
    "stu_list"
   ]
  },
  {
   "cell_type": "code",
   "execution_count": 108,
   "metadata": {},
   "outputs": [
    {
     "data": {
      "text/plain": [
       "'6崔宋祚，李建佳，袁浩，唐陆瑶，李飞锐，李同\\n\\n6\\n周旭峰19021211221\\n赵志明19021211146\\n王东旭19021211210\\n李俊19021211337\\n翟文卓  19011210529\\n武川杰 19011210495\\n\\n5于正洋,冯伟,陈大帆,郝泽华,邱子良\\n\\n5\\n刘杭成 19171213807\\n赵逸群 19171213772\\n廖占    19011210342\\n单鼎丞 19171213864\\n马轲     19171213854\\n\\n5郑亚楠,蔡晨溪,朱映雪,李胜男,柳一洋\\n\\n6孙庆虎,董志东,雷东昌,鲁飞鸿,李康\\n\\n5路凯,马兰,张祖磊,黎兰慧,惠子津\\n\\n5\\n19021211329田彪\\n19171213843钱若浩\\n19171213888 党敏\\n19171213847陈世宇\\n19021211290张宇璇\\n\\n6\\n19011210421 崔双栋\\n19011210445 钱瑞\\n19011210516 熊雷\\n19011210539 颜凌云\\n19011210569  杨汉雄\\n19131213327 许宁舟\\n\\n5\\n19171213764\\t蒋小明\\n19171213865\\t杨攀泉\\n19171213765\\t李珺\\n19171213894\\t张迅华\\n19171213868\\t李林昊\\n\\n'"
      ]
     },
     "execution_count": 108,
     "metadata": {},
     "output_type": "execute_result"
    }
   ],
   "source": [
    "text = \"\"\"6崔宋祚，李建佳，袁浩，唐陆瑶，李飞锐，李同\n",
    "\n",
    "6\n",
    "周旭峰19021211221\n",
    "赵志明19021211146\n",
    "王东旭19021211210\n",
    "李俊19021211337\n",
    "翟文卓  19011210529\n",
    "武川杰 19011210495\n",
    "\n",
    "5于正洋,冯伟,陈大帆,郝泽华,邱子良\n",
    "\n",
    "5\n",
    "刘杭成 19171213807\n",
    "赵逸群 19171213772\n",
    "廖占    19011210342\n",
    "单鼎丞 19171213864\n",
    "马轲     19171213854\n",
    "\n",
    "5郑亚楠,蔡晨溪,朱映雪,李胜男,柳一洋\n",
    "\n",
    "6孙庆虎,董志东,雷东昌,鲁飞鸿,李康\n",
    "\n",
    "5路凯,马兰,张祖磊,黎兰慧,惠子津\n",
    "\n",
    "5\n",
    "19021211329田彪\n",
    "19171213843钱若浩\n",
    "19171213888 党敏\n",
    "19171213847陈世宇\n",
    "19021211290张宇璇\n",
    "\n",
    "6\n",
    "19011210421 崔双栋\n",
    "19011210445 钱瑞\n",
    "19011210516 熊雷\n",
    "19011210539 颜凌云\n",
    "19011210569  杨汉雄\n",
    "19131213327 许宁舟\n",
    "\n",
    "5\n",
    "19171213764\t蒋小明\n",
    "19171213865\t杨攀泉\n",
    "19171213765\t李珺\n",
    "19171213894\t张迅华\n",
    "19171213868\t李林昊\n",
    "\n",
    "\"\"\"\n",
    "text"
   ]
  },
  {
   "cell_type": "code",
   "execution_count": 109,
   "metadata": {},
   "outputs": [],
   "source": [
    "import re"
   ]
  },
  {
   "cell_type": "code",
   "execution_count": 110,
   "metadata": {},
   "outputs": [
    {
     "data": {
      "text/plain": [
       "'崔宋祚，李建佳，袁浩，唐陆瑶，李飞锐，李同\\n\\n\\n周旭峰\\n赵志明\\n王东旭\\n李俊\\n翟文卓\\n武川杰\\n\\n于正洋,冯伟,陈大帆,郝泽华,邱子良\\n\\n\\n刘杭成\\n赵逸群\\n廖占\\n单鼎丞\\n马轲\\n\\n郑亚楠,蔡晨溪,朱映雪,李胜男,柳一洋\\n\\n孙庆虎,董志东,雷东昌,鲁飞鸿,李康\\n\\n路凯,马兰,张祖磊,黎兰慧,惠子津\\n\\n\\n田彪\\n钱若浩\\n党敏\\n陈世宇\\n张宇璇\\n\\n\\n崔双栋\\n钱瑞\\n熊雷\\n颜凌云\\n杨汉雄\\n许宁舟\\n\\n\\n蒋小明\\n杨攀泉\\n李珺\\n张迅华\\n李林昊\\n\\n'"
      ]
     },
     "execution_count": 110,
     "metadata": {},
     "output_type": "execute_result"
    }
   ],
   "source": [
    "pattern = r'[0-9\\t ]' # 加上r'[]'可以写一个以上, 去掉0-9,/t,空格\n",
    "text_del_num = re.sub(pattern, '', text) \n",
    "text_del_num"
   ]
  },
  {
   "cell_type": "code",
   "execution_count": 120,
   "metadata": {},
   "outputs": [
    {
     "data": {
      "text/plain": [
       "'崔宋祚\\n李建佳\\n袁浩\\n唐陆瑶\\n李飞锐\\n李同\\n\\n\\n周旭峰\\n赵志明\\n王东旭\\n李俊\\n翟文卓\\n武川杰\\n\\n于正洋\\n冯伟\\n陈大帆\\n郝泽华\\n邱子良\\n\\n\\n刘杭成\\n赵逸群\\n廖占\\n单鼎丞\\n马轲\\n\\n郑亚楠\\n蔡晨溪\\n朱映雪\\n李胜男\\n柳一洋\\n\\n孙庆虎\\n董志东\\n雷东昌\\n鲁飞鸿\\n李康\\n\\n路凯\\n马兰\\n张祖磊\\n黎兰慧\\n惠子津\\n\\n\\n田彪\\n钱若浩\\n党敏\\n陈世宇\\n张宇璇\\n\\n\\n崔双栋\\n钱瑞\\n熊雷\\n颜凌云\\n杨汉雄\\n许宁舟\\n\\n\\n蒋小明\\n杨攀泉\\n李珺\\n张迅华\\n李林昊\\n\\n'"
      ]
     },
     "execution_count": 120,
     "metadata": {},
     "output_type": "execute_result"
    }
   ],
   "source": [
    "text_del_num_comma = re.sub('[，,]', '\\n', text_del_num)\n",
    "text_del_num_comma"
   ]
  },
  {
   "cell_type": "code",
   "execution_count": 137,
   "metadata": {},
   "outputs": [
    {
     "data": {
      "text/plain": [
       "'崔宋祚\\n李建佳\\n袁浩\\n唐陆瑶\\n李飞锐\\n李同\\n\\n周旭峰\\n赵志明\\n王东旭\\n李俊\\n翟文卓\\n武川杰\\n\\n于正洋\\n冯伟\\n陈大帆\\n郝泽华\\n邱子良\\n\\n刘杭成\\n赵逸群\\n廖占\\n单鼎丞\\n马轲\\n\\n郑亚楠\\n蔡晨溪\\n朱映雪\\n李胜男\\n柳一洋\\n\\n孙庆虎\\n董志东\\n雷东昌\\n鲁飞鸿\\n李康\\n\\n路凯\\n马兰\\n张祖磊\\n黎兰慧\\n惠子津\\n\\n田彪\\n钱若浩\\n党敏\\n陈世宇\\n张宇璇\\n\\n崔双栋\\n钱瑞\\n熊雷\\n颜凌云\\n杨汉雄\\n许宁舟\\n\\n蒋小明\\n杨攀泉\\n李珺\\n张迅华\\n李林昊\\n\\n'"
      ]
     },
     "execution_count": 137,
     "metadata": {},
     "output_type": "execute_result"
    }
   ],
   "source": [
    "text_replace2 = re.sub('\\n\\n\\n', '\\n\\n', text_del_num_comma)\n",
    "text_replace2"
   ]
  },
  {
   "cell_type": "code",
   "execution_count": 162,
   "metadata": {},
   "outputs": [
    {
     "name": "stdout",
     "output_type": "stream",
     "text": [
      "崔宋祚\n",
      "李建佳\n",
      "袁浩\n",
      "唐陆瑶\n",
      "李飞锐\n",
      "李同\n",
      "\n",
      "周旭峰\n",
      "赵志明\n",
      "王东旭\n",
      "李俊\n",
      "翟文卓\n",
      "武川杰\n",
      "\n",
      "于正洋\n",
      "冯伟\n",
      "陈大帆\n",
      "郝泽华\n",
      "邱子良\n",
      "\n",
      "刘杭成\n",
      "赵逸群\n",
      "廖占\n",
      "单鼎丞\n",
      "马轲\n",
      "\n",
      "郑亚楠\n",
      "蔡晨溪\n",
      "朱映雪\n",
      "李胜男\n",
      "柳一洋\n",
      "\n",
      "孙庆虎\n",
      "董志东\n",
      "雷东昌\n",
      "鲁飞鸿\n",
      "李康\n",
      "\n",
      "路凯\n",
      "马兰\n",
      "张祖磊\n",
      "黎兰慧\n",
      "惠子津\n",
      "\n",
      "田彪\n",
      "钱若浩\n",
      "党敏\n",
      "陈世宇\n",
      "张宇璇\n",
      "\n",
      "崔双栋\n",
      "钱瑞\n",
      "熊雷\n",
      "颜凌云\n",
      "杨汉雄\n",
      "许宁舟\n",
      "\n",
      "蒋小明\n",
      "杨攀泉\n",
      "李珺\n",
      "张迅华\n",
      "李林昊\n",
      "\n",
      "\n"
     ]
    }
   ],
   "source": [
    "print(text_replace2)"
   ]
  },
  {
   "cell_type": "code",
   "execution_count": 160,
   "metadata": {},
   "outputs": [
    {
     "name": "stdout",
     "output_type": "stream",
     "text": [
      "崔宋祚\t李建佳\t袁浩\t唐陆瑶\t李飞锐\t李同\n",
      "周旭峰\t赵志明\t王东旭\t李俊\t翟文卓\t武川杰\n",
      "于正洋\t冯伟\t陈大帆\t郝泽华\t邱子良\n",
      "刘杭成\t赵逸群\t廖占\t单鼎丞\t马轲\n",
      "郑亚楠\t蔡晨溪\t朱映雪\t李胜男\t柳一洋\n",
      "孙庆虎\t董志东\t雷东昌\t鲁飞鸿\t李康\n",
      "路凯\t马兰\t张祖磊\t黎兰慧\t惠子津\n",
      "田彪\t钱若浩\t党敏\t陈世宇\t张宇璇\n",
      "崔双栋\t钱瑞\t熊雷\t颜凌云\t杨汉雄\t许宁舟\n",
      "蒋小明\t杨攀泉\t李珺\t张迅华\t李林昊\n",
      "\n"
     ]
    }
   ],
   "source": [
    "text_replace3 = re.sub('\\n', '\\t', text_replace2)\n",
    "text_replace3 = re.sub('\\t\\t', '\\n', text_replace3)\n",
    "print(text_replace3)  # 可直接复制为文本格式然后再放入Excel即可"
   ]
  },
  {
   "cell_type": "code",
   "execution_count": 158,
   "metadata": {},
   "outputs": [],
   "source": [
    "f=open(r\"datasets/myfile/test.csv\",'w')\n",
    "f.write(text_replace3)\n",
    "f.close()"
   ]
  },
  {
   "cell_type": "code",
   "execution_count": null,
   "metadata": {},
   "outputs": [],
   "source": []
  }
 ],
 "metadata": {
  "hide_input": false,
  "kernelspec": {
   "display_name": "Python 3",
   "language": "python",
   "name": "python3"
  },
  "language_info": {
   "codemirror_mode": {
    "name": "ipython",
    "version": 3
   },
   "file_extension": ".py",
   "mimetype": "text/x-python",
   "name": "python",
   "nbconvert_exporter": "python",
   "pygments_lexer": "ipython3",
   "version": "3.7.4"
  },
  "toc": {
   "base_numbering": 1,
   "nav_menu": {},
   "number_sections": true,
   "sideBar": true,
   "skip_h1_title": false,
   "title_cell": "Table of Contents",
   "title_sidebar": "Contents",
   "toc_cell": false,
   "toc_position": {},
   "toc_section_display": true,
   "toc_window_display": false
  },
  "varInspector": {
   "cols": {
    "lenName": 16,
    "lenType": 16,
    "lenVar": 40
   },
   "kernels_config": {
    "python": {
     "delete_cmd_postfix": "",
     "delete_cmd_prefix": "del ",
     "library": "var_list.py",
     "varRefreshCmd": "print(var_dic_list())"
    },
    "r": {
     "delete_cmd_postfix": ") ",
     "delete_cmd_prefix": "rm(",
     "library": "var_list.r",
     "varRefreshCmd": "cat(var_dic_list()) "
    }
   },
   "types_to_exclude": [
    "module",
    "function",
    "builtin_function_or_method",
    "instance",
    "_Feature"
   ],
   "window_display": false
  }
 },
 "nbformat": 4,
 "nbformat_minor": 2
}
