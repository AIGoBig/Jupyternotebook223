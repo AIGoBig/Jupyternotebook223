{
 "cells": [
  {
   "cell_type": "markdown",
   "metadata": {},
   "source": [
    "# 文本操作 "
   ]
  },
  {
   "cell_type": "markdown",
   "metadata": {},
   "source": [
    "## 使用正则表达式输出规则化文件"
   ]
  },
  {
   "cell_type": "code",
   "execution_count": 16,
   "metadata": {},
   "outputs": [],
   "source": [
    "import pandas as pd"
   ]
  },
  {
   "cell_type": "code",
   "execution_count": 25,
   "metadata": {},
   "outputs": [
    {
     "name": "stdout",
     "output_type": "stream",
     "text": [
      "/Volumes/windows/pythonstudy/BestProj/MyJupyter\r\n"
     ]
    }
   ],
   "source": [
    "!pwd"
   ]
  },
  {
   "cell_type": "code",
   "execution_count": 147,
   "metadata": {},
   "outputs": [
    {
     "data": {
      "text/html": [
       "<div>\n",
       "<style scoped>\n",
       "    .dataframe tbody tr th:only-of-type {\n",
       "        vertical-align: middle;\n",
       "    }\n",
       "\n",
       "    .dataframe tbody tr th {\n",
       "        vertical-align: top;\n",
       "    }\n",
       "\n",
       "    .dataframe thead th {\n",
       "        text-align: right;\n",
       "    }\n",
       "</style>\n",
       "<table border=\"1\" class=\"dataframe\">\n",
       "  <thead>\n",
       "    <tr style=\"text-align: right;\">\n",
       "      <th></th>\n",
       "      <th>ID</th>\n",
       "      <th>NAME</th>\n",
       "    </tr>\n",
       "  </thead>\n",
       "  <tbody>\n",
       "    <tr>\n",
       "      <td>0</td>\n",
       "      <td>19000300079</td>\n",
       "      <td>于子川</td>\n",
       "    </tr>\n",
       "    <tr>\n",
       "      <td>1</td>\n",
       "      <td>19000300084</td>\n",
       "      <td>李飞锐</td>\n",
       "    </tr>\n",
       "    <tr>\n",
       "      <td>2</td>\n",
       "      <td>19000300087</td>\n",
       "      <td>袁浩</td>\n",
       "    </tr>\n",
       "    <tr>\n",
       "      <td>3</td>\n",
       "      <td>19000300089</td>\n",
       "      <td>崔宋祚</td>\n",
       "    </tr>\n",
       "    <tr>\n",
       "      <td>4</td>\n",
       "      <td>19000300090</td>\n",
       "      <td>唐陆瑶</td>\n",
       "    </tr>\n",
       "    <tr>\n",
       "      <td>...</td>\n",
       "      <td>...</td>\n",
       "      <td>...</td>\n",
       "    </tr>\n",
       "    <tr>\n",
       "      <td>62</td>\n",
       "      <td>19171213870</td>\n",
       "      <td>董志东</td>\n",
       "    </tr>\n",
       "    <tr>\n",
       "      <td>63</td>\n",
       "      <td>19171213888</td>\n",
       "      <td>党敏</td>\n",
       "    </tr>\n",
       "    <tr>\n",
       "      <td>64</td>\n",
       "      <td>19171213889</td>\n",
       "      <td>张祖磊</td>\n",
       "    </tr>\n",
       "    <tr>\n",
       "      <td>65</td>\n",
       "      <td>19171213894</td>\n",
       "      <td>张迅华</td>\n",
       "    </tr>\n",
       "    <tr>\n",
       "      <td>66</td>\n",
       "      <td>18021211021</td>\n",
       "      <td>周沛</td>\n",
       "    </tr>\n",
       "  </tbody>\n",
       "</table>\n",
       "<p>67 rows × 2 columns</p>\n",
       "</div>"
      ],
      "text/plain": [
       "             ID NAME\n",
       "0   19000300079  于子川\n",
       "1   19000300084  李飞锐\n",
       "2   19000300087   袁浩\n",
       "3   19000300089  崔宋祚\n",
       "4   19000300090  唐陆瑶\n",
       "..          ...  ...\n",
       "62  19171213870  董志东\n",
       "63  19171213888   党敏\n",
       "64  19171213889  张祖磊\n",
       "65  19171213894  张迅华\n",
       "66  18021211021   周沛\n",
       "\n",
       "[67 rows x 2 columns]"
      ]
     },
     "execution_count": 147,
     "metadata": {},
     "output_type": "execute_result"
    }
   ],
   "source": [
    "stu_list = pd.read_csv('datasets/myfile/CI_students_list.csv', names=['ID','NAME'])  \n",
    "stu_list"
   ]
  },
  {
   "cell_type": "code",
   "execution_count": 108,
   "metadata": {},
   "outputs": [
    {
     "data": {
      "text/plain": [
       "'6崔宋祚，李建佳，袁浩，唐陆瑶，李飞锐，李同\\n\\n6\\n周旭峰19021211221\\n赵志明19021211146\\n王东旭19021211210\\n李俊19021211337\\n翟文卓  19011210529\\n武川杰 19011210495\\n\\n5于正洋,冯伟,陈大帆,郝泽华,邱子良\\n\\n5\\n刘杭成 19171213807\\n赵逸群 19171213772\\n廖占    19011210342\\n单鼎丞 19171213864\\n马轲     19171213854\\n\\n5郑亚楠,蔡晨溪,朱映雪,李胜男,柳一洋\\n\\n6孙庆虎,董志东,雷东昌,鲁飞鸿,李康\\n\\n5路凯,马兰,张祖磊,黎兰慧,惠子津\\n\\n5\\n19021211329田彪\\n19171213843钱若浩\\n19171213888 党敏\\n19171213847陈世宇\\n19021211290张宇璇\\n\\n6\\n19011210421 崔双栋\\n19011210445 钱瑞\\n19011210516 熊雷\\n19011210539 颜凌云\\n19011210569  杨汉雄\\n19131213327 许宁舟\\n\\n5\\n19171213764\\t蒋小明\\n19171213865\\t杨攀泉\\n19171213765\\t李珺\\n19171213894\\t张迅华\\n19171213868\\t李林昊\\n\\n'"
      ]
     },
     "execution_count": 108,
     "metadata": {},
     "output_type": "execute_result"
    }
   ],
   "source": [
    "text = \"\"\"6崔宋祚，李建佳，袁浩，唐陆瑶，李飞锐，李同\n",
    "\n",
    "6\n",
    "周旭峰19021211221\n",
    "赵志明19021211146\n",
    "王东旭19021211210\n",
    "李俊19021211337\n",
    "翟文卓  19011210529\n",
    "武川杰 19011210495\n",
    "\n",
    "5于正洋,冯伟,陈大帆,郝泽华,邱子良\n",
    "\n",
    "5\n",
    "刘杭成 19171213807\n",
    "赵逸群 19171213772\n",
    "廖占    19011210342\n",
    "单鼎丞 19171213864\n",
    "马轲     19171213854\n",
    "\n",
    "5郑亚楠,蔡晨溪,朱映雪,李胜男,柳一洋\n",
    "\n",
    "6孙庆虎,董志东,雷东昌,鲁飞鸿,李康\n",
    "\n",
    "5路凯,马兰,张祖磊,黎兰慧,惠子津\n",
    "\n",
    "5\n",
    "19021211329田彪\n",
    "19171213843钱若浩\n",
    "19171213888 党敏\n",
    "19171213847陈世宇\n",
    "19021211290张宇璇\n",
    "\n",
    "6\n",
    "19011210421 崔双栋\n",
    "19011210445 钱瑞\n",
    "19011210516 熊雷\n",
    "19011210539 颜凌云\n",
    "19011210569  杨汉雄\n",
    "19131213327 许宁舟\n",
    "\n",
    "5\n",
    "19171213764\t蒋小明\n",
    "19171213865\t杨攀泉\n",
    "19171213765\t李珺\n",
    "19171213894\t张迅华\n",
    "19171213868\t李林昊\n",
    "\n",
    "\"\"\"\n",
    "text"
   ]
  },
  {
   "cell_type": "code",
   "execution_count": 109,
   "metadata": {},
   "outputs": [],
   "source": [
    "import re"
   ]
  },
  {
   "cell_type": "code",
   "execution_count": 110,
   "metadata": {},
   "outputs": [
    {
     "data": {
      "text/plain": [
       "'崔宋祚，李建佳，袁浩，唐陆瑶，李飞锐，李同\\n\\n\\n周旭峰\\n赵志明\\n王东旭\\n李俊\\n翟文卓\\n武川杰\\n\\n于正洋,冯伟,陈大帆,郝泽华,邱子良\\n\\n\\n刘杭成\\n赵逸群\\n廖占\\n单鼎丞\\n马轲\\n\\n郑亚楠,蔡晨溪,朱映雪,李胜男,柳一洋\\n\\n孙庆虎,董志东,雷东昌,鲁飞鸿,李康\\n\\n路凯,马兰,张祖磊,黎兰慧,惠子津\\n\\n\\n田彪\\n钱若浩\\n党敏\\n陈世宇\\n张宇璇\\n\\n\\n崔双栋\\n钱瑞\\n熊雷\\n颜凌云\\n杨汉雄\\n许宁舟\\n\\n\\n蒋小明\\n杨攀泉\\n李珺\\n张迅华\\n李林昊\\n\\n'"
      ]
     },
     "execution_count": 110,
     "metadata": {},
     "output_type": "execute_result"
    }
   ],
   "source": [
    "pattern = r'[0-9\\t ]' # 加上r'[]'可以写一个以上, 去掉0-9,/t,空格\n",
    "text_del_num = re.sub(pattern, '', text) \n",
    "text_del_num"
   ]
  },
  {
   "cell_type": "code",
   "execution_count": 120,
   "metadata": {},
   "outputs": [
    {
     "data": {
      "text/plain": [
       "'崔宋祚\\n李建佳\\n袁浩\\n唐陆瑶\\n李飞锐\\n李同\\n\\n\\n周旭峰\\n赵志明\\n王东旭\\n李俊\\n翟文卓\\n武川杰\\n\\n于正洋\\n冯伟\\n陈大帆\\n郝泽华\\n邱子良\\n\\n\\n刘杭成\\n赵逸群\\n廖占\\n单鼎丞\\n马轲\\n\\n郑亚楠\\n蔡晨溪\\n朱映雪\\n李胜男\\n柳一洋\\n\\n孙庆虎\\n董志东\\n雷东昌\\n鲁飞鸿\\n李康\\n\\n路凯\\n马兰\\n张祖磊\\n黎兰慧\\n惠子津\\n\\n\\n田彪\\n钱若浩\\n党敏\\n陈世宇\\n张宇璇\\n\\n\\n崔双栋\\n钱瑞\\n熊雷\\n颜凌云\\n杨汉雄\\n许宁舟\\n\\n\\n蒋小明\\n杨攀泉\\n李珺\\n张迅华\\n李林昊\\n\\n'"
      ]
     },
     "execution_count": 120,
     "metadata": {},
     "output_type": "execute_result"
    }
   ],
   "source": [
    "text_del_num_comma = re.sub('[，,]', '\\n', text_del_num)\n",
    "text_del_num_comma"
   ]
  },
  {
   "cell_type": "code",
   "execution_count": 137,
   "metadata": {},
   "outputs": [
    {
     "data": {
      "text/plain": [
       "'崔宋祚\\n李建佳\\n袁浩\\n唐陆瑶\\n李飞锐\\n李同\\n\\n周旭峰\\n赵志明\\n王东旭\\n李俊\\n翟文卓\\n武川杰\\n\\n于正洋\\n冯伟\\n陈大帆\\n郝泽华\\n邱子良\\n\\n刘杭成\\n赵逸群\\n廖占\\n单鼎丞\\n马轲\\n\\n郑亚楠\\n蔡晨溪\\n朱映雪\\n李胜男\\n柳一洋\\n\\n孙庆虎\\n董志东\\n雷东昌\\n鲁飞鸿\\n李康\\n\\n路凯\\n马兰\\n张祖磊\\n黎兰慧\\n惠子津\\n\\n田彪\\n钱若浩\\n党敏\\n陈世宇\\n张宇璇\\n\\n崔双栋\\n钱瑞\\n熊雷\\n颜凌云\\n杨汉雄\\n许宁舟\\n\\n蒋小明\\n杨攀泉\\n李珺\\n张迅华\\n李林昊\\n\\n'"
      ]
     },
     "execution_count": 137,
     "metadata": {},
     "output_type": "execute_result"
    }
   ],
   "source": [
    "text_replace2 = re.sub('\\n\\n\\n', '\\n\\n', text_del_num_comma)\n",
    "text_replace2"
   ]
  },
  {
   "cell_type": "code",
   "execution_count": 162,
   "metadata": {},
   "outputs": [
    {
     "name": "stdout",
     "output_type": "stream",
     "text": [
      "崔宋祚\n",
      "李建佳\n",
      "袁浩\n",
      "唐陆瑶\n",
      "李飞锐\n",
      "李同\n",
      "\n",
      "周旭峰\n",
      "赵志明\n",
      "王东旭\n",
      "李俊\n",
      "翟文卓\n",
      "武川杰\n",
      "\n",
      "于正洋\n",
      "冯伟\n",
      "陈大帆\n",
      "郝泽华\n",
      "邱子良\n",
      "\n",
      "刘杭成\n",
      "赵逸群\n",
      "廖占\n",
      "单鼎丞\n",
      "马轲\n",
      "\n",
      "郑亚楠\n",
      "蔡晨溪\n",
      "朱映雪\n",
      "李胜男\n",
      "柳一洋\n",
      "\n",
      "孙庆虎\n",
      "董志东\n",
      "雷东昌\n",
      "鲁飞鸿\n",
      "李康\n",
      "\n",
      "路凯\n",
      "马兰\n",
      "张祖磊\n",
      "黎兰慧\n",
      "惠子津\n",
      "\n",
      "田彪\n",
      "钱若浩\n",
      "党敏\n",
      "陈世宇\n",
      "张宇璇\n",
      "\n",
      "崔双栋\n",
      "钱瑞\n",
      "熊雷\n",
      "颜凌云\n",
      "杨汉雄\n",
      "许宁舟\n",
      "\n",
      "蒋小明\n",
      "杨攀泉\n",
      "李珺\n",
      "张迅华\n",
      "李林昊\n",
      "\n",
      "\n"
     ]
    }
   ],
   "source": [
    "print(text_replace2)"
   ]
  },
  {
   "cell_type": "code",
   "execution_count": 160,
   "metadata": {},
   "outputs": [
    {
     "name": "stdout",
     "output_type": "stream",
     "text": [
      "崔宋祚\t李建佳\t袁浩\t唐陆瑶\t李飞锐\t李同\n",
      "周旭峰\t赵志明\t王东旭\t李俊\t翟文卓\t武川杰\n",
      "于正洋\t冯伟\t陈大帆\t郝泽华\t邱子良\n",
      "刘杭成\t赵逸群\t廖占\t单鼎丞\t马轲\n",
      "郑亚楠\t蔡晨溪\t朱映雪\t李胜男\t柳一洋\n",
      "孙庆虎\t董志东\t雷东昌\t鲁飞鸿\t李康\n",
      "路凯\t马兰\t张祖磊\t黎兰慧\t惠子津\n",
      "田彪\t钱若浩\t党敏\t陈世宇\t张宇璇\n",
      "崔双栋\t钱瑞\t熊雷\t颜凌云\t杨汉雄\t许宁舟\n",
      "蒋小明\t杨攀泉\t李珺\t张迅华\t李林昊\n",
      "\n"
     ]
    }
   ],
   "source": [
    "text_replace3 = re.sub('\\n', '\\t', text_replace2)\n",
    "text_replace3 = re.sub('\\t\\t', '\\n', text_replace3)\n",
    "print(text_replace3)  # 可直接复制为文本格式然后再放入Excel即可"
   ]
  },
  {
   "cell_type": "code",
   "execution_count": 158,
   "metadata": {},
   "outputs": [],
   "source": [
    "f=open(r\"datasets/myfile/test.csv\",'w')\n",
    "f.write(text_replace3)\n",
    "f.close()"
   ]
  },
  {
   "cell_type": "markdown",
   "metadata": {},
   "source": [
    "## 去除引用标记[ ]"
   ]
  },
  {
   "cell_type": "code",
   "execution_count": 8,
   "metadata": {},
   "outputs": [],
   "source": [
    "import re"
   ]
  },
  {
   "cell_type": "code",
   "execution_count": 39,
   "metadata": {
    "run_control": {
     "marked": true
    }
   },
   "outputs": [],
   "source": [
    "text_input = '''\n",
    "Automattic Inc. is an American global distributed company which was founded in August 2005 and is most notable for WordPress.com (a freemium blogging service), as well as its contributions to WordPress (an open source blogging software). The company's name is a play on its founder's first name, Matt.\n",
    "\n",
    "Automattic raised US$617.3 million in six funding rounds. In the last round, in September 2019, the company was valued at US$3 billion.[1]\n",
    "\n",
    "The company had 1,184 employees as of May 2020.[2] Its remote working culture was the topic of a participative journalism project by Scott Berkun, resulting in the 2013 book The Year Without Pants: WordPress.com and the Future of Work.[3]\n",
    "'''"
   ]
  },
  {
   "cell_type": "code",
   "execution_count": 40,
   "metadata": {},
   "outputs": [],
   "source": [
    "pattern = r'\\[\\d+\\]'\n"
   ]
  },
  {
   "cell_type": "code",
   "execution_count": 1,
   "metadata": {},
   "outputs": [
    {
     "ename": "NameError",
     "evalue": "name 're' is not defined",
     "output_type": "error",
     "traceback": [
      "\u001b[0;31m---------------------------------------------------------------------------\u001b[0m",
      "\u001b[0;31mNameError\u001b[0m                                 Traceback (most recent call last)",
      "\u001b[0;32m<ipython-input-1-621b6bd1ac28>\u001b[0m in \u001b[0;36m<module>\u001b[0;34m\u001b[0m\n\u001b[0;32m----> 1\u001b[0;31m \u001b[0mtext_del_inf\u001b[0m \u001b[0;34m=\u001b[0m \u001b[0mre\u001b[0m\u001b[0;34m.\u001b[0m\u001b[0msub\u001b[0m\u001b[0;34m(\u001b[0m\u001b[0mpattern\u001b[0m\u001b[0;34m,\u001b[0m \u001b[0;34m''\u001b[0m\u001b[0;34m,\u001b[0m \u001b[0mtext_input\u001b[0m\u001b[0;34m)\u001b[0m\u001b[0;34m\u001b[0m\u001b[0;34m\u001b[0m\u001b[0m\n\u001b[0m\u001b[1;32m      2\u001b[0m \u001b[0mprint\u001b[0m\u001b[0;34m(\u001b[0m\u001b[0mtext_del_inf\u001b[0m\u001b[0;34m)\u001b[0m\u001b[0;34m\u001b[0m\u001b[0;34m\u001b[0m\u001b[0m\n",
      "\u001b[0;31mNameError\u001b[0m: name 're' is not defined"
     ]
    }
   ],
   "source": [
    "text_del_inf = re.sub(pattern, '', text_input)\n",
    "print(text_del_inf)"
   ]
  },
  {
   "cell_type": "markdown",
   "metadata": {},
   "source": [
    "## 中文符号变英文符号, 复制到剪切板"
   ]
  },
  {
   "cell_type": "code",
   "execution_count": 73,
   "metadata": {},
   "outputs": [],
   "source": [
    "import re\n",
    "import pyperclip"
   ]
  },
  {
   "cell_type": "code",
   "execution_count": 78,
   "metadata": {},
   "outputs": [
    {
     "name": "stdout",
     "output_type": "stream",
     "text": [
      "INPUT TEXT总 结 与 展 望量 子 机 器 学 习 是 结 合 量 子 力 学 原 理 和 机 器 学 习的 交 叉 研 究 领 域 ,其 研 究 意 义 和 价 值 为 :第 一 ,利 用量 子 计 算 的 高 并 行 性 ,提 高 机 器 学 习 面 对 大 数 据 的处 理 、分 析 和 挖 掘 能 力 ,如 Lloyd 等 人 的 研 究[18];第二 ,借 鉴 量 子 力 学 原 理 ,促 进 新 型 机 器 学 习 算 法 的 产生 ,如 W iebe 等 人 的 工 作[112];第 三 ,借 鉴 传 统 机 器学 习 算 法 ,提 出 量 子 力 学 领 域 新 的 研 究 方 法 ,如 提 出新 的 量 子 断 层 分 析 方 法[68].量 子 机 器 学 习 的 研 究 与进 展 ,给 众 多 的 研 究 者 带 来 了 无 限 的 希 望 和 憧 憬 .让大 家 感 受 到 了 量 子 计 算 的 巨 大 威 力 ,虽 然 这 仅 仅 是量 子 计 算 能 力 的 冰 山 一 角 ,但 是 我 们 需 要 更 加 需 要理 性 的 看 待 它 .因 为 ,在 通 用 量 子 计 算 机 建 造 成 功 之前 ,量 子 算 法 还 很 难 在 实 际 应 用 中 展 现 出 其 数 据 处理 方 面 强 大 的 能 力 .目 前 ,量 子 机 器 学 习 还 有 如 下 问题 需 要 突 破 : (1) 量 子 机 器 学 习 算 法 的 发 展 还 处 于 一 个 相 当初 级 的 阶 段 ,并 没 有 如 传 统 机 器 学 习 领 域 较 为 完 备的 理 论 框 架 加 以 指 导 研 究 .使 用 量 子 特 性 进 行 机 器学 习 算 法 的 研 究 大 多 还 处 于 理 论 阶 段 ,只 有 少 部 分论 文 提 及 具 体 算 法 的 实 现 及 验 证 .虽 然 理 论 上 已 经证 明 量 子 算 法 对 部 分 经 典 计 算 问 题 有 着 可 喜 的 提 速效 果 ,但 是 大 多 算 法 并 未 在 量 子 环 境 下 运 行 ,只 能 通过 模 拟 的 方 法 实 现 ,故 难 以 展 现 其 真 正 的 数 据 处 理能 力 . (2) 经 典 信 息 到 量 子 信 息 的 转 换 研 究 中 ,大 多9 5 1 1 期黄 一 鸣 等 : 量 子 机 器 学 习 算 法 综 述《 计 算 机 学 报 》数 工 作 基 于 Lloyd 等 人 提 出 的 Q R A M ,将 经 典 信 息编 码 到 量 子 概 率 幅 .但 A dcock 等 人 指 出 Q R A M 在具 体 物 理 实 现 上 仍 有 许 多 问 题 未 能 解 决 ,例 如 量 子的 退 相 干 效 应 ,所 以 这 种 读 写 方 案 在 实 际 中 是 很 难实 现 的[7].虽 然 有 研 究 人 员 对 Q R A M 进 行 了 分 析与 改 进 ,从 不 同 方 面 进 行 了 相 关 尝 试[113114],但 依 旧未 做 出 能 够 有 效 存 储 任 意 量 子 态 的 Q R A M 方 法 的物 理 实 现 . (3) 在 量 子 机 器 学 习 算 法 的 设 计 上 ,A dcock 也指 出 将 数 据 编 码 到 概 率 幅 上 会 导 致 产 生 巨 大 Hi lbert 空 间[7].由 于 从 量 子 信 息 中 提 取 出 经 典 信 息 主 要 通过 量 子 测 量 操 作 ,巨 大 的 Hi lbert 空 间 将 导 致 量 子测 量 难 以 提 取 出 经 典 信 息 . 近 年 来 量 子 机 器 学 习 吸 引 着 越 来 越 多 的 科 研 团队 (如 M IT Seth Lloyd,O xford U niversi ty Q uantu m O ptimization and M achine Learning G roup 等 )、企 业 ( 如G oogle Q uantu m A .I . Lab, Q uantu m A rchitectures and Co m putation Group 等 ) 和 个 体研 究 者 ,该 领 域 的 研 究 不 仅 可 以 推 动 机 器 学 习 发 展 , 提 高 机 器 学 习 的 学 习 效 率 和 学 习 精 度 ,也 可 促 进 量子 世 界 的 繁 荣 发 展 .加 之 ,大 数 据 时 代 来 临 、人 工 智能 方 兴 未 艾 ,这 些 都 是 推 动 量 子 机 器 学 习 发 展 的 内在 动 力 .综 上 所 述 ,未 来 量 子 机 器 学 习 的 研 究 令 人 振奋 ,同 时 也 充 满 挑 战\n"
     ]
    }
   ],
   "source": [
    "text_input =  input('INPUT TEXT')"
   ]
  },
  {
   "cell_type": "code",
   "execution_count": 79,
   "metadata": {
    "scrolled": true
   },
   "outputs": [
    {
     "name": "stdout",
     "output_type": "stream",
     "text": [
      "总结与展望量子机器学习是结合量子力学原理和机器学习的交叉研究领域，其研究意义和价值为:第一，利用量子计算的高并行性，提高机器学习面对大数据的处理、分析和挖掘能力，如Lloyd等人的研究；第二，借鉴量子力学原理，促进新型机器学习算法的产生，如Wiebe等人的工作；第三，借鉴传统机器学习算法，提出量子力学领域新的研究方法，如提出新的量子断层分析方法。量子机器学习的研究与进展，给众多的研究者带来了无限的希望和憧憬。让大家感受到了量子计算的巨大威力，虽然这仅仅是量子计算能力的冰山一角，但是我们需要更加需要理性的看待它。因为，在通用量子计算机建造成功之前，量子算法还很难在实际应用中展现出其数据处理方面强大的能力。目前，量子机器学习还有如下问题需要突破:（1）量子机器学习算法的发展还处于一个相当初级的阶段，并没有如传统机器学习领域较为完备的理论框架加以指导研究。使用量子特性进行机器学习算法的研究大多还处于理论阶段，只有少部分论文提及具体算法的实现及验证。虽然理论上已经证明量子算法对部分经典计算问题有着可喜的提速效果，但是大多算法并未在量子环境下运行，只能通过模拟的方法实现，故难以展现其真正的数据处理能力。（2）经典信息到量子信息的转换研究中，大多9511期黄一鸣等:量子机器学习算法综述《计算机学报》数工作基于Lloyd等人提出的QRAM，将经典信息编码到量子概率幅。但Adcock等人指出QRAM在具体物理实现上仍有许多问题未能解决，例如量子的退相干效应，所以这种读写方案在实际中是很难实现的。虽然有研究人员对QRAM进行了分析与改进，从不同方面进行了相关尝试[113114]，但依旧未做出能够有效存储任意量子态的QRAM方法的物理实现。（3）在量子机器学习算法的设计上，Adcock也指出将数据编码到概率幅上会导致产生巨大Hilbert空间。由于从量子信息中提取出经典信息主要通过量子测量操作，巨大的Hilbert空间将导致量子测量难以提取出经典信息。近年来量子机器学习吸引着越来越多的科研团队（如MITSethLloyd，OxfordUniversityQuantumOptimizationandMachineLearningGroup等）、企业（如GoogleQuantumA。I。Lab，QuantumArchitecturesandComputationGroup等）和个体研究者，该领域的研究不仅可以推动机器学习发展，提高机器学习的学习效率和学习精度，也可促进量子世界的繁荣发展。加之，大数据时代来临、人工智能方兴未艾，这些都是推动量子机器学习发展的内在动力。综上所述，未来量子机器学习的研究令人振奋，同时也充满挑战 \n",
      "已复制到clipboard\n"
     ]
    }
   ],
   "source": [
    "text_input = text_input.replace(' ','')\n",
    "text_input = text_input.replace('.', '。').replace(',', '，').replace('(','（').replace(')','）').replace(';','；')\n",
    "\n",
    "## batch processing, time consuming lower  \n",
    "# for ch in ['\\\\','`','*','_','{','}','[',']','(',')','>','#','+','-','.','!','$','\\'']:\n",
    "#     if ch in text_input:\n",
    "#         text_chinese2eng = text_input.replace(ch,\"\\\\\"+ch)\n",
    "\n",
    "pattern = r'\\[\\d+\\]'\n",
    "text_del_inf = re.sub(pattern, '', text_input)\n",
    "\n",
    "pyperclip.copy(text_del_inf)\n",
    "spam = pyperclip.paste()\n",
    "\n",
    "print(spam, \"\\n已复制到clipboard\")"
   ]
  },
  {
   "cell_type": "markdown",
   "metadata": {},
   "source": [
    "## Leetcode Markdown标题生成\n",
    "示例：\n",
    "```\n",
    "## 2020-07-20 14:03 72. 编辑距离\n",
    "给你两个单词 word1 和 word2，请你计算出将 word1 转换成 word2 所使用的最少操作数 。\n",
    "\n",
    "你可以对一个单词进行如下三种操作：\n",
    "\n",
    "插入一个字符\n",
    "删除一个字符\n",
    "替换一个字符\n",
    " \n",
    "\n",
    "示例 1：\n",
    "\n",
    "输入：word1 = \"horse\", word2 = \"ros\"\n",
    "输出：3\n",
    "解释：\n",
    "horse -> rorse (将 'h' 替换为 'r')\n",
    "rorse -> rose (删除 'r')\n",
    "rose -> ros (删除 'e')\n",
    "示例 2：\n",
    "\n",
    "输入：word1 = \"intention\", word2 = \"execution\"\n",
    "输出：5\n",
    "解释：\n",
    "intention -> inention (删除 't')\n",
    "inention -> enention (将 'i' 替换为 'e')\n",
    "enention -> exention (将 'n' 替换为 'x')\n",
    "exention -> exection (将 'n' 替换为 'c')\n",
    "exection -> execution (插入 'u')\n",
    "\n",
    "```"
   ]
  },
  {
   "cell_type": "code",
   "execution_count": 7,
   "metadata": {},
   "outputs": [],
   "source": [
    "import re\n",
    "import pyperclip\n",
    "import time\n",
    "\n",
    "text_input =  pyperclip.paste()\n",
    "text_input_fin = text_input.replace('示例', '```\\n'+'示例',1)\n",
    "\n",
    "local_time = time.strftime('%Y-%m-%d %H:%M ', time.localtime())\n",
    "text = '## ' + local_time + text_input_fin + '\\n```'\n",
    "\n",
    "pyperclip.copy(text)\n",
    "spam = pyperclip.paste()\n",
    "\n",
    "print(spam, \"\\n\\n已复制到clipboard\")"
   ]
  },
  {
   "cell_type": "markdown",
   "metadata": {},
   "source": [
    "# 奇怪的python程序系列"
   ]
  },
  {
   "cell_type": "code",
   "execution_count": 1,
   "metadata": {},
   "outputs": [],
   "source": [
    "import antigravity"
   ]
  },
  {
   "cell_type": "code",
   "execution_count": 48,
   "metadata": {},
   "outputs": [
    {
     "name": "stdout",
     "output_type": "stream",
     "text": [
      "The Zen of Python, by Tim Peters\n",
      "\n",
      "Beautiful is better than ugly.\n",
      "Explicit is better than implicit.\n",
      "Simple is better than complex.\n",
      "Complex is better than complicated.\n",
      "Flat is better than nested.\n",
      "Sparse is better than dense.\n",
      "Readability counts.\n",
      "Special cases aren't special enough to break the rules.\n",
      "Although practicality beats purity.\n",
      "Errors should never pass silently.\n",
      "Unless explicitly silenced.\n",
      "In the face of ambiguity, refuse the temptation to guess.\n",
      "There should be one-- and preferably only one --obvious way to do it.\n",
      "Although that way may not be obvious at first unless you're Dutch.\n",
      "Now is better than never.\n",
      "Although never is often better than *right* now.\n",
      "If the implementation is hard to explain, it's a bad idea.\n",
      "If the implementation is easy to explain, it may be a good idea.\n",
      "Namespaces are one honking great idea -- let's do more of those!\n"
     ]
    }
   ],
   "source": [
    "import this"
   ]
  },
  {
   "cell_type": "code",
   "execution_count": null,
   "metadata": {},
   "outputs": [],
   "source": []
  },
  {
   "cell_type": "code",
   "execution_count": 4,
   "metadata": {},
   "outputs": [],
   "source": [
    "# about love\n",
    "love = this"
   ]
  },
  {
   "cell_type": "code",
   "execution_count": 5,
   "metadata": {},
   "outputs": [
    {
     "data": {
      "text/plain": [
       "True"
      ]
     },
     "execution_count": 5,
     "metadata": {},
     "output_type": "execute_result"
    }
   ],
   "source": [
    "this is love"
   ]
  },
  {
   "cell_type": "code",
   "execution_count": 7,
   "metadata": {},
   "outputs": [
    {
     "data": {
      "text/plain": [
       "True"
      ]
     },
     "execution_count": 7,
     "metadata": {},
     "output_type": "execute_result"
    }
   ],
   "source": [
    "love is not True or False"
   ]
  },
  {
   "cell_type": "code",
   "execution_count": 2,
   "metadata": {},
   "outputs": [
    {
     "ename": "NameError",
     "evalue": "name 'love' is not defined",
     "output_type": "error",
     "traceback": [
      "\u001b[0;31m---------------------------------------------------------------------------\u001b[0m",
      "\u001b[0;31mNameError\u001b[0m                                 Traceback (most recent call last)",
      "\u001b[0;32m<ipython-input-2-65a4768f5020>\u001b[0m in \u001b[0;36m<module>\u001b[0;34m\u001b[0m\n\u001b[0;32m----> 1\u001b[0;31m \u001b[0mlove\u001b[0m \u001b[0;32mis\u001b[0m \u001b[0mlove\u001b[0m\u001b[0;34m\u001b[0m\u001b[0;34m\u001b[0m\u001b[0m\n\u001b[0m",
      "\u001b[0;31mNameError\u001b[0m: name 'love' is not defined"
     ]
    }
   ],
   "source": [
    "love is love"
   ]
  },
  {
   "cell_type": "markdown",
   "metadata": {},
   "source": [
    "# 数据输出"
   ]
  },
  {
   "cell_type": "code",
   "execution_count": 4,
   "metadata": {},
   "outputs": [
    {
     "name": "stdout",
     "output_type": "stream",
     "text": [
      "F0 1  d_mean: 1\n"
     ]
    }
   ],
   "source": [
    "# 保存到mat\n",
    "    import scipy.io as sio\n",
    "    \n",
    "    F_num = 1\n",
    "    d_mean = 1\n",
    "    d_max = 2\n",
    "    answer_data={'d_mean':d_mean,'d_max':d_max}\n",
    "    save_name='PSO2_F0'+str(F_num)+'_answer.mat'\n",
    "    sio.savemat(save_name,answer_data)\n",
    "    print('F0',F_num, ' d_mean:',d_mean)"
   ]
  },
  {
   "cell_type": "code",
   "execution_count": 6,
   "metadata": {},
   "outputs": [
    {
     "name": "stdout",
     "output_type": "stream",
     "text": [
      "d_mean: [[1]] d_max: [[2]]\n",
      "end\n"
     ]
    }
   ],
   "source": [
    "# 读取mat\n",
    "import scipy.io as sio\n",
    "filename='PSO2_F01_answer.mat'\n",
    "data=sio.loadmat(filename)\n",
    "d_mean=data['d_mean']\n",
    "d_max=data['d_max']\n",
    "print('d_mean:',d_mean, 'd_max:',d_max,)\n",
    "print('end')"
   ]
  },
  {
   "cell_type": "markdown",
   "metadata": {},
   "source": [
    "# 计算\n",
    "## 绩点计算"
   ]
  },
  {
   "cell_type": "code",
   "execution_count": 29,
   "metadata": {},
   "outputs": [
    {
     "name": "stdout",
     "output_type": "stream",
     "text": [
      "PLEASE INPUT: \"score,weight\"87,1\n",
      "[(87, 1)]\n",
      "PLEASE INPUT: \"score,weight\"75,1\n",
      "[(87, 1), (75, 1)]\n",
      "PLEASE INPUT: \"score,weight\"64,2\n",
      "[(87, 1), (75, 1), (64, 2)]\n",
      "PLEASE INPUT: \"score,weight\"99,1\n",
      "[(87, 1), (75, 1), (64, 2), (99, 1)]\n",
      "PLEASE INPUT: \"score,weight\"99,3\n",
      "[(87, 1), (75, 1), (64, 2), (99, 1), (99, 3)]\n",
      "PLEASE INPUT: \"score,weight\"86,3\n",
      "[(87, 1), (75, 1), (64, 2), (99, 1), (99, 3), (86, 3)]\n",
      "PLEASE INPUT: \"score,weight\"80,1\n",
      "[(87, 1), (75, 1), (64, 2), (99, 1), (99, 3), (86, 3), (80, 1)]\n",
      "PLEASE INPUT: \"score,weight\"97,3\n",
      "[(87, 1), (75, 1), (64, 2), (99, 1), (99, 3), (86, 3), (80, 1), (97, 3)]\n",
      "PLEASE INPUT: \"score,weight\"92,1\n",
      "[(87, 1), (75, 1), (64, 2), (99, 1), (99, 3), (86, 3), (80, 1), (97, 3), (92, 1)]\n",
      "PLEASE INPUT: \"score,weight\"97,3\n",
      "[(87, 1), (75, 1), (64, 2), (99, 1), (99, 3), (86, 3), (80, 1), (97, 3), (92, 1), (97, 3)]\n",
      "PLEASE INPUT: \"score,weight\"\n"
     ]
    }
   ],
   "source": [
    "score = True\n",
    "score_all = list()\n",
    "while score:\n",
    "    score = input(\"PLEASE INPUT: \\\"score,weight;score,weight;... \\\"\")\n",
    "    if not score: break\n",
    "    score_tup = (int(score.split(',')[0]),int(score.split(',')[1]))\n",
    "    score_all.append(score_tup)\n",
    "    print(score_all)"
   ]
  },
  {
   "cell_type": "code",
   "execution_count": 30,
   "metadata": {},
   "outputs": [
    {
     "name": "stdout",
     "output_type": "stream",
     "text": [
      "均分（所有的成绩*其学分/总学分）： 89.36842105263158\n",
      "绩点： 89.36842105263158\n"
     ]
    }
   ],
   "source": [
    "ans = 0\n",
    "w_sum = 0\n",
    "cnt = 0\n",
    "for s, w in score_all:\n",
    "    ans += s * w\n",
    "    w_sum += w\n",
    "    cnt += 1\n",
    "\n",
    "print(\"均分（所有的成绩*其学分/总学分）：\",ans/w_sum)\n",
    "print(\"绩点：\",ans/w_sum)"
   ]
  },
  {
   "cell_type": "code",
   "execution_count": null,
   "metadata": {},
   "outputs": [],
   "source": []
  }
 ],
 "metadata": {
  "hide_input": false,
  "kernelspec": {
   "display_name": "Python 3",
   "language": "python",
   "name": "python3"
  },
  "language_info": {
   "codemirror_mode": {
    "name": "ipython",
    "version": 3
   },
   "file_extension": ".py",
   "mimetype": "text/x-python",
   "name": "python",
   "nbconvert_exporter": "python",
   "pygments_lexer": "ipython3",
   "version": "3.7.6"
  },
  "toc": {
   "base_numbering": 1,
   "nav_menu": {},
   "number_sections": true,
   "sideBar": true,
   "skip_h1_title": false,
   "title_cell": "Table of Contents",
   "title_sidebar": "Contents",
   "toc_cell": false,
   "toc_position": {},
   "toc_section_display": true,
   "toc_window_display": false
  },
  "varInspector": {
   "cols": {
    "lenName": 16,
    "lenType": 16,
    "lenVar": 40
   },
   "kernels_config": {
    "python": {
     "delete_cmd_postfix": "",
     "delete_cmd_prefix": "del ",
     "library": "var_list.py",
     "varRefreshCmd": "print(var_dic_list())"
    },
    "r": {
     "delete_cmd_postfix": ") ",
     "delete_cmd_prefix": "rm(",
     "library": "var_list.r",
     "varRefreshCmd": "cat(var_dic_list()) "
    }
   },
   "types_to_exclude": [
    "module",
    "function",
    "builtin_function_or_method",
    "instance",
    "_Feature"
   ],
   "window_display": false
  }
 },
 "nbformat": 4,
 "nbformat_minor": 2
}
